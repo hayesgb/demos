{
 "cells": [
  {
   "cell_type": "markdown",
   "metadata": {},
   "source": [
    "# Deploy a Serverless Model Server with Nuclio-KFServing\n",
    "  --------------------------------------------------------------------\n",
    "\n",
    "The following notebook demonstrates how to deploy **any pickled model** using **[nuclio](https://github.com/nuclio/nuclio)** + **[KFServing](https://github.com/kubeflow/kfserving)** (a.k.a <b>Nuclio-serving</b>)\n",
    "\n",
    "#### **notebook how-to's**\n",
    "* Write and test model serving (KFServing) class in a notebook.\n",
    "* Deploy the model server as a Nuclio-serving function.\n",
    "* Invoke and test the serving function."
   ]
  },
  {
   "cell_type": "markdown",
   "metadata": {},
   "source": [
    "<a id='top'></a>\n",
    "#### **steps**\n",
    "**[define a new function and its dependencies](#define-function)**<br>\n",
    "**[test the model serving class locally](#test-locally)**<br>\n",
    "**[deploy our serving class using as a serverless function](#deploy)**<br>\n",
    "**[test our model server using HTTP request](#test-model-server)**<br>"
   ]
  },
  {
   "cell_type": "code",
   "execution_count": 1,
   "metadata": {},
   "outputs": [],
   "source": [
    "# nuclio: ignore\n",
    "# if the nuclio-jupyter package is not installed run !pip install nuclio-jupyter\n",
    "import nuclio"
   ]
  },
  {
   "cell_type": "code",
   "execution_count": 19,
   "metadata": {},
   "outputs": [
    {
     "name": "stdout",
     "output_type": "stream",
     "text": [
      "Requirement already satisfied: kfserving in /User/.pythonlibs/jupyter-1/lib/python3.6/site-packages (0.2.2.1)\n",
      "Requirement already satisfied: google-cloud-storage>=1.16.0 in /User/.pythonlibs/jupyter-1/lib/python3.6/site-packages (from kfserving) (1.25.0)\n",
      "Collecting kubernetes>=10.0.1\n",
      "  Using cached kubernetes-10.0.1-py2.py3-none-any.whl (1.5 MB)\n",
      "Requirement already satisfied: adal>=1.2.2 in /User/.pythonlibs/jupyter-1/lib/python3.6/site-packages (from kfserving) (1.2.2)\n",
      "Requirement already satisfied: setuptools>=21.0.0 in /conda/lib/python3.6/site-packages (from kfserving) (45.1.0.post20200127)\n",
      "Requirement already satisfied: tornado>=1.4.1 in /User/.pythonlibs/jupyter-1/lib/python3.6/site-packages (from kfserving) (6.0.3)\n",
      "Requirement already satisfied: certifi>=14.05.14 in /User/.pythonlibs/jupyter-1/lib/python3.6/site-packages (from kfserving) (2019.11.28)\n",
      "Requirement already satisfied: python-dateutil>=2.5.3 in /User/.pythonlibs/jupyter-1/lib/python3.6/site-packages (from kfserving) (2.8.1)\n",
      "Requirement already satisfied: urllib3>=1.15.1 in /User/.pythonlibs/jupyter-1/lib/python3.6/site-packages (from kfserving) (1.24.3)\n",
      "Requirement already satisfied: table-logger>=0.3.5 in /User/.pythonlibs/jupyter-1/lib/python3.6/site-packages (from kfserving) (0.3.6)\n",
      "Requirement already satisfied: azure-storage-blob<=2.1.0,>=1.3.0 in /User/.pythonlibs/jupyter-1/lib/python3.6/site-packages (from kfserving) (1.5.0)\n",
      "Requirement already satisfied: numpy>=1.17.3 in /User/.pythonlibs/jupyter-1/lib/python3.6/site-packages (from kfserving) (1.17.4)\n",
      "Requirement already satisfied: six>=1.10 in /User/.pythonlibs/jupyter-1/lib/python3.6/site-packages (from kfserving) (1.14.0)\n",
      "Requirement already satisfied: minio>=4.0.9 in /User/.pythonlibs/jupyter-1/lib/python3.6/site-packages (from kfserving) (5.0.7)\n",
      "Requirement already satisfied: argparse>=1.4.0 in /User/.pythonlibs/jupyter-1/lib/python3.6/site-packages (from kfserving) (1.4.0)\n",
      "Requirement already satisfied: google-cloud-core<2.0dev,>=1.2.0 in /User/.pythonlibs/jupyter-1/lib/python3.6/site-packages (from google-cloud-storage>=1.16.0->kfserving) (1.3.0)\n",
      "Requirement already satisfied: google-auth<2.0dev,>=1.9.0 in /User/.pythonlibs/jupyter-1/lib/python3.6/site-packages (from google-cloud-storage>=1.16.0->kfserving) (1.11.0)\n",
      "Requirement already satisfied: google-resumable-media<0.6dev,>=0.5.0 in /User/.pythonlibs/jupyter-1/lib/python3.6/site-packages (from google-cloud-storage>=1.16.0->kfserving) (0.5.0)\n",
      "Requirement already satisfied: pyyaml>=3.12 in /User/.pythonlibs/jupyter-1/lib/python3.6/site-packages (from kubernetes>=10.0.1->kfserving) (5.3)\n",
      "Requirement already satisfied: requests-oauthlib in /User/.pythonlibs/jupyter-1/lib/python3.6/site-packages (from kubernetes>=10.0.1->kfserving) (1.3.0)\n",
      "Requirement already satisfied: websocket-client!=0.40.0,!=0.41.*,!=0.42.*,>=0.32.0 in /User/.pythonlibs/jupyter-1/lib/python3.6/site-packages (from kubernetes>=10.0.1->kfserving) (0.57.0)\n",
      "Requirement already satisfied: requests in /User/.pythonlibs/jupyter-1/lib/python3.6/site-packages (from kubernetes>=10.0.1->kfserving) (2.22.0)\n",
      "Requirement already satisfied: cryptography>=1.1.0 in /User/.pythonlibs/jupyter-1/lib/python3.6/site-packages (from adal>=1.2.2->kfserving) (2.8)\n",
      "Requirement already satisfied: PyJWT>=1.0.0 in /User/.pythonlibs/jupyter-1/lib/python3.6/site-packages (from adal>=1.2.2->kfserving) (1.7.1)\n",
      "Requirement already satisfied: azure-storage-common~=1.4 in /User/.pythonlibs/jupyter-1/lib/python3.6/site-packages (from azure-storage-blob<=2.1.0,>=1.3.0->kfserving) (1.4.2)\n",
      "Requirement already satisfied: azure-common>=1.1.5 in /User/.pythonlibs/jupyter-1/lib/python3.6/site-packages (from azure-storage-blob<=2.1.0,>=1.3.0->kfserving) (1.1.24)\n",
      "Requirement already satisfied: configparser in /User/.pythonlibs/jupyter-1/lib/python3.6/site-packages (from minio>=4.0.9->kfserving) (4.0.2)\n",
      "Requirement already satisfied: pytz in /User/.pythonlibs/jupyter-1/lib/python3.6/site-packages (from minio>=4.0.9->kfserving) (2019.3)\n",
      "Requirement already satisfied: google-api-core<2.0.0dev,>=1.16.0 in /User/.pythonlibs/jupyter-1/lib/python3.6/site-packages (from google-cloud-core<2.0dev,>=1.2.0->google-cloud-storage>=1.16.0->kfserving) (1.16.0)\n",
      "Requirement already satisfied: pyasn1-modules>=0.2.1 in /User/.pythonlibs/jupyter-1/lib/python3.6/site-packages (from google-auth<2.0dev,>=1.9.0->google-cloud-storage>=1.16.0->kfserving) (0.2.8)\n",
      "Requirement already satisfied: cachetools<5.0,>=2.0.0 in /User/.pythonlibs/jupyter-1/lib/python3.6/site-packages (from google-auth<2.0dev,>=1.9.0->google-cloud-storage>=1.16.0->kfserving) (4.0.0)\n",
      "Requirement already satisfied: rsa<4.1,>=3.1.4 in /User/.pythonlibs/jupyter-1/lib/python3.6/site-packages (from google-auth<2.0dev,>=1.9.0->google-cloud-storage>=1.16.0->kfserving) (4.0)\n",
      "Requirement already satisfied: oauthlib>=3.0.0 in /User/.pythonlibs/jupyter-1/lib/python3.6/site-packages (from requests-oauthlib->kubernetes>=10.0.1->kfserving) (3.1.0)\n",
      "Requirement already satisfied: chardet<3.1.0,>=3.0.2 in /User/.pythonlibs/jupyter-1/lib/python3.6/site-packages (from requests->kubernetes>=10.0.1->kfserving) (3.0.4)\n",
      "Requirement already satisfied: idna<2.9,>=2.5 in /User/.pythonlibs/jupyter-1/lib/python3.6/site-packages (from requests->kubernetes>=10.0.1->kfserving) (2.8)\n",
      "Requirement already satisfied: cffi!=1.11.3,>=1.8 in /User/.pythonlibs/jupyter-1/lib/python3.6/site-packages (from cryptography>=1.1.0->adal>=1.2.2->kfserving) (1.14.0)\n",
      "Requirement already satisfied: protobuf>=3.4.0 in /User/.pythonlibs/jupyter-1/lib/python3.6/site-packages (from google-api-core<2.0.0dev,>=1.16.0->google-cloud-core<2.0dev,>=1.2.0->google-cloud-storage>=1.16.0->kfserving) (3.11.3)\n",
      "Requirement already satisfied: googleapis-common-protos<2.0dev,>=1.6.0 in /User/.pythonlibs/jupyter-1/lib/python3.6/site-packages (from google-api-core<2.0.0dev,>=1.16.0->google-cloud-core<2.0dev,>=1.2.0->google-cloud-storage>=1.16.0->kfserving) (1.51.0)\n",
      "Requirement already satisfied: pyasn1<0.5.0,>=0.4.6 in /User/.pythonlibs/jupyter-1/lib/python3.6/site-packages (from pyasn1-modules>=0.2.1->google-auth<2.0dev,>=1.9.0->google-cloud-storage>=1.16.0->kfserving) (0.4.8)\n",
      "Requirement already satisfied: pycparser in /User/.pythonlibs/jupyter-1/lib/python3.6/site-packages (from cffi!=1.11.3,>=1.8->cryptography>=1.1.0->adal>=1.2.2->kfserving) (2.19)\n",
      "\u001b[31mERROR: kfp 0.2.1 has requirement kubernetes<=10.0.0,>=8.0.0, but you'll have kubernetes 10.0.1 which is incompatible.\u001b[0m\n",
      "Installing collected packages: kubernetes\n",
      "  Attempting uninstall: kubernetes\n",
      "    Found existing installation: kubernetes 10.0.0\n",
      "    Uninstalling kubernetes-10.0.0:\n",
      "      Successfully uninstalled kubernetes-10.0.0\n",
      "Successfully installed kubernetes-10.0.1\n",
      "Collecting git+https://github.com/mlrun/mlrun.git@development\n",
      "  Cloning https://github.com/mlrun/mlrun.git (to revision development) to /tmp/pip-req-build-pd11u_4m\n",
      "  Running command git clone -q https://github.com/mlrun/mlrun.git /tmp/pip-req-build-pd11u_4m\n",
      "  Running command git checkout -b development --track origin/development\n",
      "  Switched to a new branch 'development'\n",
      "  Branch development set up to track remote branch development from origin.\n",
      "Requirement already satisfied (use --upgrade to upgrade): mlrun==0.4.4 from git+https://github.com/mlrun/mlrun.git@development in /User/.pythonlibs/jupyter-1/lib/python3.6/site-packages\n",
      "Requirement already satisfied: Flask>=1.1.1 in /User/.pythonlibs/jupyter-1/lib/python3.6/site-packages (from mlrun==0.4.4) (1.1.1)\n",
      "Requirement already satisfied: GitPython>=2.1.0 in /User/.pythonlibs/jupyter-1/lib/python3.6/site-packages (from mlrun==0.4.4) (3.0.7)\n",
      "Requirement already satisfied: aiohttp>=3.5.0 in /User/.pythonlibs/jupyter-1/lib/python3.6/site-packages (from mlrun==0.4.4) (3.6.2)\n",
      "Requirement already satisfied: boto3>=1.9 in /User/.pythonlibs/jupyter-1/lib/python3.6/site-packages (from mlrun==0.4.4) (1.11.15)\n",
      "Requirement already satisfied: click>=7.0 in /User/.pythonlibs/jupyter-1/lib/python3.6/site-packages (from mlrun==0.4.4) (7.0)\n",
      "Requirement already satisfied: croniter==0.3.31 in /User/.pythonlibs/jupyter-1/lib/python3.6/site-packages (from mlrun==0.4.4) (0.3.31)\n",
      "Requirement already satisfied: gevent==1.4.0 in /User/.pythonlibs/jupyter-1/lib/python3.6/site-packages (from mlrun==0.4.4) (1.4.0)\n",
      "Requirement already satisfied: gunicorn==19.9.0 in /User/.pythonlibs/jupyter-1/lib/python3.6/site-packages (from mlrun==0.4.4) (19.9.0)\n",
      "Requirement already satisfied: kfp>=0.1.29 in /User/.pythonlibs/jupyter-1/lib/python3.6/site-packages (from mlrun==0.4.4) (0.2.1)\n",
      "Requirement already satisfied: nest-asyncio>=1.0.0 in /User/.pythonlibs/jupyter-1/lib/python3.6/site-packages (from mlrun==0.4.4) (1.2.3)\n",
      "Requirement already satisfied: nuclio-jupyter>=0.8.0 in /User/.pythonlibs/jupyter-1/lib/python3.6/site-packages (from mlrun==0.4.4) (0.8.1)\n",
      "Requirement already satisfied: nuclio-sdk>=0.0.3 in /User/.pythonlibs/jupyter-1/lib/python3.6/site-packages (from mlrun==0.4.4) (0.0.7)\n",
      "Requirement already satisfied: pandas<1.0.0,>=0.23.0 in /User/.pythonlibs/jupyter-1/lib/python3.6/site-packages (from mlrun==0.4.4) (0.25.3)\n",
      "Requirement already satisfied: pyyaml>=5.1.0 in /User/.pythonlibs/jupyter-1/lib/python3.6/site-packages (from mlrun==0.4.4) (5.3)\n",
      "Requirement already satisfied: requests>=2.20.1 in /User/.pythonlibs/jupyter-1/lib/python3.6/site-packages (from mlrun==0.4.4) (2.22.0)\n",
      "Requirement already satisfied: sqlalchemy>=1.3.0 in /User/.pythonlibs/jupyter-1/lib/python3.6/site-packages (from mlrun==0.4.4) (1.3.11)\n",
      "Requirement already satisfied: tabulate<=0.8.3,>=0.8.0 in /User/.pythonlibs/jupyter-1/lib/python3.6/site-packages (from mlrun==0.4.4) (0.8.3)\n",
      "Requirement already satisfied: Werkzeug>=0.15 in /User/.pythonlibs/jupyter-1/lib/python3.6/site-packages (from Flask>=1.1.1->mlrun==0.4.4) (0.16.1)\n",
      "Requirement already satisfied: itsdangerous>=0.24 in /User/.pythonlibs/jupyter-1/lib/python3.6/site-packages (from Flask>=1.1.1->mlrun==0.4.4) (1.1.0)\n",
      "Requirement already satisfied: Jinja2>=2.10.1 in /User/.pythonlibs/jupyter-1/lib/python3.6/site-packages (from Flask>=1.1.1->mlrun==0.4.4) (2.11.1)\n",
      "Requirement already satisfied: gitdb2>=2.0.0 in /User/.pythonlibs/jupyter-1/lib/python3.6/site-packages (from GitPython>=2.1.0->mlrun==0.4.4) (2.0.6)\n",
      "Requirement already satisfied: typing-extensions>=3.6.5; python_version < \"3.7\" in /User/.pythonlibs/jupyter-1/lib/python3.6/site-packages (from aiohttp>=3.5.0->mlrun==0.4.4) (3.7.4.1)\n",
      "Requirement already satisfied: idna-ssl>=1.0; python_version < \"3.7\" in /User/.pythonlibs/jupyter-1/lib/python3.6/site-packages (from aiohttp>=3.5.0->mlrun==0.4.4) (1.1.0)\n",
      "Requirement already satisfied: attrs>=17.3.0 in /User/.pythonlibs/jupyter-1/lib/python3.6/site-packages (from aiohttp>=3.5.0->mlrun==0.4.4) (19.3.0)\n",
      "Requirement already satisfied: chardet<4.0,>=2.0 in /User/.pythonlibs/jupyter-1/lib/python3.6/site-packages (from aiohttp>=3.5.0->mlrun==0.4.4) (3.0.4)\n",
      "Requirement already satisfied: multidict<5.0,>=4.5 in /User/.pythonlibs/jupyter-1/lib/python3.6/site-packages (from aiohttp>=3.5.0->mlrun==0.4.4) (4.7.4)\n",
      "Requirement already satisfied: yarl<2.0,>=1.0 in /User/.pythonlibs/jupyter-1/lib/python3.6/site-packages (from aiohttp>=3.5.0->mlrun==0.4.4) (1.4.2)\n",
      "Requirement already satisfied: async-timeout<4.0,>=3.0 in /User/.pythonlibs/jupyter-1/lib/python3.6/site-packages (from aiohttp>=3.5.0->mlrun==0.4.4) (3.0.1)\n",
      "Requirement already satisfied: jmespath<1.0.0,>=0.7.1 in /User/.pythonlibs/jupyter-1/lib/python3.6/site-packages (from boto3>=1.9->mlrun==0.4.4) (0.9.4)\n",
      "Requirement already satisfied: s3transfer<0.4.0,>=0.3.0 in /User/.pythonlibs/jupyter-1/lib/python3.6/site-packages (from boto3>=1.9->mlrun==0.4.4) (0.3.3)\n",
      "Requirement already satisfied: botocore<1.15.0,>=1.14.15 in /User/.pythonlibs/jupyter-1/lib/python3.6/site-packages (from boto3>=1.9->mlrun==0.4.4) (1.14.15)\n",
      "Requirement already satisfied: python-dateutil in /User/.pythonlibs/jupyter-1/lib/python3.6/site-packages (from croniter==0.3.31->mlrun==0.4.4) (2.8.1)\n",
      "Requirement already satisfied: greenlet>=0.4.14; platform_python_implementation == \"CPython\" in /User/.pythonlibs/jupyter-1/lib/python3.6/site-packages (from gevent==1.4.0->mlrun==0.4.4) (0.4.15)\n",
      "Requirement already satisfied: urllib3<1.25,>=1.15 in /User/.pythonlibs/jupyter-1/lib/python3.6/site-packages (from kfp>=0.1.29->mlrun==0.4.4) (1.24.3)\n",
      "Requirement already satisfied: jsonschema>=3.0.1 in /User/.pythonlibs/jupyter-1/lib/python3.6/site-packages (from kfp>=0.1.29->mlrun==0.4.4) (3.2.0)\n",
      "Requirement already satisfied: cryptography>=2.4.2 in /User/.pythonlibs/jupyter-1/lib/python3.6/site-packages (from kfp>=0.1.29->mlrun==0.4.4) (2.8)\n",
      "Requirement already satisfied: six>=1.10 in /User/.pythonlibs/jupyter-1/lib/python3.6/site-packages (from kfp>=0.1.29->mlrun==0.4.4) (1.14.0)\n",
      "Collecting kubernetes<=10.0.0,>=8.0.0\n",
      "  Using cached kubernetes-10.0.0-py2.py3-none-any.whl (1.5 MB)\n",
      "Requirement already satisfied: PyJWT>=1.6.4 in /User/.pythonlibs/jupyter-1/lib/python3.6/site-packages (from kfp>=0.1.29->mlrun==0.4.4) (1.7.1)\n",
      "Requirement already satisfied: google-cloud-storage>=1.13.0 in /User/.pythonlibs/jupyter-1/lib/python3.6/site-packages (from kfp>=0.1.29->mlrun==0.4.4) (1.25.0)\n",
      "Requirement already satisfied: google-auth>=1.6.1 in /User/.pythonlibs/jupyter-1/lib/python3.6/site-packages (from kfp>=0.1.29->mlrun==0.4.4) (1.11.0)\n",
      "Requirement already satisfied: requests-toolbelt>=0.8.0 in /User/.pythonlibs/jupyter-1/lib/python3.6/site-packages (from kfp>=0.1.29->mlrun==0.4.4) (0.9.1)\n",
      "Requirement already satisfied: Deprecated in /User/.pythonlibs/jupyter-1/lib/python3.6/site-packages (from kfp>=0.1.29->mlrun==0.4.4) (1.2.7)\n",
      "Requirement already satisfied: argo-models==2.2.1a in /User/.pythonlibs/jupyter-1/lib/python3.6/site-packages (from kfp>=0.1.29->mlrun==0.4.4) (2.2.1a0)\n",
      "Requirement already satisfied: cloudpickle==1.1.1 in /User/.pythonlibs/jupyter-1/lib/python3.6/site-packages (from kfp>=0.1.29->mlrun==0.4.4) (1.1.1)\n",
      "Requirement already satisfied: kfp-server-api<=0.1.40,>=0.1.18 in /User/.pythonlibs/jupyter-1/lib/python3.6/site-packages (from kfp>=0.1.29->mlrun==0.4.4) (0.1.40)\n",
      "Requirement already satisfied: certifi in /User/.pythonlibs/jupyter-1/lib/python3.6/site-packages (from kfp>=0.1.29->mlrun==0.4.4) (2019.11.28)\n",
      "Requirement already satisfied: tornado>=5 in /User/.pythonlibs/jupyter-1/lib/python3.6/site-packages (from nuclio-jupyter>=0.8.0->mlrun==0.4.4) (6.0.3)\n",
      "Requirement already satisfied: nbconvert>=5.4 in /User/.pythonlibs/jupyter-1/lib/python3.6/site-packages (from nuclio-jupyter>=0.8.0->mlrun==0.4.4) (5.6.1)\n",
      "Requirement already satisfied: notebook>=5.7.2 in /User/.pythonlibs/jupyter-1/lib/python3.6/site-packages (from nuclio-jupyter>=0.8.0->mlrun==0.4.4) (6.0.3)\n",
      "Requirement already satisfied: ipython>=7.2 in /User/.pythonlibs/jupyter-1/lib/python3.6/site-packages (from nuclio-jupyter>=0.8.0->mlrun==0.4.4) (7.12.0)\n",
      "Requirement already satisfied: jupyterlab>=0.35.4 in /User/.pythonlibs/jupyter-1/lib/python3.6/site-packages (from nuclio-jupyter>=0.8.0->mlrun==0.4.4) (1.2.6)\n",
      "Requirement already satisfied: numpy>=1.13.3 in /User/.pythonlibs/jupyter-1/lib/python3.6/site-packages (from pandas<1.0.0,>=0.23.0->mlrun==0.4.4) (1.17.4)\n",
      "Requirement already satisfied: pytz>=2017.2 in /User/.pythonlibs/jupyter-1/lib/python3.6/site-packages (from pandas<1.0.0,>=0.23.0->mlrun==0.4.4) (2019.3)\n",
      "Requirement already satisfied: idna<2.9,>=2.5 in /User/.pythonlibs/jupyter-1/lib/python3.6/site-packages (from requests>=2.20.1->mlrun==0.4.4) (2.8)\n",
      "Requirement already satisfied: MarkupSafe>=0.23 in /User/.pythonlibs/jupyter-1/lib/python3.6/site-packages (from Jinja2>=2.10.1->Flask>=1.1.1->mlrun==0.4.4) (1.1.1)\n",
      "Requirement already satisfied: smmap2>=2.0.0 in /User/.pythonlibs/jupyter-1/lib/python3.6/site-packages (from gitdb2>=2.0.0->GitPython>=2.1.0->mlrun==0.4.4) (2.0.5)\n",
      "Requirement already satisfied: docutils<0.16,>=0.10 in /User/.pythonlibs/jupyter-1/lib/python3.6/site-packages (from botocore<1.15.0,>=1.14.15->boto3>=1.9->mlrun==0.4.4) (0.15.2)\n",
      "Requirement already satisfied: importlib-metadata; python_version < \"3.8\" in /User/.pythonlibs/jupyter-1/lib/python3.6/site-packages (from jsonschema>=3.0.1->kfp>=0.1.29->mlrun==0.4.4) (1.5.0)\n",
      "Requirement already satisfied: pyrsistent>=0.14.0 in /User/.pythonlibs/jupyter-1/lib/python3.6/site-packages (from jsonschema>=3.0.1->kfp>=0.1.29->mlrun==0.4.4) (0.15.7)\n",
      "Requirement already satisfied: setuptools in /conda/lib/python3.6/site-packages (from jsonschema>=3.0.1->kfp>=0.1.29->mlrun==0.4.4) (45.1.0.post20200127)\n",
      "Requirement already satisfied: cffi!=1.11.3,>=1.8 in /User/.pythonlibs/jupyter-1/lib/python3.6/site-packages (from cryptography>=2.4.2->kfp>=0.1.29->mlrun==0.4.4) (1.14.0)\n",
      "Requirement already satisfied: requests-oauthlib in /User/.pythonlibs/jupyter-1/lib/python3.6/site-packages (from kubernetes<=10.0.0,>=8.0.0->kfp>=0.1.29->mlrun==0.4.4) (1.3.0)\n",
      "Requirement already satisfied: websocket-client!=0.40.0,!=0.41.*,!=0.42.*,>=0.32.0 in /User/.pythonlibs/jupyter-1/lib/python3.6/site-packages (from kubernetes<=10.0.0,>=8.0.0->kfp>=0.1.29->mlrun==0.4.4) (0.57.0)\n",
      "Requirement already satisfied: google-resumable-media<0.6dev,>=0.5.0 in /User/.pythonlibs/jupyter-1/lib/python3.6/site-packages (from google-cloud-storage>=1.13.0->kfp>=0.1.29->mlrun==0.4.4) (0.5.0)\n",
      "Requirement already satisfied: google-cloud-core<2.0dev,>=1.2.0 in /User/.pythonlibs/jupyter-1/lib/python3.6/site-packages (from google-cloud-storage>=1.13.0->kfp>=0.1.29->mlrun==0.4.4) (1.3.0)\n",
      "Requirement already satisfied: cachetools<5.0,>=2.0.0 in /User/.pythonlibs/jupyter-1/lib/python3.6/site-packages (from google-auth>=1.6.1->kfp>=0.1.29->mlrun==0.4.4) (4.0.0)\n",
      "Requirement already satisfied: rsa<4.1,>=3.1.4 in /User/.pythonlibs/jupyter-1/lib/python3.6/site-packages (from google-auth>=1.6.1->kfp>=0.1.29->mlrun==0.4.4) (4.0)\n",
      "Requirement already satisfied: pyasn1-modules>=0.2.1 in /User/.pythonlibs/jupyter-1/lib/python3.6/site-packages (from google-auth>=1.6.1->kfp>=0.1.29->mlrun==0.4.4) (0.2.8)\n",
      "Requirement already satisfied: wrapt<2,>=1.10 in /User/.pythonlibs/jupyter-1/lib/python3.6/site-packages (from Deprecated->kfp>=0.1.29->mlrun==0.4.4) (1.11.2)\n",
      "Requirement already satisfied: bleach in /User/.pythonlibs/jupyter-1/lib/python3.6/site-packages (from nbconvert>=5.4->nuclio-jupyter>=0.8.0->mlrun==0.4.4) (3.1.0)\n",
      "Requirement already satisfied: testpath in /User/.pythonlibs/jupyter-1/lib/python3.6/site-packages (from nbconvert>=5.4->nuclio-jupyter>=0.8.0->mlrun==0.4.4) (0.4.4)\n",
      "Requirement already satisfied: pygments in /User/.pythonlibs/jupyter-1/lib/python3.6/site-packages (from nbconvert>=5.4->nuclio-jupyter>=0.8.0->mlrun==0.4.4) (2.5.2)\n",
      "Requirement already satisfied: pandocfilters>=1.4.1 in /User/.pythonlibs/jupyter-1/lib/python3.6/site-packages (from nbconvert>=5.4->nuclio-jupyter>=0.8.0->mlrun==0.4.4) (1.4.2)\n",
      "Requirement already satisfied: entrypoints>=0.2.2 in /User/.pythonlibs/jupyter-1/lib/python3.6/site-packages (from nbconvert>=5.4->nuclio-jupyter>=0.8.0->mlrun==0.4.4) (0.3)\n",
      "Requirement already satisfied: mistune<2,>=0.8.1 in /User/.pythonlibs/jupyter-1/lib/python3.6/site-packages (from nbconvert>=5.4->nuclio-jupyter>=0.8.0->mlrun==0.4.4) (0.8.4)\n",
      "Requirement already satisfied: defusedxml in /User/.pythonlibs/jupyter-1/lib/python3.6/site-packages (from nbconvert>=5.4->nuclio-jupyter>=0.8.0->mlrun==0.4.4) (0.6.0)\n",
      "Requirement already satisfied: jupyter-core in /User/.pythonlibs/jupyter-1/lib/python3.6/site-packages (from nbconvert>=5.4->nuclio-jupyter>=0.8.0->mlrun==0.4.4) (4.6.2)\n",
      "Requirement already satisfied: nbformat>=4.4 in /User/.pythonlibs/jupyter-1/lib/python3.6/site-packages (from nbconvert>=5.4->nuclio-jupyter>=0.8.0->mlrun==0.4.4) (5.0.4)\n",
      "Requirement already satisfied: traitlets>=4.2 in /User/.pythonlibs/jupyter-1/lib/python3.6/site-packages (from nbconvert>=5.4->nuclio-jupyter>=0.8.0->mlrun==0.4.4) (4.3.3)\n",
      "Requirement already satisfied: ipykernel in /User/.pythonlibs/jupyter-1/lib/python3.6/site-packages (from notebook>=5.7.2->nuclio-jupyter>=0.8.0->mlrun==0.4.4) (5.1.4)\n",
      "Requirement already satisfied: Send2Trash in /User/.pythonlibs/jupyter-1/lib/python3.6/site-packages (from notebook>=5.7.2->nuclio-jupyter>=0.8.0->mlrun==0.4.4) (1.5.0)\n",
      "Requirement already satisfied: pyzmq>=17 in /User/.pythonlibs/jupyter-1/lib/python3.6/site-packages (from notebook>=5.7.2->nuclio-jupyter>=0.8.0->mlrun==0.4.4) (18.1.1)\n",
      "Requirement already satisfied: jupyter-client>=5.3.4 in /User/.pythonlibs/jupyter-1/lib/python3.6/site-packages (from notebook>=5.7.2->nuclio-jupyter>=0.8.0->mlrun==0.4.4) (5.3.4)\n",
      "Requirement already satisfied: ipython-genutils in /User/.pythonlibs/jupyter-1/lib/python3.6/site-packages (from notebook>=5.7.2->nuclio-jupyter>=0.8.0->mlrun==0.4.4) (0.2.0)\n",
      "Requirement already satisfied: terminado>=0.8.1 in /User/.pythonlibs/jupyter-1/lib/python3.6/site-packages (from notebook>=5.7.2->nuclio-jupyter>=0.8.0->mlrun==0.4.4) (0.8.3)\n",
      "Requirement already satisfied: prometheus-client in /User/.pythonlibs/jupyter-1/lib/python3.6/site-packages (from notebook>=5.7.2->nuclio-jupyter>=0.8.0->mlrun==0.4.4) (0.7.1)\n",
      "Requirement already satisfied: pexpect; sys_platform != \"win32\" in /User/.pythonlibs/jupyter-1/lib/python3.6/site-packages (from ipython>=7.2->nuclio-jupyter>=0.8.0->mlrun==0.4.4) (4.8.0)\n",
      "Requirement already satisfied: backcall in /User/.pythonlibs/jupyter-1/lib/python3.6/site-packages (from ipython>=7.2->nuclio-jupyter>=0.8.0->mlrun==0.4.4) (0.1.0)\n",
      "Requirement already satisfied: jedi>=0.10 in /User/.pythonlibs/jupyter-1/lib/python3.6/site-packages (from ipython>=7.2->nuclio-jupyter>=0.8.0->mlrun==0.4.4) (0.16.0)\n",
      "Requirement already satisfied: prompt-toolkit!=3.0.0,!=3.0.1,<3.1.0,>=2.0.0 in /User/.pythonlibs/jupyter-1/lib/python3.6/site-packages (from ipython>=7.2->nuclio-jupyter>=0.8.0->mlrun==0.4.4) (3.0.3)\n",
      "Requirement already satisfied: decorator in /User/.pythonlibs/jupyter-1/lib/python3.6/site-packages (from ipython>=7.2->nuclio-jupyter>=0.8.0->mlrun==0.4.4) (4.4.1)\n",
      "Requirement already satisfied: pickleshare in /User/.pythonlibs/jupyter-1/lib/python3.6/site-packages (from ipython>=7.2->nuclio-jupyter>=0.8.0->mlrun==0.4.4) (0.7.5)\n",
      "Requirement already satisfied: jupyterlab-server~=1.0.0 in /User/.pythonlibs/jupyter-1/lib/python3.6/site-packages (from jupyterlab>=0.35.4->nuclio-jupyter>=0.8.0->mlrun==0.4.4) (1.0.6)\n",
      "Requirement already satisfied: zipp>=0.5 in /User/.pythonlibs/jupyter-1/lib/python3.6/site-packages (from importlib-metadata; python_version < \"3.8\"->jsonschema>=3.0.1->kfp>=0.1.29->mlrun==0.4.4) (2.2.0)\n",
      "Requirement already satisfied: pycparser in /User/.pythonlibs/jupyter-1/lib/python3.6/site-packages (from cffi!=1.11.3,>=1.8->cryptography>=2.4.2->kfp>=0.1.29->mlrun==0.4.4) (2.19)\n",
      "Requirement already satisfied: oauthlib>=3.0.0 in /User/.pythonlibs/jupyter-1/lib/python3.6/site-packages (from requests-oauthlib->kubernetes<=10.0.0,>=8.0.0->kfp>=0.1.29->mlrun==0.4.4) (3.1.0)\n",
      "Requirement already satisfied: google-api-core<2.0.0dev,>=1.16.0 in /User/.pythonlibs/jupyter-1/lib/python3.6/site-packages (from google-cloud-core<2.0dev,>=1.2.0->google-cloud-storage>=1.13.0->kfp>=0.1.29->mlrun==0.4.4) (1.16.0)\n",
      "Requirement already satisfied: pyasn1>=0.1.3 in /User/.pythonlibs/jupyter-1/lib/python3.6/site-packages (from rsa<4.1,>=3.1.4->google-auth>=1.6.1->kfp>=0.1.29->mlrun==0.4.4) (0.4.8)\n",
      "Requirement already satisfied: webencodings in /User/.pythonlibs/jupyter-1/lib/python3.6/site-packages (from bleach->nbconvert>=5.4->nuclio-jupyter>=0.8.0->mlrun==0.4.4) (0.5.1)\n",
      "Requirement already satisfied: ptyprocess; os_name != \"nt\" in /User/.pythonlibs/jupyter-1/lib/python3.6/site-packages (from terminado>=0.8.1->notebook>=5.7.2->nuclio-jupyter>=0.8.0->mlrun==0.4.4) (0.6.0)\n",
      "Requirement already satisfied: parso>=0.5.2 in /User/.pythonlibs/jupyter-1/lib/python3.6/site-packages (from jedi>=0.10->ipython>=7.2->nuclio-jupyter>=0.8.0->mlrun==0.4.4) (0.6.1)\n",
      "Requirement already satisfied: wcwidth in /User/.pythonlibs/jupyter-1/lib/python3.6/site-packages (from prompt-toolkit!=3.0.0,!=3.0.1,<3.1.0,>=2.0.0->ipython>=7.2->nuclio-jupyter>=0.8.0->mlrun==0.4.4) (0.1.8)\n",
      "Requirement already satisfied: json5 in /User/.pythonlibs/jupyter-1/lib/python3.6/site-packages (from jupyterlab-server~=1.0.0->jupyterlab>=0.35.4->nuclio-jupyter>=0.8.0->mlrun==0.4.4) (0.9.1)\n",
      "Requirement already satisfied: protobuf>=3.4.0 in /User/.pythonlibs/jupyter-1/lib/python3.6/site-packages (from google-api-core<2.0.0dev,>=1.16.0->google-cloud-core<2.0dev,>=1.2.0->google-cloud-storage>=1.13.0->kfp>=0.1.29->mlrun==0.4.4) (3.11.3)\n",
      "Requirement already satisfied: googleapis-common-protos<2.0dev,>=1.6.0 in /User/.pythonlibs/jupyter-1/lib/python3.6/site-packages (from google-api-core<2.0.0dev,>=1.16.0->google-cloud-core<2.0dev,>=1.2.0->google-cloud-storage>=1.13.0->kfp>=0.1.29->mlrun==0.4.4) (1.51.0)\n",
      "Building wheels for collected packages: mlrun\n",
      "  Building wheel for mlrun (setup.py) ... \u001b[?25ldone\n",
      "\u001b[?25h  Created wheel for mlrun: filename=mlrun-0.4.4-py3-none-any.whl size=124419 sha256=8aac527e323c0c24874d2f477a771a1591421613dd00df682ff0afc7d18d010e\n",
      "  Stored in directory: /tmp/pip-ephem-wheel-cache-a6qrl_u7/wheels/a9/3d/28/d913ae9ccf7df4c1883c8760f44f6e0d23947894900f027615\n",
      "Successfully built mlrun\n",
      "\u001b[31mERROR: kfserving 0.2.2.1 has requirement kubernetes>=10.0.1, but you'll have kubernetes 10.0.0 which is incompatible.\u001b[0m\n",
      "Installing collected packages: kubernetes\n",
      "  Attempting uninstall: kubernetes\n",
      "    Found existing installation: kubernetes 10.0.1\n",
      "    Uninstalling kubernetes-10.0.1:\n",
      "      Successfully uninstalled kubernetes-10.0.1\n",
      "Successfully installed kubernetes-10.0.0\n",
      "Requirement already satisfied: cloudpickle in /User/.pythonlibs/jupyter-1/lib/python3.6/site-packages (1.1.1)\n"
     ]
    }
   ],
   "source": [
    "%%nuclio cmd\n",
    "python -m pip install kfserving\n",
    "python -m pip install git+https://github.com/mlrun/mlrun.git@development\n",
    "python -m pip install cloudpickle"
   ]
  },
  {
   "cell_type": "markdown",
   "metadata": {},
   "source": [
    "<a id='define-function'></a>\n",
    "### **define a new function and its dependencies**"
   ]
  },
  {
   "cell_type": "code",
   "execution_count": 20,
   "metadata": {},
   "outputs": [
    {
     "name": "stdout",
     "output_type": "stream",
     "text": [
      "%nuclio: setting 'MODEL_CLASS' environment variable\n"
     ]
    }
   ],
   "source": [
    "# %nuclio config kind=\"nuclio:serving\"\n",
    "%nuclio env MODEL_CLASS=ClassifierModel"
   ]
  },
  {
   "cell_type": "code",
   "execution_count": 21,
   "metadata": {},
   "outputs": [],
   "source": [
    "# %nuclio config spec.build.baseImage = \"yjbds/mlrun-serving:nobase\""
   ]
  },
  {
   "cell_type": "code",
   "execution_count": 22,
   "metadata": {},
   "outputs": [],
   "source": [
    "import kfserving\n",
    "import os\n",
    "import numpy as np\n",
    "from cloudpickle import load"
   ]
  },
  {
   "cell_type": "code",
   "execution_count": 23,
   "metadata": {},
   "outputs": [],
   "source": [
    "TARGET_PATH = '/User/repos/demos/dask/artifacts'\n",
    "MODEL_FILE = 'lgbm-model.pkl'"
   ]
  },
  {
   "cell_type": "code",
   "execution_count": 24,
   "metadata": {},
   "outputs": [],
   "source": [
    "class ClassifierModel(kfserving.KFModel):\n",
    "    def __init__(self, name: str, model_dir: str, model = None):\n",
    "        super().__init__(name)\n",
    "        self.name = name\n",
    "        self.model_dir = model_dir\n",
    "        if not model is None:\n",
    "            self.classifier = model\n",
    "            self.ready = True\n",
    "\n",
    "    def load(self):\n",
    "        model_file = os.path.join(\n",
    "            kfserving.Storage.download(self.model_dir), MODEL_FILE)\n",
    "        self.classifier = load(open(model_file, 'rb'))\n",
    "        self.ready = True\n",
    "\n",
    "    def predict(self, body):\n",
    "        try:\n",
    "            feats = np.asarray(body['instances'])\n",
    "            result: np.ndarray = self.classifier.predict(feats)\n",
    "            return result.tolist()\n",
    "        except Exception as e:\n",
    "            raise Exception(\"Failed to predict %s\" % e)"
   ]
  },
  {
   "cell_type": "markdown",
   "metadata": {},
   "source": [
    "The following end-code annotation tells ```nuclio``` to stop parsing the notebook from this cell. _**Please do not remove this cell**_:"
   ]
  },
  {
   "cell_type": "code",
   "execution_count": 25,
   "metadata": {},
   "outputs": [],
   "source": [
    "# nuclio: end-code"
   ]
  },
  {
   "cell_type": "markdown",
   "metadata": {},
   "source": [
    "______________________________________________"
   ]
  },
  {
   "cell_type": "markdown",
   "metadata": {},
   "source": [
    "<a id='test-locally'></a>\n",
    "### **test the model serving class locally**\n",
    "The class above can be tested locally. Just instantiate the class, `.load()` will load the model to a local dir."
   ]
  },
  {
   "cell_type": "code",
   "execution_count": null,
   "metadata": {
    "jupyter": {
     "source_hidden": true
    }
   },
   "outputs": [],
   "source": [
    "# model = load(open(TARGET_PATH + '/' + MODEL_FILE, 'rb'))\n",
    "\n",
    "# my_server = ClassifierModel('classifier', model_dir=TARGET_PATH, model = model)\n",
    "# my_server.load()"
   ]
  },
  {
   "cell_type": "markdown",
   "metadata": {},
   "source": [
    "### _data_\n",
    "Make some classification data using scikit learn's `make_classification`:"
   ]
  },
  {
   "cell_type": "code",
   "execution_count": null,
   "metadata": {
    "jupyter": {
     "source_hidden": true
    }
   },
   "outputs": [],
   "source": [
    "# import dask\n",
    "# import pandas as pd\n",
    "# import dask.dataframe as dd\n",
    "# import pyarrow.parquet as pq\n",
    "# import pyarrow\n",
    "\n",
    "# xtest = pd.read_parquet('/User/repos/demos/dask/artifacts/test_set')\n",
    "\n",
    "# xtest.head()\n",
    "\n",
    "# xtest.pop('index')\n",
    "\n",
    "# ytest = xtest.pop('ArrDelay')\n",
    "\n",
    "# event = {\"instances\": xtest.values.tolist()}\n",
    "\n",
    "# ytest\n",
    "\n",
    "# my_server.predict(event)"
   ]
  },
  {
   "cell_type": "markdown",
   "metadata": {},
   "source": [
    "<a id='deploy'></a>\n",
    "### **deploy our serving class using as a serverless function**"
   ]
  },
  {
   "cell_type": "code",
   "execution_count": 26,
   "metadata": {},
   "outputs": [],
   "source": [
    "import mlrun"
   ]
  },
  {
   "cell_type": "code",
   "execution_count": 27,
   "metadata": {},
   "outputs": [
    {
     "data": {
      "text/plain": [
       "<mlrun.runtimes.function.RemoteRuntime at 0x7fdd581cf198>"
      ]
     },
     "execution_count": 27,
     "metadata": {},
     "output_type": "execute_result"
    }
   ],
   "source": [
    "fn = mlrun.new_model_server('generic', \n",
    "                            models={'classifier_gen': TARGET_PATH}, \n",
    "                            model_class='ClassifierModel')\n",
    "fn.apply(mlrun.mount_v3io())"
   ]
  },
  {
   "cell_type": "code",
   "execution_count": 28,
   "metadata": {},
   "outputs": [
    {
     "name": "stdout",
     "output_type": "stream",
     "text": [
      "%nuclio: notebook model-server exported\n",
      "Config:\n",
      "apiVersion: nuclio.io/v1\n",
      "kind: Function\n",
      "metadata:\n",
      "  annotations:\n",
      "    nuclio.io/generated_by: function generated at 17-02-2020 by admin from /User/repos/demos/dask/model_server.ipynb\n",
      "  labels: {}\n",
      "  name: model-server\n",
      "spec:\n",
      "  build:\n",
      "    commands:\n",
      "    - python -m pip install kfserving\n",
      "    - python -m pip install git+https://github.com/mlrun/mlrun.git@development\n",
      "    - python -m pip install cloudpickle\n",
      "    functionSourceCode: IyBHZW5lcmF0ZWQgYnkgbnVjbGlvLmV4cG9ydC5OdWNsaW9FeHBvcnRlciBvbiAyMDIwLTAyLTE3IDE1OjUwCgppbXBvcnQga2ZzZXJ2aW5nCmltcG9ydCBvcwppbXBvcnQgbnVtcHkgYXMgbnAKZnJvbSBjbG91ZHBpY2tsZSBpbXBvcnQgbG9hZAoKVEFSR0VUX1BBVEggPSAnL1VzZXIvcmVwb3MvZGVtb3MvZGFzay9hcnRpZmFjdHMnCk1PREVMX0ZJTEUgPSAnbGdibS1tb2RlbC5wa2wnCgpjbGFzcyBDbGFzc2lmaWVyTW9kZWwoa2ZzZXJ2aW5nLktGTW9kZWwpOgogICAgZGVmIF9faW5pdF9fKHNlbGYsIG5hbWU6IHN0ciwgbW9kZWxfZGlyOiBzdHIsIG1vZGVsID0gTm9uZSk6CiAgICAgICAgc3VwZXIoKS5fX2luaXRfXyhuYW1lKQogICAgICAgIHNlbGYubmFtZSA9IG5hbWUKICAgICAgICBzZWxmLm1vZGVsX2RpciA9IG1vZGVsX2RpcgogICAgICAgIGlmIG5vdCBtb2RlbCBpcyBOb25lOgogICAgICAgICAgICBzZWxmLmNsYXNzaWZpZXIgPSBtb2RlbAogICAgICAgICAgICBzZWxmLnJlYWR5ID0gVHJ1ZQoKICAgIGRlZiBsb2FkKHNlbGYpOgogICAgICAgIG1vZGVsX2ZpbGUgPSBvcy5wYXRoLmpvaW4oCiAgICAgICAgICAgIGtmc2VydmluZy5TdG9yYWdlLmRvd25sb2FkKHNlbGYubW9kZWxfZGlyKSwgTU9ERUxfRklMRSkKICAgICAgICBzZWxmLmNsYXNzaWZpZXIgPSBsb2FkKG9wZW4obW9kZWxfZmlsZSwgJ3JiJykpCiAgICAgICAgc2VsZi5yZWFkeSA9IFRydWUKCiAgICBkZWYgcHJlZGljdChzZWxmLCBib2R5KToKICAgICAgICB0cnk6CiAgICAgICAgICAgIGZlYXRzID0gbnAuYXNhcnJheShib2R5WydpbnN0YW5jZXMnXSkKICAgICAgICAgICAgcmVzdWx0OiBucC5uZGFycmF5ID0gc2VsZi5jbGFzc2lmaWVyLnByZWRpY3QoZmVhdHMpCiAgICAgICAgICAgIHJldHVybiByZXN1bHQudG9saXN0KCkKICAgICAgICBleGNlcHQgRXhjZXB0aW9uIGFzIGU6CiAgICAgICAgICAgIHJhaXNlIEV4Y2VwdGlvbigiRmFpbGVkIHRvIHByZWRpY3QgJXMiICUgZSkKCg==\n",
      "    noBaseImagesPull: true\n",
      "  env:\n",
      "  - name: MODEL_CLASS\n",
      "    value: ClassifierModel\n",
      "  handler: model_server:handler\n",
      "  runtime: python:3.6\n",
      "  volumes: []\n",
      "\n",
      "Code:\n",
      "# Generated by nuclio.export.NuclioExporter on 2020-02-17 15:50\n",
      "\n",
      "import kfserving\n",
      "import os\n",
      "import numpy as np\n",
      "from cloudpickle import load\n",
      "\n",
      "TARGET_PATH = '/User/repos/demos/dask/artifacts'\n",
      "MODEL_FILE = 'lgbm-model.pkl'\n",
      "\n",
      "class ClassifierModel(kfserving.KFModel):\n",
      "    def __init__(self, name: str, model_dir: str, model = None):\n",
      "        super().__init__(name)\n",
      "        self.name = name\n",
      "        self.model_dir = model_dir\n",
      "        if not model is None:\n",
      "            self.classifier = model\n",
      "            self.ready = True\n",
      "\n",
      "    def load(self):\n",
      "        model_file = os.path.join(\n",
      "            kfserving.Storage.download(self.model_dir), MODEL_FILE)\n",
      "        self.classifier = load(open(model_file, 'rb'))\n",
      "        self.ready = True\n",
      "\n",
      "    def predict(self, body):\n",
      "        try:\n",
      "            feats = np.asarray(body['instances'])\n",
      "            result: np.ndarray = self.classifier.predict(feats)\n",
      "            return result.tolist()\n",
      "        except Exception as e:\n",
      "            raise Exception(\"Failed to predict %s\" % e)\n",
      "\n",
      "\n"
     ]
    }
   ],
   "source": [
    "%nuclio show"
   ]
  },
  {
   "cell_type": "code",
   "execution_count": 29,
   "metadata": {},
   "outputs": [],
   "source": [
    "# print(fn.to_yaml())"
   ]
  },
  {
   "cell_type": "code",
   "execution_count": null,
   "metadata": {},
   "outputs": [
    {
     "name": "stdout",
     "output_type": "stream",
     "text": [
      "[mlrun] 2020-02-17 15:50:59,929 deploy started\n"
     ]
    }
   ],
   "source": [
    "fn.deploy()"
   ]
  },
  {
   "cell_type": "markdown",
   "metadata": {},
   "source": [
    "<a id=\"test-model-server\"></a>\n",
    "### **test our model server using HTTP request**"
   ]
  },
  {
   "cell_type": "code",
   "execution_count": null,
   "metadata": {},
   "outputs": [],
   "source": [
    "import json\n",
    "import requests\n",
    "\n",
    "resp = requests.post(addr + '/classifier_gen/predict', json=event)"
   ]
  },
  {
   "cell_type": "code",
   "execution_count": null,
   "metadata": {},
   "outputs": [],
   "source": [
    "resp.__dict__['_content'] "
   ]
  },
  {
   "cell_type": "code",
   "execution_count": null,
   "metadata": {},
   "outputs": [],
   "source": [
    "json.loads(resp.content)"
   ]
  },
  {
   "cell_type": "markdown",
   "metadata": {},
   "source": [
    "**[back to top](#top)**"
   ]
  }
 ],
 "metadata": {
  "kernelspec": {
   "display_name": "Python 3",
   "language": "python",
   "name": "python3"
  },
  "language_info": {
   "codemirror_mode": {
    "name": "ipython",
    "version": 3
   },
   "file_extension": ".py",
   "mimetype": "text/x-python",
   "name": "python",
   "nbconvert_exporter": "python",
   "pygments_lexer": "ipython3",
   "version": "3.6.8"
  }
 },
 "nbformat": 4,
 "nbformat_minor": 4
}

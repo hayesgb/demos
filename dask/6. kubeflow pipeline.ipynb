{
 "cells": [
  {
   "cell_type": "markdown",
   "metadata": {},
   "source": [
    "## Creating a multi-stage KubeFlow Pipeline\n",
    "\n",
    "* **[Acquire](1.%20remote%20archive%20t%20local%20parquet-airlines.ipynb)** airlines data from remote site and save locally as parquet dataset\n",
    "* **[Load dataset](2.%20parquet%20to%20dask%20cluster-airlines.ipynb)** into persistent Dask cluster\n",
    "* Feature engineering and **[data splits](3.%20generate%20train%20and%20test%20sets-airlines.ipynb)** (train/validation/test)\n",
    "* **[Train](4.%20lightgbm%20on%20dask%20cluster.ipynb)** Dask-LGBM classifier\n",
    "* **[Evaluate]()** trained model\n",
    "* Wrap functionality into a KubeFlow pipeline"
   ]
  },
  {
   "cell_type": "code",
   "execution_count": 4,
   "metadata": {},
   "outputs": [],
   "source": [
    "import mlrun\n",
    "mlrun.mlconf.dbpath = 'http://mlrun-api:8080'"
   ]
  },
  {
   "cell_type": "code",
   "execution_count": 5,
   "metadata": {},
   "outputs": [],
   "source": [
    "import kfp\n",
    "from kfp import dsl"
   ]
  },
  {
   "cell_type": "markdown",
   "metadata": {},
   "source": [
    "## jobs"
   ]
  },
  {
   "cell_type": "code",
   "execution_count": 7,
   "metadata": {},
   "outputs": [],
   "source": [
    "acquire_job     = mlrun.import_function('yaml/arc_to_parquet.yaml')\n",
    "dask_job        = mlrun.import_function('yaml/parquet-to-dask.yaml')\n",
    "split_job       = mlrun.import_function('yaml/train-valid-test-splitter.yaml')\n",
    "lgbm_job        = mlrun.import_function('yaml/clf_lgbm_dask.yaml')\n",
    "logreg_job      = mlrun.import_function('yaml/clf_logreg_dask.yaml')\n",
    "daal4py_job     = mlrun.import_function('yaml/clf_logreg_daal4py.yaml')\n",
    "\n",
    "jobs = [acquire_job, dask_job, split_job, lgbm_job, logreg_job, daal4py_job ]\n",
    "\n",
    "for job in jobs:\n",
    "    job.apply(mlrun.mount_v3io())\n",
    "    job.deploy(skip_deployed=True, with_mlrun=False)"
   ]
  },
  {
   "cell_type": "code",
   "execution_count": 8,
   "metadata": {},
   "outputs": [
    {
     "data": {
      "text/plain": [
       "<mlrun.runtimes.function.RemoteRuntime at 0x7f39aa261630>"
      ]
     },
     "execution_count": 8,
     "metadata": {},
     "output_type": "execute_result"
    }
   ],
   "source": [
    "srvfn = mlrun.new_model_server('flight-delay-server', \n",
    "                               model_class='ClassifierModel', \n",
    "                               filename='/User/repos/demos/dask/lgbm_server.ipynb')\n",
    "\n",
    "srvfn.apply(mlrun.mount_v3io())"
   ]
  },
  {
   "cell_type": "code",
   "execution_count": 10,
   "metadata": {
    "collapsed": true,
    "jupyter": {
     "outputs_hidden": true
    }
   },
   "outputs": [
    {
     "name": "stdout",
     "output_type": "stream",
     "text": [
      "kind: remote\n",
      "metadata:\n",
      "  name: flight-delay-server\n",
      "  project: default\n",
      "spec:\n",
      "  command: ''\n",
      "  args: []\n",
      "  image: ''\n",
      "  description: ''\n",
      "  volumes:\n",
      "  - flexVolume:\n",
      "      driver: v3io/fuse\n",
      "      options:\n",
      "        accessKey: eaed2dc3-4fe8-4ba0-a490-13e505cdce9a\n",
      "        container: users\n",
      "        subPath: /admin\n",
      "    name: v3io\n",
      "  volume_mounts:\n",
      "  - mountPath: /User\n",
      "    name: v3io\n",
      "  env:\n",
      "  - name: MODEL_CLASS\n",
      "    value: ClassifierModel\n",
      "  - name: ENABLE_EXPLAINER\n",
      "    value: 'False'\n",
      "  - name: V3IO_API\n",
      "    value: v3io-webapi.default-tenant.svc:8081\n",
      "  - name: V3IO_USERNAME\n",
      "    value: admin\n",
      "  - name: V3IO_ACCESS_KEY\n",
      "    value: eaed2dc3-4fe8-4ba0-a490-13e505cdce9a\n",
      "  config:\n",
      "    spec.triggers.http:\n",
      "      kind: http\n",
      "      maxWorkers: 8\n",
      "      attributes:\n",
      "        ingresses: {}\n",
      "      annotations: {}\n",
      "  base_spec:\n",
      "    apiVersion: nuclio.io/v1\n",
      "    kind: nuclio:serving\n",
      "    metadata:\n",
      "      annotations:\n",
      "        nuclio.io/generated_by: function generated at 12-02-2020 by admin from /User/repos/demos/dask/lgbm_server.ipynb\n",
      "      labels: {}\n",
      "      name: flight-delay-server\n",
      "    spec:\n",
      "      build:\n",
      "        commands:\n",
      "        - pip install -U -q kfserving\n",
      "        - pip install -U -q azure\n",
      "        - pip install -U -q mlrun\n",
      "        functionSourceCode: IyBHZW5lcmF0ZWQgYnkgbnVjbGlvLmV4cG9ydC5OdWNsaW9FeHBvcnRlciBvbiAyMDIwLTAyLTEyIDA4OjMxCgppbXBvcnQga2ZzZXJ2aW5nCmltcG9ydCBvcwppbXBvcnQgbnVtcHkgYXMgbnAKZnJvbSBjbG91ZHBpY2tsZSBpbXBvcnQgbG9hZAoKVEFSR0VUX1BBVEggPSAnL1VzZXIvcmVwb3MvZGVtb3MvZGFzay9hcnRpZmFjdHMnCk1PREVMX0ZJTEUgPSAnbGdibS1tb2RlbC5wa2wnCgpjbGFzcyBDbGFzc2lmaWVyTW9kZWwoa2ZzZXJ2aW5nLktGTW9kZWwpOgogICAgZGVmIF9faW5pdF9fKHNlbGYsIG5hbWU6IHN0ciwgbW9kZWxfZGlyOiBzdHIsIG1vZGVsID0gTm9uZSk6CiAgICAgICAgc3VwZXIoKS5fX2luaXRfXyhuYW1lKQogICAgICAgIHNlbGYubmFtZSA9IG5hbWUKICAgICAgICBzZWxmLm1vZGVsX2RpciA9IG1vZGVsX2RpcgogICAgICAgIGlmIG5vdCBtb2RlbCBpcyBOb25lOgogICAgICAgICAgICBzZWxmLmNsYXNzaWZpZXIgPSBtb2RlbAogICAgICAgICAgICBzZWxmLnJlYWR5ID0gVHJ1ZQoKICAgIGRlZiBsb2FkKHNlbGYpOgogICAgICAgIG1vZGVsX2ZpbGUgPSBvcy5wYXRoLmpvaW4oCiAgICAgICAgICAgIGtmc2VydmluZy5TdG9yYWdlLmRvd25sb2FkKHNlbGYubW9kZWxfZGlyKSwgTU9ERUxfRklMRSkKICAgICAgICBzZWxmLmNsYXNzaWZpZXIgPSBsb2FkKG9wZW4obW9kZWxfZmlsZSwgJ3JiJykpCiAgICAgICAgc2VsZi5yZWFkeSA9IFRydWUKCiAgICBkZWYgcHJlZGljdChzZWxmLCBib2R5KToKICAgICAgICB0cnk6CiAgICAgICAgICAgIGZlYXRzID0gbnAuYXNhcnJheShib2R5WydpbnN0YW5jZXMnXSkKICAgICAgICAgICAgcmVzdWx0OiBucC5uZGFycmF5ID0gc2VsZi5jbGFzc2lmaWVyLnByZWRpY3QoZmVhdHMpCiAgICAgICAgICAgIHJldHVybiByZXN1bHQudG9saXN0KCkKICAgICAgICBleGNlcHQgRXhjZXB0aW9uIGFzIGU6CiAgICAgICAgICAgIHJhaXNlIEV4Y2VwdGlvbigiRmFpbGVkIHRvIHByZWRpY3QgJXMiICUgZSkKCgpmcm9tIG1scnVuLnJ1bnRpbWVzIGltcG9ydCBudWNsaW9faW5pdF9ob29rCmRlZiBpbml0X2NvbnRleHQoY29udGV4dCk6CiAgICBudWNsaW9faW5pdF9ob29rKGNvbnRleHQsIGdsb2JhbHMoKSwgJ3NlcnZpbmcnKQoKZGVmIGhhbmRsZXIoY29udGV4dCwgZXZlbnQpOgogICAgcmV0dXJuIGNvbnRleHQubWxydW5faGFuZGxlcihjb250ZXh0LCBldmVudCkK\n",
      "        noBaseImagesPull: true\n",
      "      env:\n",
      "      - name: MODEL_CLASS\n",
      "        value: ClassifierModel\n",
      "      handler: lgbm_server:handler\n",
      "      runtime: python:3.6\n",
      "      volumes: []\n",
      "  source: ''\n",
      "  function_kind: serving\n",
      "\n"
     ]
    }
   ],
   "source": [
    "print(srvfn.to_yaml())"
   ]
  },
  {
   "cell_type": "code",
   "execution_count": 22,
   "metadata": {},
   "outputs": [],
   "source": [
    "TARGET_PATH = '/User/repos/demos/dask/artifacts'"
   ]
  },
  {
   "cell_type": "code",
   "execution_count": 23,
   "metadata": {},
   "outputs": [],
   "source": [
    "@dsl.pipeline(\n",
    "    name='My Dask-LiightGBM training pipeline',\n",
    "    description='Shows how to use mlrun with dask and a booster model.'\n",
    ")\n",
    "def dask_pipeline(\n",
    "    max_depth = [3, 4, 5], \n",
    "    learning_rate = [0.01, 0.1, 0.5],\n",
    "):\n",
    "\n",
    "    acquire = acquire_job.as_step(name='dask_pipeline_acquire', \n",
    "                                  # image='yjbds/mlrun-base:dev',\n",
    "                                  handler='arc_to_parquet',\n",
    "                                  params = {\n",
    "                                      'target_path': '/User/repos/demos/dask/dataset',\n",
    "                                      'name'       : 'airlines.pqt', \n",
    "                                      'key'        : 'airlines',\n",
    "                                      'archive_url': \"https://s3.amazonaws.com/h2o-airlines-unpacked/allyears.csv\",\n",
    "                                      'dataset'    : 'partitions',\n",
    "                                      'part_cols'  : ['Year', 'Month'],\n",
    "                                      'encoding'   : 'latin-1',\n",
    "                                      'inc_cols'   : ['Year','Month','DayofMonth','DayOfWeek', 'CRSDepTime', 'UniqueCarrier', 'ArrDelay', 'Origin', 'Dest', 'Distance'],\n",
    "                                      'dtype'      : {\n",
    "                                          'Distance'   : 'float32',\n",
    "                                          'ArrDelay'   : 'float64',\n",
    "                                          'CRSDepTime' : 'float32'}},\n",
    "                                  outputs=['airlines'], \n",
    "                                  out_path=TARGET_PATH).apply(mlrun.mount_v3io())\n",
    "\n",
    "    \n",
    "    todask = dask_job.as_step(name='dask_pipeline_todask',\n",
    "                              # image='yjbds/mlrun-dask:dev',\n",
    "                              handler='parquet_to_dask',\n",
    "                              params={\n",
    "                                  'sample'           : 0.02,\n",
    "                                  'shards'           : 8,\n",
    "                                  'threads_per'      : 8,\n",
    "                                  'memory_limit'     : '5GB',\n",
    "                                  'dask_key'         : 'airlines',\n",
    "                                  'target_path'      : TARGET_PATH},\n",
    "                              inputs = {'parquet_url': acquire.outputs['airlines']}, \n",
    "                              outputs=['scheduler'], \n",
    "                              out_path=TARGET_PATH).apply(mlrun.mount_v3io())\n",
    "\n",
    "    \n",
    "    split = split_job.as_step(name='dask_pipeline_splitter',\n",
    "                              # image='yjbds/mlrun-dask:dev',\n",
    "                              handler='train_valid_test',\n",
    "                              inputs={'dask_client': todask.outputs['scheduler']},\n",
    "                              outputs=['header', 'test_set'],\n",
    "                              out_path=TARGET_PATH).apply(mlrun.mount_v3io())\n",
    "    \n",
    "    train = train_job.as_step(name='dask_pipeline_train',\n",
    "                              # image='yjbds/mlrun-dask:dev',\n",
    "                              handler='clf_lgbm_dask',\n",
    "                              params={\n",
    "                                  'train_set'  : ('xtrain', 'ytrain'),\n",
    "                                  'valid_set'  : ('xvalid', 'yvalid'),\n",
    "                                  'target_path': TARGET_PATH,\n",
    "                                  'name'       : 'lgbm-model.pkl',\n",
    "                                  'key'        : 'lgbm-model',\n",
    "                                  'params'     : {\n",
    "                                      'max_depth'        : 3,\n",
    "                                      'learning_rate'    : 0.1,\n",
    "                                      'n_estimators'     : 3,\n",
    "                                      'reg_alpha'        : 0.,\n",
    "                                      'reg_lambda'       : 0.,\n",
    "                                      'random_state'     : 1,\n",
    "                                      'tree_learner'     : 'data',\n",
    "                                      'silent'           : False}},\n",
    "                              inputs={'dask_client': todask.outputs['scheduler']},\n",
    "                              outputs=['lgbm-model'], \n",
    "                              out_path=TARGET_PATH).apply(mlrun.mount_v3io())\n",
    "\n",
    "    deploy = srvfn.deploy_step(project = 'dask', models={'dask_v1': train.outputs['lgbm-model']})"
   ]
  },
  {
   "cell_type": "code",
   "execution_count": 24,
   "metadata": {},
   "outputs": [
    {
     "name": "stderr",
     "output_type": "stream",
     "text": [
      "/User/.pythonlibs/jupyter-1/lib/python3.6/site-packages/kfp/components/_data_passing.py:133: UserWarning: Missing type name was inferred as \"JsonArray\" based on the value \"[3, 4, 5]\".\n",
      "  warnings.warn('Missing type name was inferred as \"{}\" based on the value \"{}\".'.format(type_name, str(value)))\n",
      "/User/.pythonlibs/jupyter-1/lib/python3.6/site-packages/kfp/components/_data_passing.py:133: UserWarning: Missing type name was inferred as \"JsonArray\" based on the value \"[0.01, 0.1, 0.5]\".\n",
      "  warnings.warn('Missing type name was inferred as \"{}\" based on the value \"{}\".'.format(type_name, str(value)))\n"
     ]
    }
   ],
   "source": [
    "# for debug generate the pipeline dsl\n",
    "kfp.compiler.Compiler().compile(dask_pipeline, 'yaml/lgbm-dask-pipeline.yaml')"
   ]
  },
  {
   "cell_type": "code",
   "execution_count": 25,
   "metadata": {},
   "outputs": [],
   "source": [
    "client = kfp.Client(namespace='default-tenant')"
   ]
  },
  {
   "cell_type": "code",
   "execution_count": 26,
   "metadata": {},
   "outputs": [
    {
     "data": {
      "text/html": [
       "Experiment link <a href=\"https://dashboard.default-tenant.app.yjb-ds-3.iguazio-cd2.com/pipelines//#/experiments/details/32605ad0-9944-4f25-89f4-71f06361f730\" target=\"_blank\" >here</a>"
      ],
      "text/plain": [
       "<IPython.core.display.HTML object>"
      ]
     },
     "metadata": {},
     "output_type": "display_data"
    },
    {
     "data": {
      "text/html": [
       "Run link <a href=\"https://dashboard.default-tenant.app.yjb-ds-3.iguazio-cd2.com/pipelines//#/runs/details/e29e7dca-d5c5-40bb-a59e-1d034b03361e\" target=\"_blank\" >here</a>"
      ],
      "text/plain": [
       "<IPython.core.display.HTML object>"
      ]
     },
     "metadata": {},
     "output_type": "display_data"
    }
   ],
   "source": [
    "arguments = {}\n",
    "\n",
    "run_result = client.create_run_from_pipeline_func(dask_pipeline, arguments, experiment_name='dask')"
   ]
  },
  {
   "cell_type": "code",
   "execution_count": null,
   "metadata": {},
   "outputs": [],
   "source": []
  }
 ],
 "metadata": {
  "kernelspec": {
   "display_name": "Python 3",
   "language": "python",
   "name": "python3"
  },
  "language_info": {
   "codemirror_mode": {
    "name": "ipython",
    "version": 3
   },
   "file_extension": ".py",
   "mimetype": "text/x-python",
   "name": "python",
   "nbconvert_exporter": "python",
   "pygments_lexer": "ipython3",
   "version": "3.6.8"
  }
 },
 "nbformat": 4,
 "nbformat_minor": 4
}

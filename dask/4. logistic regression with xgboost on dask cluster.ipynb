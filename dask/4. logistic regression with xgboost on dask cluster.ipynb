{
 "cells": [
  {
   "cell_type": "markdown",
   "metadata": {},
   "source": [
    "# Logistic Regression with Dask-ML\n",
    "training a classifier using Dask-ML"
   ]
  },
  {
   "cell_type": "code",
   "execution_count": 12,
   "metadata": {},
   "outputs": [],
   "source": [
    "import mlrun\n",
    "\n",
    "mlrun.mlconf.dbpath = 'http://mlrun-api:8080'"
   ]
  },
  {
   "cell_type": "markdown",
   "metadata": {},
   "source": [
    "## parameters\n"
   ]
  },
  {
   "cell_type": "code",
   "execution_count": 13,
   "metadata": {},
   "outputs": [],
   "source": [
    "DESCRIPTION        = 'train a XGBoost classifier on a Dask cluster'       \n",
    "\n",
    "IMAGE              = 'yjbds/mlrun-dask:dev'                      # custom image\n",
    "JOB_KIND           = 'job'                                           \n",
    "\n",
    "TASK_NAME          = 'user-task-train-logreg-dask'               # whatever\n",
    "\n",
    "ARTIFACTS_PATH     = '/User/repos/demos/dask/artifacts'\n",
    "\n",
    "DASK_CLIENT        = 'scheduler.json'\n",
    "TRAIN_SET          = ('xtrain', 'ytrain') # published names in the cluster \n",
    "VALID_SET          = ('xvalid', 'yvalid')"
   ]
  },
  {
   "cell_type": "markdown",
   "metadata": {},
   "source": [
    "## load and configure function"
   ]
  },
  {
   "cell_type": "code",
   "execution_count": 26,
   "metadata": {},
   "outputs": [],
   "source": [
    "FUNC_PY = '/User/repos/demos/dask/code/clf_logreg_dask.py'\n",
    "FUNC_YAML = '/User/repos/demos/dask/yaml/clf_logreg_dask.yaml'\n",
    "\n",
    "HANDLER = 'clf_logreg_dask'"
   ]
  },
  {
   "cell_type": "code",
   "execution_count": 27,
   "metadata": {},
   "outputs": [
    {
     "name": "stdout",
     "output_type": "stream",
     "text": [
      "[mlrun] 2020-02-13 15:49:59,165 function spec saved to path: /User/repos/demos/dask/yaml/clf_logreg_dask.yaml\n",
      "[mlrun] 2020-02-13 15:49:59,173 starting run user-task-train-logreg-dask uid=c10fcb8d3ed64488ae7aa8f447327b85  -> http://mlrun-api:8080\n",
      "[mlrun] 2020-02-13 15:49:59,237 Job is running in the background, pod: user-task-train-logreg-dask-ww5h6\n",
      "LogisticRegression(C=1.0, class_weight=None, dual=False, fit_intercept=True,\n",
      "                   intercept_scaling=1.0, max_iter=100, multi_class='ovr',\n",
      "                   n_jobs=1, penalty='l2', random_state=None, solver='admm',\n",
      "                   solver_kwargs=None, tol=0.0001, verbose=0, warm_start=False)\n",
      "FAILED name 'coef_' is not defined\n",
      "\n",
      "[mlrun] 2020-02-13 15:54:43,119 run executed, status=completed\n",
      "Intel(R) Data Analytics Acceleration Library (Intel(R) DAAL) solvers for sklearn enabled: https://intelpython.github.io/daal4py/sklearn.html\n",
      "/opt/conda/lib/python3.7/site-packages/dask/dataframe/multi.py:1059: UserWarning: Concatenating dataframes with unknown divisions.\n",
      "We're assuming that the indexes of each dataframes are \n",
      " aligned. This assumption is not generally safe.\n",
      "  \"Concatenating dataframes with unknown divisions.\\n\"\n",
      "final state: succeeded\n"
     ]
    },
    {
     "data": {
      "text/html": [
       "<style> \n",
       ".dictlist {\n",
       "  background-color: #b3edff; \n",
       "  text-align: center; \n",
       "  margin: 4px; \n",
       "  border-radius: 3px; padding: 0px 3px 1px 3px; display: inline-block;}\n",
       ".artifact {\n",
       "  cursor: pointer; \n",
       "  background-color: #ffe6cc; \n",
       "  text-align: left; \n",
       "  margin: 4px; border-radius: 3px; padding: 0px 3px 1px 3px; display: inline-block;\n",
       "}\n",
       "div.block.hidden {\n",
       "  display: none;\n",
       "}\n",
       ".clickable {\n",
       "  cursor: pointer;\n",
       "}\n",
       ".ellipsis {\n",
       "  display: inline-block;\n",
       "  max-width: 60px;\n",
       "  white-space: nowrap;\n",
       "  overflow: hidden;\n",
       "  text-overflow: ellipsis;\n",
       "}\n",
       ".master-wrapper {\n",
       "  display: flex;\n",
       "  flex-flow: row nowrap;\n",
       "  justify-content: flex-start;\n",
       "  align-items: stretch;\n",
       "}\n",
       ".master-tbl {\n",
       "  flex: 3\n",
       "}\n",
       ".master-wrapper > div {\n",
       "  margin: 4px;\n",
       "  padding: 10px;\n",
       "}\n",
       "iframe.fileview {\n",
       "  border: 0 none;\n",
       "  height: 100%;\n",
       "  width: 100%;\n",
       "  white-space: pre-wrap;\n",
       "}\n",
       ".pane-header-title {\n",
       "  width: 80%;\n",
       "  font-weight: 500;\n",
       "}\n",
       ".pane-header {\n",
       "  line-height: 1;\n",
       "  background-color: #ffe6cc;\n",
       "  padding: 3px;\n",
       "}\n",
       ".pane-header .close {\n",
       "  font-size: 20px;\n",
       "  font-weight: 700;\n",
       "  float: right;\n",
       "  margin-top: -5px;\n",
       "}\n",
       ".master-wrapper .right-pane {\n",
       "  border: 1px inset silver;\n",
       "  width: 40%;\n",
       "  min-height: 300px;\n",
       "  flex: 3\n",
       "  min-width: 500px;\n",
       "}\n",
       ".master-wrapper * {\n",
       "  box-sizing: border-box;\n",
       "}\n",
       "</style><script>\n",
       "function copyToClipboard(fld) {\n",
       "    if (document.queryCommandSupported && document.queryCommandSupported('copy')) {\n",
       "        var textarea = document.createElement('textarea');\n",
       "        textarea.textContent = fld.innerHTML;\n",
       "        textarea.style.position = 'fixed';\n",
       "        document.body.appendChild(textarea);\n",
       "        textarea.select();\n",
       "\n",
       "        try {\n",
       "            return document.execCommand('copy'); // Security exception may be thrown by some browsers.\n",
       "        } catch (ex) {\n",
       "\n",
       "        } finally {\n",
       "            document.body.removeChild(textarea);\n",
       "        }\n",
       "    }\n",
       "}\n",
       "function expandPanel(el) {\n",
       "  const panelName = \"#\" + el.getAttribute('paneName');\n",
       "  console.log(el.title);\n",
       "\n",
       "  document.querySelector(panelName + \"-title\").innerHTML = el.title\n",
       "  iframe = document.querySelector(panelName + \"-body\");\n",
       "  \n",
       "  const tblcss = `<style> body { font-family: Arial, Helvetica, sans-serif;}\n",
       "    #csv { margin-bottom: 15px; }\n",
       "    #csv table { border-collapse: collapse;}\n",
       "    #csv table td { padding: 4px 8px; border: 1px solid silver;} </style>`;\n",
       "\n",
       "  function csvToHtmlTable(str) {\n",
       "    return '<div id=\"csv\"><table><tr><td>' +  str.replace(/[\\n\\r]+$/g, '').replace(/[\\n\\r]+/g, '</td></tr><tr><td>')\n",
       "      .replace(/,/g, '</td><td>') + '</td></tr></table></div>';\n",
       "  }\n",
       "  \n",
       "  function reqListener () {\n",
       "    if (el.title.endsWith(\".csv\")) {\n",
       "      iframe.setAttribute(\"srcdoc\", tblcss + csvToHtmlTable(this.responseText));\n",
       "    } else {\n",
       "      iframe.setAttribute(\"srcdoc\", this.responseText);\n",
       "    }  \n",
       "    console.log(this.responseText);\n",
       "  }\n",
       "\n",
       "  const oReq = new XMLHttpRequest();\n",
       "  oReq.addEventListener(\"load\", reqListener);\n",
       "  oReq.open(\"GET\", el.title);\n",
       "  oReq.send();\n",
       "  \n",
       "  \n",
       "  //iframe.src = el.title;\n",
       "  const resultPane = document.querySelector(panelName + \"-pane\");\n",
       "  if (resultPane.classList.contains(\"hidden\")) {\n",
       "    resultPane.classList.remove(\"hidden\");\n",
       "  }\n",
       "}\n",
       "function closePanel(el) {\n",
       "  const panelName = \"#\" + el.getAttribute('paneName')\n",
       "  const resultPane = document.querySelector(panelName + \"-pane\");\n",
       "  if (!resultPane.classList.contains(\"hidden\")) {\n",
       "    resultPane.classList.add(\"hidden\");\n",
       "  }\n",
       "}\n",
       "\n",
       "</script>\n",
       "<div class=\"master-wrapper\">\n",
       "  <div class=\"block master-tbl\"><div>\n",
       "<style scoped>\n",
       "    .dataframe tbody tr th:only-of-type {\n",
       "        vertical-align: middle;\n",
       "    }\n",
       "\n",
       "    .dataframe tbody tr th {\n",
       "        vertical-align: top;\n",
       "    }\n",
       "\n",
       "    .dataframe thead th {\n",
       "        text-align: right;\n",
       "    }\n",
       "</style>\n",
       "<table border=\"1\" class=\"dataframe\">\n",
       "  <thead>\n",
       "    <tr style=\"text-align: right;\">\n",
       "      <th>uid</th>\n",
       "      <th>iter</th>\n",
       "      <th>start</th>\n",
       "      <th>state</th>\n",
       "      <th>name</th>\n",
       "      <th>labels</th>\n",
       "      <th>inputs</th>\n",
       "      <th>parameters</th>\n",
       "      <th>results</th>\n",
       "      <th>artifacts</th>\n",
       "    </tr>\n",
       "  </thead>\n",
       "  <tbody>\n",
       "    <tr>\n",
       "      <td><div title=\"c10fcb8d3ed64488ae7aa8f447327b85\">...327b85</div></td>\n",
       "      <td>0</td>\n",
       "      <td>Feb 13 15:50:10</td>\n",
       "      <td>completed</td>\n",
       "      <td>clf_logreg_dask</td>\n",
       "      <td><div class=\"dictlist\">host=user-task-train-logreg-dask-ww5h6</div><div class=\"dictlist\">kind=job</div><div class=\"dictlist\">owner=admin</div></td>\n",
       "      <td></td>\n",
       "      <td><div class=\"dictlist\">dask_client=scheduler.json</div><div class=\"dictlist\">key=glm-dask-model</div><div class=\"dictlist\">name=glm-dask-model.pkl</div><div class=\"dictlist\">target_path=/User/repos/demos/dask/artifacts</div><div class=\"dictlist\">train_set=['xtrain', 'ytrain']</div><div class=\"dictlist\">valid_set=['xvalid', 'yvalid']</div></td>\n",
       "      <td></td>\n",
       "      <td></td>\n",
       "    </tr>\n",
       "  </tbody>\n",
       "</table>\n",
       "</div></div>\n",
       "  <div id=\"resulte45fb8d7-pane\" class=\"right-pane block hidden\">\n",
       "    <div class=\"pane-header\">\n",
       "      <span id=\"resulte45fb8d7-title\" class=\"pane-header-title\">Title</span>\n",
       "      <span onclick=\"closePanel(this)\" paneName=\"resulte45fb8d7\" class=\"close clickable\">&times;</span>\n",
       "    </div>\n",
       "    <iframe class=\"fileview\" id=\"resulte45fb8d7-body\"></iframe>\n",
       "  </div>\n",
       "</div>\n"
      ],
      "text/plain": [
       "<IPython.core.display.HTML object>"
      ]
     },
     "metadata": {},
     "output_type": "display_data"
    },
    {
     "name": "stdout",
     "output_type": "stream",
     "text": [
      "to track results use .show() or .logs() or in CLI: \n",
      "!mlrun get run c10fcb8d3ed64488ae7aa8f447327b85  , !mlrun logs c10fcb8d3ed64488ae7aa8f447327b85 \n",
      "[mlrun] 2020-02-13 15:54:50,065 run executed, status=completed\n"
     ]
    },
    {
     "name": "stderr",
     "output_type": "stream",
     "text": [
      "distributed.client - ERROR - Failed to reconnect to scheduler after 10.00 seconds, closing client\n",
      "distributed.utils - ERROR - \n",
      "Traceback (most recent call last):\n",
      "  File \"/conda/lib/python3.6/site-packages/distributed/utils.py\", line 662, in log_errors\n",
      "    yield\n",
      "  File \"/conda/lib/python3.6/site-packages/distributed/client.py\", line 1306, in _close\n",
      "    await asyncio.wait_for(asyncio.gather(*coroutines), 2)\n",
      "  File \"/conda/lib/python3.6/asyncio/tasks.py\", line 351, in wait_for\n",
      "    yield from waiter\n",
      "  File \"/conda/lib/python3.6/asyncio/futures.py\", line 327, in __iter__\n",
      "    yield self  # This tells Task to wait for completion.\n",
      "  File \"/conda/lib/python3.6/asyncio/tasks.py\", line 250, in _wakeup\n",
      "    future.result()\n",
      "  File \"/conda/lib/python3.6/asyncio/futures.py\", line 238, in result\n",
      "    raise CancelledError\n",
      "concurrent.futures._base.CancelledError\n",
      "distributed.utils - ERROR - \n",
      "Traceback (most recent call last):\n",
      "  File \"/conda/lib/python3.6/site-packages/distributed/utils.py\", line 662, in log_errors\n",
      "    yield\n",
      "  File \"/conda/lib/python3.6/site-packages/distributed/client.py\", line 1024, in _reconnect\n",
      "    await self._close()\n",
      "  File \"/conda/lib/python3.6/site-packages/distributed/client.py\", line 1306, in _close\n",
      "    await asyncio.wait_for(asyncio.gather(*coroutines), 2)\n",
      "  File \"/conda/lib/python3.6/asyncio/tasks.py\", line 351, in wait_for\n",
      "    yield from waiter\n",
      "  File \"/conda/lib/python3.6/asyncio/futures.py\", line 327, in __iter__\n",
      "    yield self  # This tells Task to wait for completion.\n",
      "  File \"/conda/lib/python3.6/asyncio/tasks.py\", line 250, in _wakeup\n",
      "    future.result()\n",
      "  File \"/conda/lib/python3.6/asyncio/futures.py\", line 238, in result\n",
      "    raise CancelledError\n",
      "concurrent.futures._base.CancelledError\n",
      "_GatheringFuture exception was never retrieved\n",
      "future: <_GatheringFuture finished exception=CancelledError()>\n",
      "concurrent.futures._base.CancelledError\n"
     ]
    }
   ],
   "source": [
    "clf_xgb = mlrun.new_function(command=FUNC_PY, \n",
    "                               image=IMAGE,\n",
    "                               kind=JOB_KIND)\n",
    "clf_xgb.spec.build.image = IMAGE\n",
    "\n",
    "clf_xgb.export(FUNC_YAML)\n",
    "# clf_lgbm = mlrun.import_function(FUNC_YAML)\n",
    "\n",
    "clf_xgb.apply(mlrun.mount_v3io())\n",
    "\n",
    "clf_xgb.deploy(skip_deployed=True, with_mlrun=False)\n",
    "\n",
    "# create and run the task\n",
    "train_clf_xgb_task = mlrun.NewTask(\n",
    "    TASK_NAME, \n",
    "    handler=HANDLER,  \n",
    "    params={\n",
    "        'dask_client': DASK_CLIENT,\n",
    "        'train_set'  : TRAIN_SET,\n",
    "        'valid_set'  : VALID_SET,\n",
    "        'target_path': ARTIFACTS_PATH,\n",
    "        'name'       : 'glm-dask-model.pkl',\n",
    "        'key'        : 'glm-dask-model'})\n",
    "\n",
    "# run\n",
    "rn = clf_xgb.run(train_clf_xgb_task)"
   ]
  },
  {
   "cell_type": "code",
   "execution_count": null,
   "metadata": {},
   "outputs": [],
   "source": []
  },
  {
   "cell_type": "code",
   "execution_count": null,
   "metadata": {},
   "outputs": [],
   "source": []
  },
  {
   "cell_type": "code",
   "execution_count": 17,
   "metadata": {},
   "outputs": [],
   "source": [
    "import dask\n",
    "import dask.dataframe as dd\n",
    "from dask.distributed import Client\n",
    "from dask_ml.linear_model import LogisticRegression"
   ]
  },
  {
   "cell_type": "code",
   "execution_count": 18,
   "metadata": {
    "collapsed": true,
    "jupyter": {
     "outputs_hidden": true
    }
   },
   "outputs": [
    {
     "name": "stderr",
     "output_type": "stream",
     "text": [
      "/conda/lib/python3.6/site-packages/distributed/client.py:1071: VersionMismatchWarning: Mismatched versions found\n",
      "\n",
      "lz4\n",
      "+--------------------------+---------+\n",
      "|                          | version |\n",
      "+--------------------------+---------+\n",
      "| client                   | 3.0.2   |\n",
      "| scheduler                | 2.2.1   |\n",
      "| tcp://10.233.64.53:45980 | 2.2.1   |\n",
      "| tcp://10.233.64.54:44009 | 2.2.1   |\n",
      "| tcp://10.233.64.55:41054 | 2.2.1   |\n",
      "| tcp://10.233.64.56:35715 | 2.2.1   |\n",
      "| tcp://10.233.64.57:40157 | 2.2.1   |\n",
      "| tcp://10.233.64.58:34299 | 2.2.1   |\n",
      "| tcp://10.233.64.59:42246 | 2.2.1   |\n",
      "| tcp://10.233.64.60:39070 | 2.2.1   |\n",
      "+--------------------------+---------+\n",
      "\n",
      "msgpack\n",
      "+--------------------------+---------+\n",
      "|                          | version |\n",
      "+--------------------------+---------+\n",
      "| client                   | 0.6.1   |\n",
      "| scheduler                | 0.6.2   |\n",
      "| tcp://10.233.64.53:45980 | 0.6.2   |\n",
      "| tcp://10.233.64.54:44009 | 0.6.2   |\n",
      "| tcp://10.233.64.55:41054 | 0.6.2   |\n",
      "| tcp://10.233.64.56:35715 | 0.6.2   |\n",
      "| tcp://10.233.64.57:40157 | 0.6.2   |\n",
      "| tcp://10.233.64.58:34299 | 0.6.2   |\n",
      "| tcp://10.233.64.59:42246 | 0.6.2   |\n",
      "| tcp://10.233.64.60:39070 | 0.6.2   |\n",
      "+--------------------------+---------+\n",
      "  warnings.warn(version_module.VersionMismatchWarning(msg[0][\"warning\"]))\n"
     ]
    }
   ],
   "source": [
    "client = Client(scheduler_file='/User/repos/demos/dask/artifacts/scheduler.json')"
   ]
  },
  {
   "cell_type": "code",
   "execution_count": 19,
   "metadata": {},
   "outputs": [],
   "source": [
    "xtrain = client.get_dataset('xtrain')"
   ]
  },
  {
   "cell_type": "code",
   "execution_count": 21,
   "metadata": {},
   "outputs": [],
   "source": [
    "xtrain = xtrain.compute()"
   ]
  },
  {
   "cell_type": "code",
   "execution_count": 23,
   "metadata": {},
   "outputs": [
    {
     "data": {
      "text/plain": [
       "array([[2.006e+03, 1.100e+01, 7.000e+00, ..., 0.000e+00, 0.000e+00,\n",
       "        6.420e+02],\n",
       "       [2.006e+03, 1.100e+01, 2.500e+01, ..., 1.000e+00, 1.000e+00,\n",
       "        6.700e+01],\n",
       "       [2.006e+03, 1.100e+01, 1.100e+01, ..., 0.000e+00, 0.000e+00,\n",
       "        6.420e+02],\n",
       "       ...,\n",
       "       [1.998e+03, 1.200e+01, 3.100e+01, ..., 3.000e+01, 3.500e+01,\n",
       "        6.920e+02],\n",
       "       [1.998e+03, 1.200e+01, 9.000e+00, ..., 1.600e+01, 3.500e+01,\n",
       "        3.320e+02],\n",
       "       [1.998e+03, 1.200e+01, 6.000e+00, ..., 6.600e+01, 3.500e+01,\n",
       "        1.510e+02]])"
      ]
     },
     "execution_count": 23,
     "metadata": {},
     "output_type": "execute_result"
    }
   ],
   "source": [
    "xtrain.values"
   ]
  },
  {
   "cell_type": "code",
   "execution_count": null,
   "metadata": {},
   "outputs": [],
   "source": []
  }
 ],
 "metadata": {
  "kernelspec": {
   "display_name": "Python 3",
   "language": "python",
   "name": "python3"
  },
  "language_info": {
   "codemirror_mode": {
    "name": "ipython",
    "version": 3
   },
   "file_extension": ".py",
   "mimetype": "text/x-python",
   "name": "python",
   "nbconvert_exporter": "python",
   "pygments_lexer": "ipython3",
   "version": "3.6.8"
  }
 },
 "nbformat": 4,
 "nbformat_minor": 4
}

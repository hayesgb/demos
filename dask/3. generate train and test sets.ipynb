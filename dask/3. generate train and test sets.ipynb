{
 "cells": [
  {
   "cell_type": "markdown",
   "metadata": {},
   "source": [
    "# split data into train, validation and test sets"
   ]
  },
  {
   "cell_type": "code",
   "execution_count": 19,
   "metadata": {},
   "outputs": [],
   "source": [
    "import mlrun\n",
    "import os\n",
    "import numpy as np\n",
    "mlrun.mlconf.dbpath = 'http://mlrun-api:8080'"
   ]
  },
  {
   "cell_type": "markdown",
   "metadata": {},
   "source": [
    "## parameters\n",
    "\n",
    "**Please be sure to run the notebooks [1. remote archive to local parquet](1.%20remote%20archive%20to%20local%20parquet.ipynb) and [2. parquet to dask cluster](2.%20parquet%20to%20dask%20cluster.ipynb) before running this one.**"
   ]
  },
  {
   "cell_type": "markdown",
   "metadata": {},
   "source": [
    "Since our data is already loaded into a Dask cluster we use that as our source"
   ]
  },
  {
   "cell_type": "code",
   "execution_count": 20,
   "metadata": {},
   "outputs": [],
   "source": [
    "DESCRIPTION        = 'split data into train, validation and test splits'\n",
    "\n",
    "IMAGE              = 'yjbds/mlrun-dask:dev'\n",
    "JOB_KIND           = 'job'\n",
    "TASK_NAME          = 'user-task-data-splits'\n",
    "\n",
    "TARGET_PATH        = '/User/repos/demos/dask/artifacts'\n",
    "DASK_CLIENT        = 'scheduler.json'\n",
    "DASK_KEY           = 'airlines'\n",
    "LABEL_COLUMN       = 'ArrDelay'\n",
    "CATEGORIES         = ['UniqueCarrier', 'Origin', 'Dest']\n",
    "\n",
    "# insert run id ... from db here\n",
    "MLRUN_DB_UID       = '0bb6c8794695400ea79c28900737277b'\n",
    "\n",
    "RNG                = 1"
   ]
  },
  {
   "cell_type": "code",
   "execution_count": 21,
   "metadata": {},
   "outputs": [],
   "source": [
    "HANDLER = 'splitter_labelencode'"
   ]
  },
  {
   "cell_type": "markdown",
   "metadata": {},
   "source": [
    "## split the data"
   ]
  },
  {
   "cell_type": "code",
   "execution_count": 22,
   "metadata": {},
   "outputs": [
    {
     "name": "stdout",
     "output_type": "stream",
     "text": [
      "[mlrun] 2020-02-16 14:38:12,464 function spec saved to path: /User/repos/demos/dask/yaml/splitter-labelencode.yaml\n"
     ]
    }
   ],
   "source": [
    "# load function from a local Python file\n",
    "splitter = mlrun.new_function(command='/User/repos/demos/dask/code/splitter-labelencode.py', \n",
    "                              image=IMAGE,\n",
    "                              kind=JOB_KIND)\n",
    "\n",
    "splitter.spec.build.image = IMAGE\n",
    "\n",
    "# export or load function yaml\n",
    "splitter.export('/User/repos/demos/dask/yaml/splitter-labelencode.yaml')\n",
    "# splitter = mlrun.import_function('/User/repos/dask/yaml/train_valid_test_splitter-airlines.yaml')"
   ]
  },
  {
   "cell_type": "code",
   "execution_count": 9,
   "metadata": {},
   "outputs": [
    {
     "name": "stdout",
     "output_type": "stream",
     "text": [
      "[mlrun] 2020-02-16 13:10:38,701 function spec saved to path: /User/repos/demos/dask/yaml/splitter-labelencode.yaml\n",
      "[mlrun] 2020-02-16 13:10:38,711 starting run user-task-data-splits uid=c04adfd9c616416f91915d30c39abb71  -> http://mlrun-api:8080\n",
      "[mlrun] 2020-02-16 13:10:38,784 Job is running in the background, pod: user-task-data-splits-dbqck\n"
     ]
    },
    {
     "name": "stderr",
     "output_type": "stream",
     "text": [
      "ERROR:root:Internal Python error in the inspect module.\n",
      "Below is the traceback from this internal error.\n",
      "\n"
     ]
    },
    {
     "name": "stdout",
     "output_type": "stream",
     "text": [
      "Traceback (most recent call last):\n",
      "  File \"/User/.pythonlibs/jupyter-1/lib/python3.6/site-packages/IPython/core/interactiveshell.py\", line 3331, in run_code\n",
      "    exec(code_obj, self.user_global_ns, self.user_ns)\n",
      "  File \"<ipython-input-9-7bdc5452cbd9>\", line 27, in <module>\n",
      "    tsk2 = splitter.run(task_, handler='splitter_labelencode')\n",
      "  File \"/User/.pythonlibs/jupyter-1/lib/python3.6/site-packages/mlrun/runtimes/base.py\", line 264, in run\n",
      "    runspec.logs(True, self._get_db())\n",
      "  File \"/User/.pythonlibs/jupyter-1/lib/python3.6/site-packages/mlrun/model.py\", line 352, in logs\n",
      "    watch=watch)\n",
      "  File \"/User/.pythonlibs/jupyter-1/lib/python3.6/site-packages/mlrun/db/httpdb.py\", line 131, in watch_log\n",
      "    time.sleep(3)\n",
      "KeyboardInterrupt\n",
      "\n",
      "During handling of the above exception, another exception occurred:\n",
      "\n",
      "Traceback (most recent call last):\n",
      "  File \"/User/.pythonlibs/jupyter-1/lib/python3.6/site-packages/IPython/core/interactiveshell.py\", line 2044, in showtraceback\n",
      "    stb = value._render_traceback_()\n",
      "AttributeError: 'KeyboardInterrupt' object has no attribute '_render_traceback_'\n",
      "\n",
      "During handling of the above exception, another exception occurred:\n",
      "\n",
      "Traceback (most recent call last):\n",
      "  File \"/User/.pythonlibs/jupyter-1/lib/python3.6/site-packages/IPython/core/ultratb.py\", line 1151, in get_records\n",
      "    return _fixed_getinnerframes(etb, number_of_lines_of_context, tb_offset)\n",
      "  File \"/User/.pythonlibs/jupyter-1/lib/python3.6/site-packages/IPython/core/ultratb.py\", line 319, in wrapped\n",
      "    return f(*args, **kwargs)\n",
      "  File \"/User/.pythonlibs/jupyter-1/lib/python3.6/site-packages/IPython/core/ultratb.py\", line 353, in _fixed_getinnerframes\n",
      "    records = fix_frame_records_filenames(inspect.getinnerframes(etb, context))\n",
      "  File \"/conda/lib/python3.6/inspect.py\", line 1490, in getinnerframes\n",
      "    frameinfo = (tb.tb_frame,) + getframeinfo(tb, context)\n",
      "  File \"/conda/lib/python3.6/inspect.py\", line 1448, in getframeinfo\n",
      "    filename = getsourcefile(frame) or getfile(frame)\n",
      "  File \"/conda/lib/python3.6/inspect.py\", line 696, in getsourcefile\n",
      "    if getattr(getmodule(object, filename), '__loader__', None) is not None:\n",
      "  File \"/conda/lib/python3.6/inspect.py\", line 739, in getmodule\n",
      "    f = getabsfile(module)\n",
      "  File \"/conda/lib/python3.6/inspect.py\", line 708, in getabsfile\n",
      "    _filename = getsourcefile(object) or getfile(object)\n",
      "  File \"/conda/lib/python3.6/inspect.py\", line 693, in getsourcefile\n",
      "    if os.path.exists(filename):\n",
      "  File \"/conda/lib/python3.6/genericpath.py\", line 19, in exists\n",
      "    os.stat(path)\n",
      "KeyboardInterrupt\n"
     ]
    },
    {
     "ename": "KeyboardInterrupt",
     "evalue": "",
     "output_type": "error",
     "traceback": [
      "\u001b[0;31m---------------------------------------------------------------------------\u001b[0m"
     ]
    }
   ],
   "source": [
    "splitter.apply(mlrun.mount_v3io())\n",
    "splitter.deploy(skip_deployed=True, with_mlrun=False)\n",
    "\n",
    "task_ = mlrun.NewTask(\n",
    "    TASK_NAME,\n",
    "    handler=HANDLER,\n",
    "    params={\n",
    "        'dask_client'   : DASK_CLIENT,\n",
    "        'dask_key'      : DASK_KEY,\n",
    "        'label_column'  : LABEL_COLUMN,\n",
    "        'categories'    : CATEGORIES,\n",
    "        'target_path'   : TARGET_PATH,\n",
    "        'random_state'  : RNG,\n",
    "    })\n",
    "\n",
    "tsk2 = splitter.run(task_, handler='splitter_labelencode')"
   ]
  },
  {
   "cell_type": "markdown",
   "metadata": {},
   "source": [
    "## tests"
   ]
  },
  {
   "cell_type": "code",
   "execution_count": 5,
   "metadata": {},
   "outputs": [
    {
     "name": "stderr",
     "output_type": "stream",
     "text": [
      "/conda/lib/python3.6/site-packages/distributed/client.py:1071: VersionMismatchWarning: Mismatched versions found\n",
      "\n",
      "lz4\n",
      "+--------------------------+---------+\n",
      "|                          | version |\n",
      "+--------------------------+---------+\n",
      "| client                   | 3.0.2   |\n",
      "| scheduler                | 2.2.1   |\n",
      "| tcp://10.233.64.53:36132 | 2.2.1   |\n",
      "| tcp://10.233.64.54:41331 | 2.2.1   |\n",
      "| tcp://10.233.64.55:37728 | 2.2.1   |\n",
      "| tcp://10.233.64.56:43233 | 2.2.1   |\n",
      "| tcp://10.233.64.57:44692 | 2.2.1   |\n",
      "| tcp://10.233.64.58:45015 | 2.2.1   |\n",
      "| tcp://10.233.64.59:36351 | 2.2.1   |\n",
      "| tcp://10.233.64.60:40581 | 2.2.1   |\n",
      "+--------------------------+---------+\n",
      "\n",
      "msgpack\n",
      "+--------------------------+---------+\n",
      "|                          | version |\n",
      "+--------------------------+---------+\n",
      "| client                   | 0.6.1   |\n",
      "| scheduler                | 0.6.2   |\n",
      "| tcp://10.233.64.53:36132 | 0.6.2   |\n",
      "| tcp://10.233.64.54:41331 | 0.6.2   |\n",
      "| tcp://10.233.64.55:37728 | 0.6.2   |\n",
      "| tcp://10.233.64.56:43233 | 0.6.2   |\n",
      "| tcp://10.233.64.57:44692 | 0.6.2   |\n",
      "| tcp://10.233.64.58:45015 | 0.6.2   |\n",
      "| tcp://10.233.64.59:36351 | 0.6.2   |\n",
      "| tcp://10.233.64.60:40581 | 0.6.2   |\n",
      "+--------------------------+---------+\n",
      "  warnings.warn(version_module.VersionMismatchWarning(msg[0][\"warning\"]))\n"
     ]
    },
    {
     "data": {
      "text/plain": [
       "('airlines', 'xtrain', 'xvalid', 'ytrain', 'yvalid')"
      ]
     },
     "execution_count": 5,
     "metadata": {},
     "output_type": "execute_result"
    },
    {
     "name": "stderr",
     "output_type": "stream",
     "text": [
      "distributed.client - ERROR - Failed to reconnect to scheduler after 10.00 seconds, closing client\n",
      "distributed.utils - ERROR - \n",
      "Traceback (most recent call last):\n",
      "  File \"/conda/lib/python3.6/site-packages/distributed/utils.py\", line 662, in log_errors\n",
      "    yield\n",
      "  File \"/conda/lib/python3.6/site-packages/distributed/client.py\", line 1306, in _close\n",
      "    await asyncio.wait_for(asyncio.gather(*coroutines), 2)\n",
      "  File \"/conda/lib/python3.6/asyncio/tasks.py\", line 351, in wait_for\n",
      "    yield from waiter\n",
      "  File \"/conda/lib/python3.6/asyncio/futures.py\", line 327, in __iter__\n",
      "    yield self  # This tells Task to wait for completion.\n",
      "  File \"/conda/lib/python3.6/asyncio/tasks.py\", line 250, in _wakeup\n",
      "    future.result()\n",
      "  File \"/conda/lib/python3.6/asyncio/futures.py\", line 238, in result\n",
      "    raise CancelledError\n",
      "concurrent.futures._base.CancelledError\n",
      "distributed.utils - ERROR - \n",
      "Traceback (most recent call last):\n",
      "  File \"/conda/lib/python3.6/site-packages/distributed/utils.py\", line 662, in log_errors\n",
      "    yield\n",
      "  File \"/conda/lib/python3.6/site-packages/distributed/client.py\", line 1024, in _reconnect\n",
      "    await self._close()\n",
      "  File \"/conda/lib/python3.6/site-packages/distributed/client.py\", line 1306, in _close\n",
      "    await asyncio.wait_for(asyncio.gather(*coroutines), 2)\n",
      "  File \"/conda/lib/python3.6/asyncio/tasks.py\", line 351, in wait_for\n",
      "    yield from waiter\n",
      "  File \"/conda/lib/python3.6/asyncio/futures.py\", line 327, in __iter__\n",
      "    yield self  # This tells Task to wait for completion.\n",
      "  File \"/conda/lib/python3.6/asyncio/tasks.py\", line 250, in _wakeup\n",
      "    future.result()\n",
      "  File \"/conda/lib/python3.6/asyncio/futures.py\", line 238, in result\n",
      "    raise CancelledError\n",
      "concurrent.futures._base.CancelledError\n",
      "_GatheringFuture exception was never retrieved\n",
      "future: <_GatheringFuture finished exception=CancelledError()>\n",
      "concurrent.futures._base.CancelledError\n"
     ]
    }
   ],
   "source": [
    "import dask\n",
    "import dask.dataframe as dd\n",
    "from dask.distributed import Client, LocalCluster\n",
    "\n",
    "client = Client(scheduler_file='/User/repos/demos/dask/artifacts/scheduler.json')\n",
    "\n",
    "assert  client.list_datasets() == ('airlines', 'xtrain', 'xvalid', 'ytrain', 'yvalid')\n",
    "\n",
    "client.list_datasets()"
   ]
  },
  {
   "cell_type": "code",
   "execution_count": null,
   "metadata": {},
   "outputs": [],
   "source": []
  }
 ],
 "metadata": {
  "kernelspec": {
   "display_name": "Python 3",
   "language": "python",
   "name": "python3"
  },
  "language_info": {
   "codemirror_mode": {
    "name": "ipython",
    "version": 3
   },
   "file_extension": ".py",
   "mimetype": "text/x-python",
   "name": "python",
   "nbconvert_exporter": "python",
   "pygments_lexer": "ipython3",
   "version": "3.6.8"
  }
 },
 "nbformat": 4,
 "nbformat_minor": 4
}

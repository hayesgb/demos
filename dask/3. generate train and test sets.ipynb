{
 "cells": [
  {
   "cell_type": "markdown",
   "metadata": {},
   "source": [
    "# split data into train, validation and test sets"
   ]
  },
  {
   "cell_type": "code",
   "execution_count": 1,
   "metadata": {},
   "outputs": [],
   "source": [
    "import mlrun\n",
    "import os\n",
    "import numpy as np\n",
    "mlrun.mlconf.dbpath = 'http://mlrun-api:8080'"
   ]
  },
  {
   "cell_type": "markdown",
   "metadata": {},
   "source": [
    "## parameters\n",
    "\n",
    "**Please be sure to run the notebooks [1. remote archive to local parquet](1.%20remote%20archive%20to%20local%20parquet.ipynb) and [2. parquet to dask cluster](2.%20parquet%20to%20dask%20cluster.ipynb) before running this one.**"
   ]
  },
  {
   "cell_type": "markdown",
   "metadata": {},
   "source": [
    "Since our data is already loaded into a Dask cluster we use that as our source"
   ]
  },
  {
   "cell_type": "code",
   "execution_count": 2,
   "metadata": {},
   "outputs": [],
   "source": [
    "DESCRIPTION        = 'split data into train, validation and test splits'\n",
    "\n",
    "IMAGE              = 'yjbds/mlrun-dask:dev'\n",
    "JOB_KIND           = 'job'\n",
    "TASK_NAME          = 'user-task-data-splits'\n",
    "\n",
    "TARGET_PATH        = '/User/repos/demos/dask/artifacts'\n",
    "DASK_CLIENT        = 'scheduler.json'\n",
    "DASK_KEY           = 'airlines'\n",
    "LABEL_COLUMN       = 'ArrDelay'\n",
    "CATEGORIES         = ['UniqueCarrier', 'Origin', 'Dest']\n",
    "\n",
    "# insert run id ... from db here\n",
    "MLRUN_DB_UID       = '0bb6c8794695400ea79c28900737277b'\n",
    "\n",
    "RNG                = 1"
   ]
  },
  {
   "cell_type": "code",
   "execution_count": 3,
   "metadata": {},
   "outputs": [],
   "source": [
    "HANDLER = 'splitter_labelencode'"
   ]
  },
  {
   "cell_type": "markdown",
   "metadata": {},
   "source": [
    "## split the data"
   ]
  },
  {
   "cell_type": "code",
   "execution_count": 4,
   "metadata": {},
   "outputs": [
    {
     "name": "stdout",
     "output_type": "stream",
     "text": [
      "[mlrun] 2020-02-13 06:31:08,960 function spec saved to path: /User/repos/demos/dask/yaml/splitter-labelencode.yaml\n",
      "[mlrun] 2020-02-13 06:31:08,970 starting run user-task-data-splits uid=bcdc2146794046688d13960dd21e6868  -> http://mlrun-api:8080\n",
      "[mlrun] 2020-02-13 06:31:09,035 Job is running in the background, pod: user-task-data-splits-8s246\n",
      "[mlrun] 2020-02-13 06:32:53,882 log artifact header at /User/repos/demos/dask/artifacts/header.pkl, size: None, db: Y\n",
      "[mlrun] 2020-02-13 06:37:24,113 log artifact test_set at /User/repos/demos/dask/artifacts/test_set, size: None, db: Y\n",
      "\n",
      "[mlrun] 2020-02-13 06:37:24,196 run executed, status=completed\n",
      "Intel(R) Data Analytics Acceleration Library (Intel(R) DAAL) solvers for sklearn enabled: https://intelpython.github.io/daal4py/sklearn.html\n",
      "/opt/conda/lib/python3.7/site-packages/dask/dataframe/multi.py:1059: UserWarning: Concatenating dataframes with unknown divisions.\n",
      "We're assuming that the indexes of each dataframes are \n",
      " aligned. This assumption is not generally safe.\n",
      "  \"Concatenating dataframes with unknown divisions.\\n\"\n",
      "final state: succeeded\n"
     ]
    },
    {
     "name": "stderr",
     "output_type": "stream",
     "text": [
      "/User/.pythonlibs/jupyter-1/lib/python3.6/site-packages/mlrun/render.py:324: FutureWarning: Passing a negative integer is deprecated in version 1.0 and will not be supported in future version. Instead, use None to not limit the column width.\n",
      "  pd.set_option('display.max_colwidth', -1)\n"
     ]
    },
    {
     "data": {
      "text/html": [
       "<style> \n",
       ".dictlist {\n",
       "  background-color: #b3edff; \n",
       "  text-align: center; \n",
       "  margin: 4px; \n",
       "  border-radius: 3px; padding: 0px 3px 1px 3px; display: inline-block;}\n",
       ".artifact {\n",
       "  cursor: pointer; \n",
       "  background-color: #ffe6cc; \n",
       "  text-align: left; \n",
       "  margin: 4px; border-radius: 3px; padding: 0px 3px 1px 3px; display: inline-block;\n",
       "}\n",
       "div.block.hidden {\n",
       "  display: none;\n",
       "}\n",
       ".clickable {\n",
       "  cursor: pointer;\n",
       "}\n",
       ".ellipsis {\n",
       "  display: inline-block;\n",
       "  max-width: 60px;\n",
       "  white-space: nowrap;\n",
       "  overflow: hidden;\n",
       "  text-overflow: ellipsis;\n",
       "}\n",
       ".master-wrapper {\n",
       "  display: flex;\n",
       "  flex-flow: row nowrap;\n",
       "  justify-content: flex-start;\n",
       "  align-items: stretch;\n",
       "}\n",
       ".master-tbl {\n",
       "  flex: 3\n",
       "}\n",
       ".master-wrapper > div {\n",
       "  margin: 4px;\n",
       "  padding: 10px;\n",
       "}\n",
       "iframe.fileview {\n",
       "  border: 0 none;\n",
       "  height: 100%;\n",
       "  width: 100%;\n",
       "  white-space: pre-wrap;\n",
       "}\n",
       ".pane-header-title {\n",
       "  width: 80%;\n",
       "  font-weight: 500;\n",
       "}\n",
       ".pane-header {\n",
       "  line-height: 1;\n",
       "  background-color: #ffe6cc;\n",
       "  padding: 3px;\n",
       "}\n",
       ".pane-header .close {\n",
       "  font-size: 20px;\n",
       "  font-weight: 700;\n",
       "  float: right;\n",
       "  margin-top: -5px;\n",
       "}\n",
       ".master-wrapper .right-pane {\n",
       "  border: 1px inset silver;\n",
       "  width: 40%;\n",
       "  min-height: 300px;\n",
       "  flex: 3\n",
       "  min-width: 500px;\n",
       "}\n",
       ".master-wrapper * {\n",
       "  box-sizing: border-box;\n",
       "}\n",
       "</style><script>\n",
       "function copyToClipboard(fld) {\n",
       "    if (document.queryCommandSupported && document.queryCommandSupported('copy')) {\n",
       "        var textarea = document.createElement('textarea');\n",
       "        textarea.textContent = fld.innerHTML;\n",
       "        textarea.style.position = 'fixed';\n",
       "        document.body.appendChild(textarea);\n",
       "        textarea.select();\n",
       "\n",
       "        try {\n",
       "            return document.execCommand('copy'); // Security exception may be thrown by some browsers.\n",
       "        } catch (ex) {\n",
       "\n",
       "        } finally {\n",
       "            document.body.removeChild(textarea);\n",
       "        }\n",
       "    }\n",
       "}\n",
       "function expandPanel(el) {\n",
       "  const panelName = \"#\" + el.getAttribute('paneName');\n",
       "  console.log(el.title);\n",
       "\n",
       "  document.querySelector(panelName + \"-title\").innerHTML = el.title\n",
       "  iframe = document.querySelector(panelName + \"-body\");\n",
       "  \n",
       "  const tblcss = `<style> body { font-family: Arial, Helvetica, sans-serif;}\n",
       "    #csv { margin-bottom: 15px; }\n",
       "    #csv table { border-collapse: collapse;}\n",
       "    #csv table td { padding: 4px 8px; border: 1px solid silver;} </style>`;\n",
       "\n",
       "  function csvToHtmlTable(str) {\n",
       "    return '<div id=\"csv\"><table><tr><td>' +  str.replace(/[\\n\\r]+$/g, '').replace(/[\\n\\r]+/g, '</td></tr><tr><td>')\n",
       "      .replace(/,/g, '</td><td>') + '</td></tr></table></div>';\n",
       "  }\n",
       "  \n",
       "  function reqListener () {\n",
       "    if (el.title.endsWith(\".csv\")) {\n",
       "      iframe.setAttribute(\"srcdoc\", tblcss + csvToHtmlTable(this.responseText));\n",
       "    } else {\n",
       "      iframe.setAttribute(\"srcdoc\", this.responseText);\n",
       "    }  \n",
       "    console.log(this.responseText);\n",
       "  }\n",
       "\n",
       "  const oReq = new XMLHttpRequest();\n",
       "  oReq.addEventListener(\"load\", reqListener);\n",
       "  oReq.open(\"GET\", el.title);\n",
       "  oReq.send();\n",
       "  \n",
       "  \n",
       "  //iframe.src = el.title;\n",
       "  const resultPane = document.querySelector(panelName + \"-pane\");\n",
       "  if (resultPane.classList.contains(\"hidden\")) {\n",
       "    resultPane.classList.remove(\"hidden\");\n",
       "  }\n",
       "}\n",
       "function closePanel(el) {\n",
       "  const panelName = \"#\" + el.getAttribute('paneName')\n",
       "  const resultPane = document.querySelector(panelName + \"-pane\");\n",
       "  if (!resultPane.classList.contains(\"hidden\")) {\n",
       "    resultPane.classList.add(\"hidden\");\n",
       "  }\n",
       "}\n",
       "\n",
       "</script>\n",
       "<div class=\"master-wrapper\">\n",
       "  <div class=\"block master-tbl\"><div>\n",
       "<style scoped>\n",
       "    .dataframe tbody tr th:only-of-type {\n",
       "        vertical-align: middle;\n",
       "    }\n",
       "\n",
       "    .dataframe tbody tr th {\n",
       "        vertical-align: top;\n",
       "    }\n",
       "\n",
       "    .dataframe thead th {\n",
       "        text-align: right;\n",
       "    }\n",
       "</style>\n",
       "<table border=\"1\" class=\"dataframe\">\n",
       "  <thead>\n",
       "    <tr style=\"text-align: right;\">\n",
       "      <th>uid</th>\n",
       "      <th>iter</th>\n",
       "      <th>start</th>\n",
       "      <th>state</th>\n",
       "      <th>name</th>\n",
       "      <th>labels</th>\n",
       "      <th>inputs</th>\n",
       "      <th>parameters</th>\n",
       "      <th>results</th>\n",
       "      <th>artifacts</th>\n",
       "    </tr>\n",
       "  </thead>\n",
       "  <tbody>\n",
       "    <tr>\n",
       "      <td><div title=\"bcdc2146794046688d13960dd21e6868\">...1e6868</div></td>\n",
       "      <td>0</td>\n",
       "      <td>Feb 13 06:31:20</td>\n",
       "      <td>completed</td>\n",
       "      <td>splitter-labelencode</td>\n",
       "      <td><div class=\"dictlist\">host=user-task-data-splits-8s246</div><div class=\"dictlist\">kind=job</div><div class=\"dictlist\">owner=admin</div></td>\n",
       "      <td></td>\n",
       "      <td><div class=\"dictlist\">categories=['UniqueCarrier', 'Origin', 'Dest']</div><div class=\"dictlist\">dask_client=scheduler.json</div><div class=\"dictlist\">dask_key=airlines</div><div class=\"dictlist\">label_column=ArrDelay</div><div class=\"dictlist\">random_state=1</div><div class=\"dictlist\">target_path=/User/repos/demos/dask/artifacts</div></td>\n",
       "      <td></td>\n",
       "      <td><div title=\"/User/repos/demos/dask/artifacts/header.pkl\">header</div><div title=\"/User/repos/demos/dask/artifacts/test_set\">test_set</div></td>\n",
       "    </tr>\n",
       "  </tbody>\n",
       "</table>\n",
       "</div></div>\n",
       "  <div id=\"result91ca96e2-pane\" class=\"right-pane block hidden\">\n",
       "    <div class=\"pane-header\">\n",
       "      <span id=\"result91ca96e2-title\" class=\"pane-header-title\">Title</span>\n",
       "      <span onclick=\"closePanel(this)\" paneName=\"result91ca96e2\" class=\"close clickable\">&times;</span>\n",
       "    </div>\n",
       "    <iframe class=\"fileview\" id=\"result91ca96e2-body\"></iframe>\n",
       "  </div>\n",
       "</div>\n"
      ],
      "text/plain": [
       "<IPython.core.display.HTML object>"
      ]
     },
     "metadata": {},
     "output_type": "display_data"
    },
    {
     "name": "stdout",
     "output_type": "stream",
     "text": [
      "to track results use .show() or .logs() or in CLI: \n",
      "!mlrun get run bcdc2146794046688d13960dd21e6868  , !mlrun logs bcdc2146794046688d13960dd21e6868 \n",
      "[mlrun] 2020-02-13 06:37:30,168 run executed, status=completed\n"
     ]
    }
   ],
   "source": [
    "# load function from a local Python file\n",
    "splitter = mlrun.new_function(command='/User/repos/demos/dask/code/splitter-labelencode.py', \n",
    "                              image=IMAGE,\n",
    "                              kind=JOB_KIND)\n",
    "\n",
    "splitter.spec.build.image = IMAGE\n",
    "\n",
    "# export or load function yaml\n",
    "splitter.export('/User/repos/demos/dask/yaml/splitter-labelencode.yaml')\n",
    "# splitter = mlrun.import_function('/User/repos/dask/yaml/train_valid_test_splitter-airlines.yaml')\n",
    "\n",
    "splitter.apply(mlrun.mount_v3io())\n",
    "splitter.deploy(skip_deployed=True, with_mlrun=False)\n",
    "\n",
    "task_ = mlrun.NewTask(\n",
    "    TASK_NAME,\n",
    "    handler=HANDLER,\n",
    "    params={\n",
    "        'dask_client'   : DASK_CLIENT,\n",
    "        'dask_key'      : DASK_KEY,\n",
    "        'label_column'  : LABEL_COLUMN,\n",
    "        'categories'    : CATEGORIES,\n",
    "        'target_path'   : TARGET_PATH,\n",
    "        'random_state'  : RNG,\n",
    "    })\n",
    "\n",
    "tsk2 = splitter.run(task_, handler='splitter_labelencode')"
   ]
  },
  {
   "cell_type": "markdown",
   "metadata": {},
   "source": [
    "## tests"
   ]
  },
  {
   "cell_type": "code",
   "execution_count": 5,
   "metadata": {},
   "outputs": [],
   "source": [
    "import dask\n",
    "import dask.dataframe as dd\n",
    "from dask.distributed import Client, LocalCluster"
   ]
  },
  {
   "cell_type": "code",
   "execution_count": 6,
   "metadata": {},
   "outputs": [
    {
     "name": "stderr",
     "output_type": "stream",
     "text": [
      "/conda/lib/python3.6/site-packages/distributed/client.py:1071: VersionMismatchWarning: Mismatched versions found\n",
      "\n",
      "lz4\n",
      "+--------------------------+---------+\n",
      "|                          | version |\n",
      "+--------------------------+---------+\n",
      "| client                   | 3.0.2   |\n",
      "| scheduler                | 2.2.1   |\n",
      "| tcp://10.233.64.52:41923 | 2.2.1   |\n",
      "| tcp://10.233.64.53:33822 | 2.2.1   |\n",
      "| tcp://10.233.64.54:38139 | 2.2.1   |\n",
      "| tcp://10.233.64.55:34344 | 2.2.1   |\n",
      "| tcp://10.233.64.56:38055 | 2.2.1   |\n",
      "| tcp://10.233.64.57:36040 | 2.2.1   |\n",
      "| tcp://10.233.64.58:35049 | 2.2.1   |\n",
      "| tcp://10.233.64.59:43970 | 2.2.1   |\n",
      "+--------------------------+---------+\n",
      "\n",
      "msgpack\n",
      "+--------------------------+---------+\n",
      "|                          | version |\n",
      "+--------------------------+---------+\n",
      "| client                   | 0.6.1   |\n",
      "| scheduler                | 0.6.2   |\n",
      "| tcp://10.233.64.52:41923 | 0.6.2   |\n",
      "| tcp://10.233.64.53:33822 | 0.6.2   |\n",
      "| tcp://10.233.64.54:38139 | 0.6.2   |\n",
      "| tcp://10.233.64.55:34344 | 0.6.2   |\n",
      "| tcp://10.233.64.56:38055 | 0.6.2   |\n",
      "| tcp://10.233.64.57:36040 | 0.6.2   |\n",
      "| tcp://10.233.64.58:35049 | 0.6.2   |\n",
      "| tcp://10.233.64.59:43970 | 0.6.2   |\n",
      "+--------------------------+---------+\n",
      "  warnings.warn(version_module.VersionMismatchWarning(msg[0][\"warning\"]))\n"
     ]
    }
   ],
   "source": [
    "client = Client(scheduler_file='/User/repos/demos/dask/artifacts/scheduler.json')"
   ]
  },
  {
   "cell_type": "code",
   "execution_count": 7,
   "metadata": {},
   "outputs": [],
   "source": [
    "assert  client.list_datasets() == ('airlines', 'xtrain', 'xvalid', 'ytrain', 'yvalid')"
   ]
  },
  {
   "cell_type": "code",
   "execution_count": 8,
   "metadata": {},
   "outputs": [
    {
     "data": {
      "text/plain": [
       "('airlines', 'xtrain', 'xvalid', 'ytrain', 'yvalid')"
      ]
     },
     "execution_count": 8,
     "metadata": {},
     "output_type": "execute_result"
    }
   ],
   "source": [
    "client.list_datasets()"
   ]
  },
  {
   "cell_type": "code",
   "execution_count": null,
   "metadata": {},
   "outputs": [],
   "source": []
  }
 ],
 "metadata": {
  "kernelspec": {
   "display_name": "Python 3",
   "language": "python",
   "name": "python3"
  },
  "language_info": {
   "codemirror_mode": {
    "name": "ipython",
    "version": 3
   },
   "file_extension": ".py",
   "mimetype": "text/x-python",
   "name": "python",
   "nbconvert_exporter": "python",
   "pygments_lexer": "ipython3",
   "version": "3.6.8"
  }
 },
 "nbformat": 4,
 "nbformat_minor": 4
}

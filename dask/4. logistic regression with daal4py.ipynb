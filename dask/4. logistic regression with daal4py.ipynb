{
 "cells": [
  {
   "cell_type": "markdown",
   "metadata": {},
   "source": [
    "# daal4py\n",
    "training a classifier using daal4py"
   ]
  },
  {
   "cell_type": "code",
   "execution_count": 1,
   "metadata": {},
   "outputs": [],
   "source": [
    "import mlrun\n",
    "\n",
    "mlrun.mlconf.dbpath = 'http://mlrun-api:8080'"
   ]
  },
  {
   "cell_type": "markdown",
   "metadata": {},
   "source": [
    "## parameters\n"
   ]
  },
  {
   "cell_type": "code",
   "execution_count": 2,
   "metadata": {},
   "outputs": [],
   "source": [
    "FUNCTION           = 'clf_logreg_daal4py'               # python function file name\n",
    "DESCRIPTION        = 'train a LogisticRegression classifier using daal4py'       \n",
    "\n",
    "IMAGE              = 'yjbds/mlrun-dask:dev'          # custom image\n",
    "JOB_KIND           = 'job'                                           \n",
    "\n",
    "TASK_NAME          = 'user-task-train-logreg-daal4py'     # whatever\n",
    "\n",
    "ARTIFACTS_PATH     = '/User/repos/demos/dask/artifacts'\n",
    "\n",
    "DASK_CLIENT        = 'scheduler.json'\n",
    "TRAIN_SET          = ('xtrain', 'ytrain') # published names in the cluster \n",
    "VALID_SET          = ('xvalid', 'yvalid')\n",
    "\n",
    "MODEL_NAME         = 'logreg-daal-model.pkl'\n",
    "MODEL_KEY          = 'logreg-daal-model'"
   ]
  },
  {
   "cell_type": "markdown",
   "metadata": {},
   "source": [
    "## load and configure function"
   ]
  },
  {
   "cell_type": "code",
   "execution_count": 3,
   "metadata": {},
   "outputs": [],
   "source": [
    "FUNC_PY = '/User/repos/demos/dask/code/clf_logreg_daal4py.py'\n",
    "FUNC_YAML = '/User/repos/demos/dask/yaml/clf_logreg_daal4py.yaml'"
   ]
  },
  {
   "cell_type": "code",
   "execution_count": null,
   "metadata": {},
   "outputs": [
    {
     "name": "stdout",
     "output_type": "stream",
     "text": [
      "[mlrun] 2020-02-11 19:43:38,857 function spec saved to path: /User/repos/demos/dask/yaml/clf_logreg_daal4py.yaml\n",
      "[mlrun] 2020-02-11 19:43:38,865 starting run user-task-train-logreg-daal4py uid=ea89440a0dea48b79e9c7577d7923ddd  -> http://mlrun-api:8080\n",
      "[mlrun] 2020-02-11 19:43:38,937 Job is running in the background, pod: user-task-train-logreg-daal4py-xjdkj\n"
     ]
    }
   ],
   "source": [
    "clf_logreg_daal = mlrun.new_function(command=FUNC_PY, image=IMAGE, kind=JOB_KIND)\n",
    "clf_logreg_daal.spec.build.image = IMAGE\n",
    "\n",
    "clf_logreg_daal.export(FUNC_YAML)\n",
    "# clf_lgbm = mlrun.import_function(FUNC_YAML)\n",
    "\n",
    "clf_logreg_daal.apply(mlrun.mount_v3io())\n",
    "\n",
    "clf_logreg_daal.deploy(skip_deployed=True, with_mlrun=False)\n",
    "\n",
    "# create and run the task\n",
    "train_clf_logreg_daal_task = mlrun.NewTask(\n",
    "    TASK_NAME, \n",
    "    handler=FUNCTION,  \n",
    "    params={\n",
    "        'dask_client': DASK_CLIENT,\n",
    "        'train_set'  : TRAIN_SET,\n",
    "        'valid_set'  : VALID_SET,\n",
    "        'target_path': ARTIFACTS_PATH,\n",
    "        'name'       : MODEL_NAME,\n",
    "        'key'        : MODEL_KEY,\n",
    "        'n_classes'  : 2\n",
    "    })\n",
    "\n",
    "# run\n",
    "rn = clf_logreg_daal.run(train_clf_logreg_daal_task)"
   ]
  },
  {
   "cell_type": "code",
   "execution_count": null,
   "metadata": {},
   "outputs": [],
   "source": []
  }
 ],
 "metadata": {
  "kernelspec": {
   "display_name": "Python 3",
   "language": "python",
   "name": "python3"
  },
  "language_info": {
   "codemirror_mode": {
    "name": "ipython",
    "version": 3
   },
   "file_extension": ".py",
   "mimetype": "text/x-python",
   "name": "python",
   "nbconvert_exporter": "python",
   "pygments_lexer": "ipython3",
   "version": "3.6.8"
  }
 },
 "nbformat": 4,
 "nbformat_minor": 4
}

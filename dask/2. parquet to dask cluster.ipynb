{
 "cells": [
  {
   "cell_type": "markdown",
   "metadata": {},
   "source": [
    "# Parquet to Dask\n",
    "load a parquet dataset into as dask cluster"
   ]
  },
  {
   "cell_type": "markdown",
   "metadata": {},
   "source": [
    "Once the client connects to the dask cluster we can check for package consistency by calling `dask_client.get_versions(check=True)`.  Scheduler and worker\n",
    "nodes are guaranteed to have the same package versions in `mlrun` since mismatches would likely cause serialization failures.  The client (in this notebook or in some other process) may have different versions and this mismatch is **less likely** to cause issues.  The following installs can be performed to ensure this mismatch becomes **unlikely** (as of this writing). **This may need to be done periodically as the dockerfiles refresh, unless you specifiy an image tag.**"
   ]
  },
  {
   "cell_type": "markdown",
   "metadata": {},
   "source": [
    "    !python -m pip install --upgrade pip\n",
    "    !python -m pip uninstall -y cmake\n",
    "    !python -m pip install cmake\n",
    "    !python -m pip install scikit-build\n",
    "\n",
    "    !python -m pip install lz4\n",
    "    !python -m pip install git+https://github.com/Blosc/python-blosc.git@v1.8.3\n",
    "    !python -m pip install cloudpickle==1.2.2\n",
    "\n",
    "    !python -m pip install numpy==1.17.4"
   ]
  },
  {
   "cell_type": "markdown",
   "metadata": {},
   "source": [
    "## clean up\n",
    "delete stale pods"
   ]
  },
  {
   "cell_type": "code",
   "execution_count": 1,
   "metadata": {},
   "outputs": [],
   "source": [
    "# !mlrun clean -p -r"
   ]
  },
  {
   "cell_type": "code",
   "execution_count": 2,
   "metadata": {},
   "outputs": [],
   "source": [
    "import mlrun\n",
    "\n",
    "mlrun.mlconf.dbpath = 'http://mlrun-api:8080'"
   ]
  },
  {
   "cell_type": "code",
   "execution_count": 3,
   "metadata": {},
   "outputs": [],
   "source": [
    "# replace with your app node ip\n",
    "mlrun.mlconf.remote_host = '18.223.249.136' "
   ]
  },
  {
   "cell_type": "markdown",
   "metadata": {},
   "source": [
    "## parameters\n"
   ]
  },
  {
   "cell_type": "code",
   "execution_count": 4,
   "metadata": {},
   "outputs": [],
   "source": [
    "DESCRIPTION        = 'load parquet dataset into a dask cluster'       \n",
    "\n",
    "IMAGE              = 'yjbds/mlrun-dask:dev'                           # custom image\n",
    "JOB_KIND           = 'dask'                                           \n",
    "\n",
    "TASK_NAME          = 'user-task-parq-to-dask'                         # whatever\n",
    "\n",
    "ARTIFACTS_PATH     = '/User/repos/demos/dask/artifacts'\n",
    "YAML_PATH          = '/User/repos/demos/dask/yaml'\n",
    "\n",
    "DATA_PATH          = '/User/repos/demos/dask/dataset/partitions'\n",
    "DOWNSAMPLE         = 0.01\n",
    "PARTITION_COLS     = ['Year', 'Month']\n",
    "PARTITION_COLS     = None\n",
    "\n",
    "DASK_SHARDS        = 8\n",
    "DASK_THREADS_PER   = 8\n",
    "MEMORY_LIMIT       = '5GB'\n",
    "\n",
    "DASK_KEY           = 'airlines'"
   ]
  },
  {
   "cell_type": "markdown",
   "metadata": {},
   "source": [
    "## load and configure function"
   ]
  },
  {
   "cell_type": "code",
   "execution_count": 5,
   "metadata": {},
   "outputs": [],
   "source": [
    "FUNC_PY   = '/User/repos/demos/dask/code/parquet-to-dask.py'\n",
    "FUNC_YAML = '/User/repos/demos/dask/yaml/parquet-to-dask.yaml'\n",
    "\n",
    "HANDLER   = 'parquet_to_dask'"
   ]
  },
  {
   "cell_type": "markdown",
   "metadata": {},
   "source": [
    "#### some of the following cells can be commented out if this notebook has already been run."
   ]
  },
  {
   "cell_type": "code",
   "execution_count": 6,
   "metadata": {},
   "outputs": [
    {
     "name": "stdout",
     "output_type": "stream",
     "text": [
      "[mlrun] 2020-02-13 06:28:00,162 function spec saved to path: /User/repos/demos/dask/yaml/parquet-to-dask.yaml\n",
      "[mlrun] 2020-02-13 06:28:00,526 starting remote build, image: yjbds/mlrun-dask:dev\n",
      "[mlrun] 2020-02-13 06:28:00,581 starting run user-task-parq-to-dask uid=26e89f78683d455694c7a8148553f186  -> http://mlrun-api:8080\n",
      "[mlrun] 2020-02-13 06:28:02,058 saving function: parquet-to-dask, tag: latest\n",
      "[mlrun] 2020-02-13 06:28:09,993 using remote dask scheduler (mlrun-parquet-to-dask-3fd6b276-a) at: 18.223.249.136:30640\n",
      "[mlrun] 2020-02-13 06:28:09,993 remote dashboard (node) port: 18.223.249.136:31570\n"
     ]
    },
    {
     "name": "stderr",
     "output_type": "stream",
     "text": [
      "/conda/lib/python3.6/site-packages/distributed/client.py:1071: VersionMismatchWarning: Mismatched versions found\n",
      "\n",
      "lz4\n",
      "+-----------+---------+\n",
      "|           | version |\n",
      "+-----------+---------+\n",
      "| client    | 3.0.2   |\n",
      "| scheduler | 2.2.1   |\n",
      "+-----------+---------+\n",
      "\n",
      "msgpack\n",
      "+-----------+---------+\n",
      "|           | version |\n",
      "+-----------+---------+\n",
      "| client    | 0.6.1   |\n",
      "| scheduler | 0.6.2   |\n",
      "+-----------+---------+\n",
      "  warnings.warn(version_module.VersionMismatchWarning(msg[0][\"warning\"]))\n"
     ]
    },
    {
     "name": "stdout",
     "output_type": "stream",
     "text": [
      "[mlrun] 2020-02-13 06:28:09,994 found cluster...\n",
      "[mlrun] 2020-02-13 06:28:09,994 <Client: 'tcp://10.233.64.49:8786' processes=0 threads=0, memory=0 B>\n",
      "[mlrun] 2020-02-13 06:30:26,606 column header ['Year' 'Month' 'DayofMonth' 'DayOfWeek' 'CRSDepTime' 'UniqueCarrier'\n",
      " 'ArrDelay' 'Origin' 'Dest' 'Distance']\n",
      "[mlrun] 2020-02-13 06:30:27,324 log artifact scheduler at /User/repos/demos/dask/artifacts/scheduler.json, size: None, db: Y\n",
      "\n",
      "[mlrun] 2020-02-13 06:30:27,357 run ended with state \n"
     ]
    },
    {
     "name": "stderr",
     "output_type": "stream",
     "text": [
      "/User/.pythonlibs/jupyter-1/lib/python3.6/site-packages/mlrun/render.py:324: FutureWarning: Passing a negative integer is deprecated in version 1.0 and will not be supported in future version. Instead, use None to not limit the column width.\n",
      "  pd.set_option('display.max_colwidth', -1)\n"
     ]
    },
    {
     "data": {
      "text/html": [
       "<style> \n",
       ".dictlist {\n",
       "  background-color: #b3edff; \n",
       "  text-align: center; \n",
       "  margin: 4px; \n",
       "  border-radius: 3px; padding: 0px 3px 1px 3px; display: inline-block;}\n",
       ".artifact {\n",
       "  cursor: pointer; \n",
       "  background-color: #ffe6cc; \n",
       "  text-align: left; \n",
       "  margin: 4px; border-radius: 3px; padding: 0px 3px 1px 3px; display: inline-block;\n",
       "}\n",
       "div.block.hidden {\n",
       "  display: none;\n",
       "}\n",
       ".clickable {\n",
       "  cursor: pointer;\n",
       "}\n",
       ".ellipsis {\n",
       "  display: inline-block;\n",
       "  max-width: 60px;\n",
       "  white-space: nowrap;\n",
       "  overflow: hidden;\n",
       "  text-overflow: ellipsis;\n",
       "}\n",
       ".master-wrapper {\n",
       "  display: flex;\n",
       "  flex-flow: row nowrap;\n",
       "  justify-content: flex-start;\n",
       "  align-items: stretch;\n",
       "}\n",
       ".master-tbl {\n",
       "  flex: 3\n",
       "}\n",
       ".master-wrapper > div {\n",
       "  margin: 4px;\n",
       "  padding: 10px;\n",
       "}\n",
       "iframe.fileview {\n",
       "  border: 0 none;\n",
       "  height: 100%;\n",
       "  width: 100%;\n",
       "  white-space: pre-wrap;\n",
       "}\n",
       ".pane-header-title {\n",
       "  width: 80%;\n",
       "  font-weight: 500;\n",
       "}\n",
       ".pane-header {\n",
       "  line-height: 1;\n",
       "  background-color: #ffe6cc;\n",
       "  padding: 3px;\n",
       "}\n",
       ".pane-header .close {\n",
       "  font-size: 20px;\n",
       "  font-weight: 700;\n",
       "  float: right;\n",
       "  margin-top: -5px;\n",
       "}\n",
       ".master-wrapper .right-pane {\n",
       "  border: 1px inset silver;\n",
       "  width: 40%;\n",
       "  min-height: 300px;\n",
       "  flex: 3\n",
       "  min-width: 500px;\n",
       "}\n",
       ".master-wrapper * {\n",
       "  box-sizing: border-box;\n",
       "}\n",
       "</style><script>\n",
       "function copyToClipboard(fld) {\n",
       "    if (document.queryCommandSupported && document.queryCommandSupported('copy')) {\n",
       "        var textarea = document.createElement('textarea');\n",
       "        textarea.textContent = fld.innerHTML;\n",
       "        textarea.style.position = 'fixed';\n",
       "        document.body.appendChild(textarea);\n",
       "        textarea.select();\n",
       "\n",
       "        try {\n",
       "            return document.execCommand('copy'); // Security exception may be thrown by some browsers.\n",
       "        } catch (ex) {\n",
       "\n",
       "        } finally {\n",
       "            document.body.removeChild(textarea);\n",
       "        }\n",
       "    }\n",
       "}\n",
       "function expandPanel(el) {\n",
       "  const panelName = \"#\" + el.getAttribute('paneName');\n",
       "  console.log(el.title);\n",
       "\n",
       "  document.querySelector(panelName + \"-title\").innerHTML = el.title\n",
       "  iframe = document.querySelector(panelName + \"-body\");\n",
       "  \n",
       "  const tblcss = `<style> body { font-family: Arial, Helvetica, sans-serif;}\n",
       "    #csv { margin-bottom: 15px; }\n",
       "    #csv table { border-collapse: collapse;}\n",
       "    #csv table td { padding: 4px 8px; border: 1px solid silver;} </style>`;\n",
       "\n",
       "  function csvToHtmlTable(str) {\n",
       "    return '<div id=\"csv\"><table><tr><td>' +  str.replace(/[\\n\\r]+$/g, '').replace(/[\\n\\r]+/g, '</td></tr><tr><td>')\n",
       "      .replace(/,/g, '</td><td>') + '</td></tr></table></div>';\n",
       "  }\n",
       "  \n",
       "  function reqListener () {\n",
       "    if (el.title.endsWith(\".csv\")) {\n",
       "      iframe.setAttribute(\"srcdoc\", tblcss + csvToHtmlTable(this.responseText));\n",
       "    } else {\n",
       "      iframe.setAttribute(\"srcdoc\", this.responseText);\n",
       "    }  \n",
       "    console.log(this.responseText);\n",
       "  }\n",
       "\n",
       "  const oReq = new XMLHttpRequest();\n",
       "  oReq.addEventListener(\"load\", reqListener);\n",
       "  oReq.open(\"GET\", el.title);\n",
       "  oReq.send();\n",
       "  \n",
       "  \n",
       "  //iframe.src = el.title;\n",
       "  const resultPane = document.querySelector(panelName + \"-pane\");\n",
       "  if (resultPane.classList.contains(\"hidden\")) {\n",
       "    resultPane.classList.remove(\"hidden\");\n",
       "  }\n",
       "}\n",
       "function closePanel(el) {\n",
       "  const panelName = \"#\" + el.getAttribute('paneName')\n",
       "  const resultPane = document.querySelector(panelName + \"-pane\");\n",
       "  if (!resultPane.classList.contains(\"hidden\")) {\n",
       "    resultPane.classList.add(\"hidden\");\n",
       "  }\n",
       "}\n",
       "\n",
       "</script>\n",
       "<div class=\"master-wrapper\">\n",
       "  <div class=\"block master-tbl\"><div>\n",
       "<style scoped>\n",
       "    .dataframe tbody tr th:only-of-type {\n",
       "        vertical-align: middle;\n",
       "    }\n",
       "\n",
       "    .dataframe tbody tr th {\n",
       "        vertical-align: top;\n",
       "    }\n",
       "\n",
       "    .dataframe thead th {\n",
       "        text-align: right;\n",
       "    }\n",
       "</style>\n",
       "<table border=\"1\" class=\"dataframe\">\n",
       "  <thead>\n",
       "    <tr style=\"text-align: right;\">\n",
       "      <th>uid</th>\n",
       "      <th>iter</th>\n",
       "      <th>start</th>\n",
       "      <th>state</th>\n",
       "      <th>name</th>\n",
       "      <th>labels</th>\n",
       "      <th>inputs</th>\n",
       "      <th>parameters</th>\n",
       "      <th>results</th>\n",
       "      <th>artifacts</th>\n",
       "    </tr>\n",
       "  </thead>\n",
       "  <tbody>\n",
       "    <tr>\n",
       "      <td><div title=\"26e89f78683d455694c7a8148553f186\">...53f186</div></td>\n",
       "      <td>0</td>\n",
       "      <td>Feb 13 06:28:02</td>\n",
       "      <td>completed</td>\n",
       "      <td>user-task-parq-to-dask</td>\n",
       "      <td><div class=\"dictlist\">kind=dask</div><div class=\"dictlist\">owner=admin</div><div class=\"dictlist\">host=jupyter-1-56795c755c-bss6b</div></td>\n",
       "      <td></td>\n",
       "      <td><div class=\"dictlist\">parquet_url=/User/repos/demos/dask/dataset/partitions</div><div class=\"dictlist\">sample=0.01</div><div class=\"dictlist\">shards=8</div><div class=\"dictlist\">threads_per=8</div><div class=\"dictlist\">memory_limit=5GB</div><div class=\"dictlist\">dask_key=airlines</div><div class=\"dictlist\">target_path=/User/repos/demos/dask/artifacts</div></td>\n",
       "      <td></td>\n",
       "      <td><div class=\"artifact\" onclick=\"expandPanel(this)\" paneName=\"resultf422efe4\" title=\"/files/repos/demos/dask/artifacts/scheduler.json\">scheduler</div></td>\n",
       "    </tr>\n",
       "  </tbody>\n",
       "</table>\n",
       "</div></div>\n",
       "  <div id=\"resultf422efe4-pane\" class=\"right-pane block hidden\">\n",
       "    <div class=\"pane-header\">\n",
       "      <span id=\"resultf422efe4-title\" class=\"pane-header-title\">Title</span>\n",
       "      <span onclick=\"closePanel(this)\" paneName=\"resultf422efe4\" class=\"close clickable\">&times;</span>\n",
       "    </div>\n",
       "    <iframe class=\"fileview\" id=\"resultf422efe4-body\"></iframe>\n",
       "  </div>\n",
       "</div>\n"
      ],
      "text/plain": [
       "<IPython.core.display.HTML object>"
      ]
     },
     "metadata": {},
     "output_type": "display_data"
    },
    {
     "name": "stdout",
     "output_type": "stream",
     "text": [
      "to track results use .show() or .logs() or in CLI: \n",
      "!mlrun get run 26e89f78683d455694c7a8148553f186  , !mlrun logs 26e89f78683d455694c7a8148553f186 \n",
      "[mlrun] 2020-02-13 06:30:27,415 run executed, status=completed\n"
     ]
    }
   ],
   "source": [
    "# load function from a local Python file\n",
    "parq2dask = mlrun.new_function(command=FUNC_PY, \n",
    "                               image=IMAGE,\n",
    "                               kind=JOB_KIND)\n",
    "\n",
    "parq2dask.spec.remote = True\n",
    "parq2dask.spec.replicas = DASK_SHARDS \n",
    "parq2dask.spec.max_replicas = DASK_SHARDS\n",
    "parq2dask.spec.service_type = 'NodePort'\n",
    "parq2dask.spec.image_pull_policy = 'Always'\n",
    "parq2dask.spec.build.image = IMAGE\n",
    "\n",
    "parq2dask.export(FUNC_YAML)\n",
    "# parq2dask = mlrun.import_function(FUNC_YAML)\n",
    "\n",
    "parq2dask.apply(mlrun.mount_v3io())\n",
    "parq2dask.deploy()\n",
    "\n",
    "# create and run the task\n",
    "parq_to_dask_task = mlrun.NewTask(\n",
    "    TASK_NAME, \n",
    "    handler=HANDLER,  \n",
    "    params={\n",
    "        'parquet_url'      : DATA_PATH,\n",
    "        'sample'           : DOWNSAMPLE,\n",
    "        'shards'           : DASK_SHARDS,\n",
    "        'threads_per'      : DASK_THREADS_PER,\n",
    "        'memory_limit'     : MEMORY_LIMIT,\n",
    "        'dask_key'         : DASK_KEY,\n",
    "        'target_path'      : ARTIFACTS_PATH})\n",
    "\n",
    "# run\n",
    "rn = parq2dask.run(parq_to_dask_task)"
   ]
  },
  {
   "cell_type": "markdown",
   "metadata": {},
   "source": [
    "### the scheduler artifact can be shared"
   ]
  },
  {
   "cell_type": "code",
   "execution_count": 7,
   "metadata": {},
   "outputs": [
    {
     "name": "stdout",
     "output_type": "stream",
     "text": [
      "uid: 26e89f78683d455694c7a8148553f186\n",
      "name: user-task-parq-to-dask\n",
      "project: ''\n",
      "labels:\n",
      "  kind: dask\n",
      "  owner: admin\n",
      "  host: jupyter-1-56795c755c-bss6b\n",
      "iteration: 0\n",
      "\n"
     ]
    }
   ],
   "source": [
    "print(rn.metadata.to_yaml())"
   ]
  },
  {
   "cell_type": "code",
   "execution_count": 8,
   "metadata": {},
   "outputs": [
    {
     "data": {
      "text/plain": [
       "'26e89f78683d455694c7a8148553f186'"
      ]
     },
     "execution_count": 8,
     "metadata": {},
     "output_type": "execute_result"
    }
   ],
   "source": [
    "rn.metadata.uid"
   ]
  },
  {
   "cell_type": "code",
   "execution_count": 9,
   "metadata": {},
   "outputs": [
    {
     "data": {
      "text/plain": [
       "'/User/repos/demos/dask/artifacts/scheduler.json'"
      ]
     },
     "execution_count": 9,
     "metadata": {},
     "output_type": "execute_result"
    }
   ],
   "source": [
    "rn.outputs['scheduler']"
   ]
  },
  {
   "cell_type": "markdown",
   "metadata": {},
   "source": [
    "#### What's the scheduler address?"
   ]
  },
  {
   "cell_type": "code",
   "execution_count": 10,
   "metadata": {},
   "outputs": [
    {
     "data": {
      "text/plain": [
       "{'type': 'Scheduler',\n",
       " 'id': 'Scheduler-5ff43dd5-f780-4432-bc1d-1ef63f46deec',\n",
       " 'address': 'tcp://10.233.64.49:8786',\n",
       " 'services': {},\n",
       " 'workers': {'tcp://10.233.64.52:41923': {'type': 'Worker',\n",
       "   'id': 'tcp://10.233.64.52:41923',\n",
       "   'host': '10.233.64.52',\n",
       "   'resources': {},\n",
       "   'local_directory': '/worker-nr6giqtt',\n",
       "   'name': 'tcp://10.233.64.52:41923',\n",
       "   'nthreads': 1,\n",
       "   'memory_limit': 4109136640,\n",
       "   'last_seen': 1581575427.151024,\n",
       "   'services': {},\n",
       "   'metrics': {'cpu': 4.0,\n",
       "    'memory': 90488832,\n",
       "    'time': 1581575427.150215,\n",
       "    'read_bytes': 0.0,\n",
       "    'write_bytes': 0.0,\n",
       "    'num_fds': 22,\n",
       "    'executing': 0,\n",
       "    'in_memory': 0,\n",
       "    'ready': 0,\n",
       "    'in_flight': 0,\n",
       "    'bandwidth': {'total': 100000000, 'workers': {}, 'types': {}}},\n",
       "   'nanny': 'tcp://10.233.64.52:36809'},\n",
       "  'tcp://10.233.64.53:33822': {'type': 'Worker',\n",
       "   'id': 'tcp://10.233.64.53:33822',\n",
       "   'host': '10.233.64.53',\n",
       "   'resources': {},\n",
       "   'local_directory': '/worker-dso825q2',\n",
       "   'name': 'tcp://10.233.64.53:33822',\n",
       "   'nthreads': 1,\n",
       "   'memory_limit': 4109136640,\n",
       "   'last_seen': 1581575427.2525477,\n",
       "   'services': {},\n",
       "   'metrics': {'cpu': 2.0,\n",
       "    'memory': 90988544,\n",
       "    'time': 1581575427.2515728,\n",
       "    'read_bytes': 0.0,\n",
       "    'write_bytes': 0.0,\n",
       "    'num_fds': 22,\n",
       "    'executing': 0,\n",
       "    'in_memory': 0,\n",
       "    'ready': 0,\n",
       "    'in_flight': 0,\n",
       "    'bandwidth': {'total': 100000000, 'workers': {}, 'types': {}}},\n",
       "   'nanny': 'tcp://10.233.64.53:36810'},\n",
       "  'tcp://10.233.64.54:38139': {'type': 'Worker',\n",
       "   'id': 'tcp://10.233.64.54:38139',\n",
       "   'host': '10.233.64.54',\n",
       "   'resources': {},\n",
       "   'local_directory': '/worker-hqszld43',\n",
       "   'name': 'tcp://10.233.64.54:38139',\n",
       "   'nthreads': 1,\n",
       "   'memory_limit': 4109136640,\n",
       "   'last_seen': 1581575427.101197,\n",
       "   'services': {},\n",
       "   'metrics': {'cpu': 2.0,\n",
       "    'memory': 90660864,\n",
       "    'time': 1581575426.6024349,\n",
       "    'read_bytes': 286.32781270900455,\n",
       "    'write_bytes': 812.930713005985,\n",
       "    'num_fds': 22,\n",
       "    'executing': 0,\n",
       "    'in_memory': 0,\n",
       "    'ready': 0,\n",
       "    'in_flight': 0,\n",
       "    'bandwidth': {'total': 100000000, 'workers': {}, 'types': {}}},\n",
       "   'nanny': 'tcp://10.233.64.54:38156'},\n",
       "  'tcp://10.233.64.55:34344': {'type': 'Worker',\n",
       "   'id': 'tcp://10.233.64.55:34344',\n",
       "   'host': '10.233.64.55',\n",
       "   'resources': {},\n",
       "   'local_directory': '/worker-w3qegv7h',\n",
       "   'name': 'tcp://10.233.64.55:34344',\n",
       "   'nthreads': 1,\n",
       "   'memory_limit': 4109136640,\n",
       "   'last_seen': 1581575427.1197453,\n",
       "   'services': {},\n",
       "   'metrics': {'cpu': 2.0,\n",
       "    'memory': 91181056,\n",
       "    'time': 1581575427.1187587,\n",
       "    'read_bytes': 286.149136069166,\n",
       "    'write_bytes': 812.4234212872825,\n",
       "    'num_fds': 22,\n",
       "    'executing': 0,\n",
       "    'in_memory': 0,\n",
       "    'ready': 0,\n",
       "    'in_flight': 0,\n",
       "    'bandwidth': {'total': 100000000, 'workers': {}, 'types': {}}},\n",
       "   'nanny': 'tcp://10.233.64.55:36154'},\n",
       "  'tcp://10.233.64.56:38055': {'type': 'Worker',\n",
       "   'id': 'tcp://10.233.64.56:38055',\n",
       "   'host': '10.233.64.56',\n",
       "   'resources': {},\n",
       "   'local_directory': '/worker-upiq6onu',\n",
       "   'name': 'tcp://10.233.64.56:38055',\n",
       "   'nthreads': 1,\n",
       "   'memory_limit': 4109136640,\n",
       "   'last_seen': 1581575427.0365891,\n",
       "   'services': {},\n",
       "   'metrics': {'cpu': 2.0,\n",
       "    'memory': 90595328,\n",
       "    'time': 1581575426.5377128,\n",
       "    'read_bytes': 286.32097846048384,\n",
       "    'write_bytes': 812.9113094752198,\n",
       "    'num_fds': 22,\n",
       "    'executing': 0,\n",
       "    'in_memory': 0,\n",
       "    'ready': 0,\n",
       "    'in_flight': 0,\n",
       "    'bandwidth': {'total': 100000000, 'workers': {}, 'types': {}}},\n",
       "   'nanny': 'tcp://10.233.64.56:39539'},\n",
       "  'tcp://10.233.64.57:36040': {'type': 'Worker',\n",
       "   'id': 'tcp://10.233.64.57:36040',\n",
       "   'host': '10.233.64.57',\n",
       "   'resources': {},\n",
       "   'local_directory': '/worker-54fy31ku',\n",
       "   'name': 'tcp://10.233.64.57:36040',\n",
       "   'nthreads': 1,\n",
       "   'memory_limit': 4109136640,\n",
       "   'last_seen': 1581575426.8800263,\n",
       "   'services': {},\n",
       "   'metrics': {'cpu': 2.0,\n",
       "    'memory': 90648576,\n",
       "    'time': 1581575426.8789842,\n",
       "    'read_bytes': 285.43312218004235,\n",
       "    'write_bytes': 810.3905426929873,\n",
       "    'num_fds': 22,\n",
       "    'executing': 0,\n",
       "    'in_memory': 0,\n",
       "    'ready': 0,\n",
       "    'in_flight': 0,\n",
       "    'bandwidth': {'total': 100000000, 'workers': {}, 'types': {}}},\n",
       "   'nanny': 'tcp://10.233.64.57:36089'},\n",
       "  'tcp://10.233.64.58:35049': {'type': 'Worker',\n",
       "   'id': 'tcp://10.233.64.58:35049',\n",
       "   'host': '10.233.64.58',\n",
       "   'resources': {},\n",
       "   'local_directory': '/worker-w1y6eur7',\n",
       "   'name': 'tcp://10.233.64.58:35049',\n",
       "   'nthreads': 1,\n",
       "   'memory_limit': 4109136640,\n",
       "   'last_seen': 1581575427.161772,\n",
       "   'services': {},\n",
       "   'metrics': {'cpu': 2.0,\n",
       "    'memory': 91045888,\n",
       "    'time': 1581575426.663329,\n",
       "    'read_bytes': 285.6610999980949,\n",
       "    'write_bytes': 811.0378083861996,\n",
       "    'num_fds': 22,\n",
       "    'executing': 0,\n",
       "    'in_memory': 0,\n",
       "    'ready': 0,\n",
       "    'in_flight': 0,\n",
       "    'bandwidth': {'total': 100000000, 'workers': {}, 'types': {}}},\n",
       "   'nanny': 'tcp://10.233.64.58:34987'},\n",
       "  'tcp://10.233.64.59:43970': {'type': 'Worker',\n",
       "   'id': 'tcp://10.233.64.59:43970',\n",
       "   'host': '10.233.64.59',\n",
       "   'resources': {},\n",
       "   'local_directory': '/worker-2aagdxzy',\n",
       "   'name': 'tcp://10.233.64.59:43970',\n",
       "   'nthreads': 1,\n",
       "   'memory_limit': 4109136640,\n",
       "   'last_seen': 1581575426.9538643,\n",
       "   'services': {},\n",
       "   'metrics': {'cpu': 2.0,\n",
       "    'memory': 90710016,\n",
       "    'time': 1581575426.454766,\n",
       "    'read_bytes': 285.8060693565872,\n",
       "    'write_bytes': 811.4493997117091,\n",
       "    'num_fds': 22,\n",
       "    'executing': 0,\n",
       "    'in_memory': 0,\n",
       "    'ready': 0,\n",
       "    'in_flight': 0,\n",
       "    'bandwidth': {'total': 100000000, 'workers': {}, 'types': {}}},\n",
       "   'nanny': 'tcp://10.233.64.59:46192'}}}"
      ]
     },
     "execution_count": 10,
     "metadata": {},
     "output_type": "execute_result"
    }
   ],
   "source": [
    "import json\n",
    "json.load(open(rn.outputs['scheduler']))"
   ]
  },
  {
   "cell_type": "markdown",
   "metadata": {},
   "source": [
    "### notebook cluster\n",
    "\n",
    "Let's load the scheduler file into a cluster in this notebook using our MLRun artifact:"
   ]
  },
  {
   "cell_type": "code",
   "execution_count": null,
   "metadata": {},
   "outputs": [],
   "source": [
    "# import dask\n",
    "# import dask.dataframe as dd\n",
    "# from dask.distributed import Client, LocalCluster\n",
    "\n",
    "#client = Client(scheduler_file=rn.outputs['scheduler'])\n",
    "\n",
    "#df = client.get_dataset(DASK_KEY)"
   ]
  },
  {
   "cell_type": "markdown",
   "metadata": {},
   "source": [
    "### create a component 'on the fly' to summarise the table\n",
    "\n",
    "The nice thing about having a dask cluster loaded with all your data is that you can write _quick and dirty_ jobs either in your notebook, a local file, or a github repo. Here we use a local file:"
   ]
  },
  {
   "cell_type": "code",
   "execution_count": null,
   "metadata": {},
   "outputs": [],
   "source": [
    "# write up function in local directory\n",
    "summ = mlrun.new_function(command='/User/repos/demos/dask/code/describe.py', \n",
    "                          image=IMAGE,\n",
    "                          kind='job')\n",
    "\n",
    "summ.spec.build.image = IMAGE\n",
    "\n",
    "summ.export('/User/repos/demos/dask/yaml/describe.yaml')\n",
    "\n",
    "summ.apply(mlrun.mount_v3io())\n",
    "\n",
    "summ.deploy(skip_deployed=True, with_mlrun=False)\n",
    "\n",
    "# create the task\n",
    "summ_task = mlrun.NewTask(\n",
    "    'user-task-my-sum', \n",
    "    handler='table_summary',  \n",
    "    params={\n",
    "        'dask_key'   :  DASK_KEY,\n",
    "        'dask_client': 'scheduler.json',\n",
    "        'target_path':  ARTIFACTS_PATH,\n",
    "        'name'       : 'table-summary.csv',\n",
    "        'key'        : 'table-summary'})\n",
    "\n",
    "# run\n",
    "rn2 = summ.run(summ_task)\n",
    "\n",
    "rn2.outputs"
   ]
  },
  {
   "cell_type": "markdown",
   "metadata": {},
   "source": [
    "### tests"
   ]
  },
  {
   "cell_type": "code",
   "execution_count": null,
   "metadata": {},
   "outputs": [],
   "source": [
    "import pandas as pd\n",
    "pd.read_csv(rn2.outputs['table-summary'])"
   ]
  },
  {
   "cell_type": "code",
   "execution_count": null,
   "metadata": {},
   "outputs": [],
   "source": []
  }
 ],
 "metadata": {
  "kernelspec": {
   "display_name": "Python 3",
   "language": "python",
   "name": "python3"
  },
  "language_info": {
   "codemirror_mode": {
    "name": "ipython",
    "version": 3
   },
   "file_extension": ".py",
   "mimetype": "text/x-python",
   "name": "python",
   "nbconvert_exporter": "python",
   "pygments_lexer": "ipython3",
   "version": "3.6.8"
  }
 },
 "nbformat": 4,
 "nbformat_minor": 4
}

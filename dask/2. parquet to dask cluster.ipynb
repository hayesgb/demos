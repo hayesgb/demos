{
 "cells": [
  {
   "cell_type": "markdown",
   "metadata": {},
   "source": [
    "# Parquet to Dask\n",
    "load a parquet dataset into as dask cluster"
   ]
  },
  {
   "cell_type": "markdown",
   "metadata": {},
   "source": [
    "Once the client connects to the dask cluster we can check for package consistency by calling `dask_client.get_versions(check=True)`.  Scheduler and worker\n",
    "nodes are guaranteed to have the same package versions in `mlrun` since mismatches would likely cause serialization failures.  The client (in this notebook or in some other process) may have different versions and this mismatch is **less likely** to cause issues.  The following installs can be performed to ensure this mismatch becomes **unlikely** (as of this writing). **This may need to be done periodically as the dockerfiles refresh, unless you specifiy an image tag.**"
   ]
  },
  {
   "cell_type": "markdown",
   "metadata": {},
   "source": [
    "    !python -m pip install --upgrade pip\n",
    "    !python -m pip uninstall -y cmake\n",
    "    !python -m pip install cmake\n",
    "    !python -m pip install scikit-build\n",
    "\n",
    "    !python -m pip install lz4\n",
    "    !python -m pip install git+https://github.com/Blosc/python-blosc.git@v1.8.3\n",
    "    !python -m pip install msgpack-python    \n",
    "    !python -m pip install cloudpickle==1.2.2\n",
    "\n",
    "    !python -m pip install numpy==1.17.4"
   ]
  },
  {
   "cell_type": "markdown",
   "metadata": {},
   "source": [
    "## clean up\n",
    "delete stale pods"
   ]
  },
  {
   "cell_type": "code",
   "execution_count": 1,
   "metadata": {},
   "outputs": [],
   "source": [
    "# !mlrun clean -p -r"
   ]
  },
  {
   "cell_type": "code",
   "execution_count": 2,
   "metadata": {},
   "outputs": [],
   "source": [
    "import mlrun\n",
    "\n",
    "mlrun.mlconf.dbpath = 'http://mlrun-api:8080'"
   ]
  },
  {
   "cell_type": "markdown",
   "metadata": {},
   "source": [
    "## parameters\n"
   ]
  },
  {
   "cell_type": "code",
   "execution_count": 3,
   "metadata": {},
   "outputs": [],
   "source": [
    "DESCRIPTION        = 'load parquet dataset into a dask cluster'       \n",
    "\n",
    "IMAGE              = 'yjbds/mlrun-dask:dev'                           # custom image\n",
    "JOB_KIND           = 'dask'                                           \n",
    "\n",
    "TASK_NAME          = 'user-task-parq-to-dask'                         # whatever\n",
    "\n",
    "ARTIFACTS_PATH     = '/User/repos/demos/dask/artifacts'\n",
    "YAML_PATH          = '/User/repos/demos/dask/yaml'\n",
    "\n",
    "DATA_PATH          = '/User/repos/demos/dask/dataset/partitions'\n",
    "DOWNSAMPLE         = 0.01\n",
    "PARTITION_COLS     = ['Year', 'Month']\n",
    "PARTITION_COLS     = None\n",
    "\n",
    "DASK_SHARDS        = 8\n",
    "DASK_THREADS_PER   = 8\n",
    "MEMORY_LIMIT       = '5GB'\n",
    "\n",
    "DASK_KEY           = 'airlines'"
   ]
  },
  {
   "cell_type": "markdown",
   "metadata": {},
   "source": [
    "## load and configure function"
   ]
  },
  {
   "cell_type": "code",
   "execution_count": 4,
   "metadata": {},
   "outputs": [],
   "source": [
    "FUNC_PY   = '/User/repos/demos/dask/code/parquet-to-dask.py'\n",
    "FUNC_YAML = '/User/repos/demos/dask/yaml/parquet-to-dask.yaml'\n",
    "\n",
    "HANDLER   = 'parquet_to_dask'"
   ]
  },
  {
   "cell_type": "markdown",
   "metadata": {},
   "source": [
    "#### some of the following cells can be commented out if this notebook has already been run."
   ]
  },
  {
   "cell_type": "code",
   "execution_count": 5,
   "metadata": {},
   "outputs": [
    {
     "name": "stdout",
     "output_type": "stream",
     "text": [
      "[mlrun] 2020-02-19 09:55:40,286 function spec saved to path: /User/repos/demos/dask/yaml/parquet-to-dask.yaml\n"
     ]
    }
   ],
   "source": [
    "# load function from a local Python file\n",
    "parq2dask = mlrun.new_function(command=FUNC_PY, \n",
    "                               image=IMAGE,\n",
    "                               kind=JOB_KIND)\n",
    "\n",
    "parq2dask.spec.remote = True\n",
    "parq2dask.spec.replicas = DASK_SHARDS \n",
    "parq2dask.spec.max_replicas = DASK_SHARDS\n",
    "parq2dask.spec.service_type = 'NodePort'\n",
    "parq2dask.spec.image_pull_policy = 'Always'\n",
    "parq2dask.spec.build.image = IMAGE\n",
    "\n",
    "parq2dask.export(FUNC_YAML)\n",
    "# parq2dask = mlrun.import_function(FUNC_YAML)"
   ]
  },
  {
   "cell_type": "code",
   "execution_count": 6,
   "metadata": {},
   "outputs": [
    {
     "name": "stdout",
     "output_type": "stream",
     "text": [
      "[mlrun] 2020-02-19 09:55:40,305 starting remote build, image: yjbds/mlrun-dask:dev\n",
      "[mlrun] 2020-02-19 09:55:40,359 starting run user-task-parq-to-dask uid=c6216f79140b44f89d6a527ccb0406e5  -> http://mlrun-api:8080\n",
      "[mlrun] 2020-02-19 09:55:41,263 saving function: parquet-to-dask, tag: latest\n",
      "[mlrun] 2020-02-19 09:55:46,786 dask client at: tcp://mlrun-parquet-to-dask-bac5add5-3.default-tenant:8786 dashboard: \n",
      "[mlrun] 2020-02-19 09:55:46,806 using remote dask scheduler (mlrun-parquet-to-dask-bac5add5-3) at: tcp://mlrun-parquet-to-dask-bac5add5-3.default-tenant:8786\n"
     ]
    },
    {
     "name": "stderr",
     "output_type": "stream",
     "text": [
      "/conda/lib/python3.6/site-packages/distributed/client.py:1071: VersionMismatchWarning: Mismatched versions found\n",
      "\n",
      "cloudpickle\n",
      "+-----------+---------+\n",
      "|           | version |\n",
      "+-----------+---------+\n",
      "| client    | 1.2.2   |\n",
      "| scheduler | 1.1.1   |\n",
      "+-----------+---------+\n",
      "\n",
      "lz4\n",
      "+-----------+---------+\n",
      "|           | version |\n",
      "+-----------+---------+\n",
      "| client    | 3.0.2   |\n",
      "| scheduler | 2.1.6   |\n",
      "+-----------+---------+\n",
      "\n",
      "msgpack\n",
      "+-----------+---------+\n",
      "|           | version |\n",
      "+-----------+---------+\n",
      "| client    | 0.5.6   |\n",
      "| scheduler | 1.0.0   |\n",
      "+-----------+---------+\n",
      "\n",
      "numpy\n",
      "+-----------+---------+\n",
      "|           | version |\n",
      "+-----------+---------+\n",
      "| client    | 1.17.4  |\n",
      "| scheduler | 1.18.1  |\n",
      "+-----------+---------+\n",
      "  warnings.warn(version_module.VersionMismatchWarning(msg[0][\"warning\"]))\n",
      "distributed.utils - ERROR - tuple is not allowed for map key\n",
      "Traceback (most recent call last):\n",
      "  File \"/conda/lib/python3.6/site-packages/distributed/utils.py\", line 662, in log_errors\n",
      "    yield\n",
      "  File \"/conda/lib/python3.6/site-packages/distributed/client.py\", line 2162, in _publish_dataset\n",
      "    yield coroutines\n",
      "  File \"/conda/lib/python3.6/site-packages/tornado/gen.py\", line 735, in run\n",
      "    value = future.result()\n",
      "  File \"/conda/lib/python3.6/site-packages/tornado/gen.py\", line 501, in callback\n",
      "    result_list.append(f.result())\n",
      "  File \"/conda/lib/python3.6/asyncio/tasks.py\", line 180, in _step\n",
      "    result = coro.send(None)\n",
      "  File \"/conda/lib/python3.6/site-packages/distributed/core.py\", line 757, in send_recv_from_rpc\n",
      "    result = await send_recv(comm=comm, op=key, **kwargs)\n",
      "  File \"/conda/lib/python3.6/site-packages/distributed/core.py\", line 556, in send_recv\n",
      "    raise exc.with_traceback(tb)\n",
      "  File \"/opt/conda/lib/python3.7/site-packages/distributed/core.py\", line 346, in handle_comm\n",
      "  File \"/opt/conda/lib/python3.7/site-packages/distributed/comm/tcp.py\", line 212, in read\n",
      "  File \"/opt/conda/lib/python3.7/site-packages/distributed/comm/utils.py\", line 69, in from_frames\n",
      "  File \"/opt/conda/lib/python3.7/site-packages/distributed/comm/utils.py\", line 55, in _from_frames\n",
      "  File \"/opt/conda/lib/python3.7/site-packages/distributed/protocol/core.py\", line 106, in loads\n",
      "  File \"msgpack/_unpacker.pyx\", line 195, in msgpack._cmsgpack.unpackb\n",
      "ValueError: tuple is not allowed for map key\n"
     ]
    },
    {
     "name": "stdout",
     "output_type": "stream",
     "text": [
      "[mlrun] 2020-02-19 10:00:10,490 exec error - tuple is not allowed for map key\n"
     ]
    },
    {
     "name": "stderr",
     "output_type": "stream",
     "text": [
      "tuple is not allowed for map key\n"
     ]
    },
    {
     "data": {
      "text/html": [
       "<style> \n",
       ".dictlist {\n",
       "  background-color: #b3edff; \n",
       "  text-align: center; \n",
       "  margin: 4px; \n",
       "  border-radius: 3px; padding: 0px 3px 1px 3px; display: inline-block;}\n",
       ".artifact {\n",
       "  cursor: pointer; \n",
       "  background-color: #ffe6cc; \n",
       "  text-align: left; \n",
       "  margin: 4px; border-radius: 3px; padding: 0px 3px 1px 3px; display: inline-block;\n",
       "}\n",
       "div.block.hidden {\n",
       "  display: none;\n",
       "}\n",
       ".clickable {\n",
       "  cursor: pointer;\n",
       "}\n",
       ".ellipsis {\n",
       "  display: inline-block;\n",
       "  max-width: 60px;\n",
       "  white-space: nowrap;\n",
       "  overflow: hidden;\n",
       "  text-overflow: ellipsis;\n",
       "}\n",
       ".master-wrapper {\n",
       "  display: flex;\n",
       "  flex-flow: row nowrap;\n",
       "  justify-content: flex-start;\n",
       "  align-items: stretch;\n",
       "}\n",
       ".master-tbl {\n",
       "  flex: 3\n",
       "}\n",
       ".master-wrapper > div {\n",
       "  margin: 4px;\n",
       "  padding: 10px;\n",
       "}\n",
       "iframe.fileview {\n",
       "  border: 0 none;\n",
       "  height: 100%;\n",
       "  width: 100%;\n",
       "  white-space: pre-wrap;\n",
       "}\n",
       ".pane-header-title {\n",
       "  width: 80%;\n",
       "  font-weight: 500;\n",
       "}\n",
       ".pane-header {\n",
       "  line-height: 1;\n",
       "  background-color: #ffe6cc;\n",
       "  padding: 3px;\n",
       "}\n",
       ".pane-header .close {\n",
       "  font-size: 20px;\n",
       "  font-weight: 700;\n",
       "  float: right;\n",
       "  margin-top: -5px;\n",
       "}\n",
       ".master-wrapper .right-pane {\n",
       "  border: 1px inset silver;\n",
       "  width: 40%;\n",
       "  min-height: 300px;\n",
       "  flex: 3\n",
       "  min-width: 500px;\n",
       "}\n",
       ".master-wrapper * {\n",
       "  box-sizing: border-box;\n",
       "}\n",
       "</style><script>\n",
       "function copyToClipboard(fld) {\n",
       "    if (document.queryCommandSupported && document.queryCommandSupported('copy')) {\n",
       "        var textarea = document.createElement('textarea');\n",
       "        textarea.textContent = fld.innerHTML;\n",
       "        textarea.style.position = 'fixed';\n",
       "        document.body.appendChild(textarea);\n",
       "        textarea.select();\n",
       "\n",
       "        try {\n",
       "            return document.execCommand('copy'); // Security exception may be thrown by some browsers.\n",
       "        } catch (ex) {\n",
       "\n",
       "        } finally {\n",
       "            document.body.removeChild(textarea);\n",
       "        }\n",
       "    }\n",
       "}\n",
       "function expandPanel(el) {\n",
       "  const panelName = \"#\" + el.getAttribute('paneName');\n",
       "  console.log(el.title);\n",
       "\n",
       "  document.querySelector(panelName + \"-title\").innerHTML = el.title\n",
       "  iframe = document.querySelector(panelName + \"-body\");\n",
       "  \n",
       "  const tblcss = `<style> body { font-family: Arial, Helvetica, sans-serif;}\n",
       "    #csv { margin-bottom: 15px; }\n",
       "    #csv table { border-collapse: collapse;}\n",
       "    #csv table td { padding: 4px 8px; border: 1px solid silver;} </style>`;\n",
       "\n",
       "  function csvToHtmlTable(str) {\n",
       "    return '<div id=\"csv\"><table><tr><td>' +  str.replace(/[\\n\\r]+$/g, '').replace(/[\\n\\r]+/g, '</td></tr><tr><td>')\n",
       "      .replace(/,/g, '</td><td>') + '</td></tr></table></div>';\n",
       "  }\n",
       "  \n",
       "  function reqListener () {\n",
       "    if (el.title.endsWith(\".csv\")) {\n",
       "      iframe.setAttribute(\"srcdoc\", tblcss + csvToHtmlTable(this.responseText));\n",
       "    } else {\n",
       "      iframe.setAttribute(\"srcdoc\", this.responseText);\n",
       "    }  \n",
       "    console.log(this.responseText);\n",
       "  }\n",
       "\n",
       "  const oReq = new XMLHttpRequest();\n",
       "  oReq.addEventListener(\"load\", reqListener);\n",
       "  oReq.open(\"GET\", el.title);\n",
       "  oReq.send();\n",
       "  \n",
       "  \n",
       "  //iframe.src = el.title;\n",
       "  const resultPane = document.querySelector(panelName + \"-pane\");\n",
       "  if (resultPane.classList.contains(\"hidden\")) {\n",
       "    resultPane.classList.remove(\"hidden\");\n",
       "  }\n",
       "}\n",
       "function closePanel(el) {\n",
       "  const panelName = \"#\" + el.getAttribute('paneName')\n",
       "  const resultPane = document.querySelector(panelName + \"-pane\");\n",
       "  if (!resultPane.classList.contains(\"hidden\")) {\n",
       "    resultPane.classList.add(\"hidden\");\n",
       "  }\n",
       "}\n",
       "\n",
       "</script>\n",
       "<div class=\"master-wrapper\">\n",
       "  <div class=\"block master-tbl\"><div>\n",
       "<style scoped>\n",
       "    .dataframe tbody tr th:only-of-type {\n",
       "        vertical-align: middle;\n",
       "    }\n",
       "\n",
       "    .dataframe tbody tr th {\n",
       "        vertical-align: top;\n",
       "    }\n",
       "\n",
       "    .dataframe thead th {\n",
       "        text-align: right;\n",
       "    }\n",
       "</style>\n",
       "<table border=\"1\" class=\"dataframe\">\n",
       "  <thead>\n",
       "    <tr style=\"text-align: right;\">\n",
       "      <th>uid</th>\n",
       "      <th>iter</th>\n",
       "      <th>start</th>\n",
       "      <th>state</th>\n",
       "      <th>name</th>\n",
       "      <th>labels</th>\n",
       "      <th>inputs</th>\n",
       "      <th>parameters</th>\n",
       "      <th>results</th>\n",
       "      <th>artifacts</th>\n",
       "    </tr>\n",
       "  </thead>\n",
       "  <tbody>\n",
       "    <tr>\n",
       "      <td><div title=\"c6216f79140b44f89d6a527ccb0406e5\">...0406e5</div></td>\n",
       "      <td>0</td>\n",
       "      <td>Feb 19 09:55:41</td>\n",
       "      <td><div style=\"color: red;\" title=\"tuple is not allowed for map key\">error</div></td>\n",
       "      <td>user-task-parq-to-dask</td>\n",
       "      <td><div class=\"dictlist\">host=jupyter-byjwr2vyk0-e86jd-599b695d5b-8nn7b</div><div class=\"dictlist\">kind=dask</div><div class=\"dictlist\">owner=admin</div></td>\n",
       "      <td></td>\n",
       "      <td><div class=\"dictlist\">dask_key=airlines</div><div class=\"dictlist\">memory_limit=5GB</div><div class=\"dictlist\">parquet_url=/User/repos/demos/dask/dataset/partitions</div><div class=\"dictlist\">sample=0.01</div><div class=\"dictlist\">shards=8</div><div class=\"dictlist\">target_path=/User/repos/demos/dask/artifacts</div><div class=\"dictlist\">threads_per=8</div></td>\n",
       "      <td></td>\n",
       "      <td></td>\n",
       "    </tr>\n",
       "  </tbody>\n",
       "</table>\n",
       "</div></div>\n",
       "  <div id=\"result45ca570d-pane\" class=\"right-pane block hidden\">\n",
       "    <div class=\"pane-header\">\n",
       "      <span id=\"result45ca570d-title\" class=\"pane-header-title\">Title</span>\n",
       "      <span onclick=\"closePanel(this)\" paneName=\"result45ca570d\" class=\"close clickable\">&times;</span>\n",
       "    </div>\n",
       "    <iframe class=\"fileview\" id=\"result45ca570d-body\"></iframe>\n",
       "  </div>\n",
       "</div>\n"
      ],
      "text/plain": [
       "<IPython.core.display.HTML object>"
      ]
     },
     "metadata": {},
     "output_type": "display_data"
    },
    {
     "name": "stdout",
     "output_type": "stream",
     "text": [
      "to track results use .show() or .logs() or in CLI: \n",
      "!mlrun get run c6216f79140b44f89d6a527ccb0406e5 --project default , !mlrun logs c6216f79140b44f89d6a527ccb0406e5 --project default\n",
      "[mlrun] 2020-02-19 10:00:10,545 run executed, status=error\n"
     ]
    },
    {
     "ename": "RunError",
     "evalue": "tuple is not allowed for map key",
     "output_type": "error",
     "traceback": [
      "\u001b[0;31m---------------------------------------------------------------------------\u001b[0m",
      "\u001b[0;31mRunError\u001b[0m                                  Traceback (most recent call last)",
      "\u001b[0;32m<ipython-input-6-8a63e6ee3d3f>\u001b[0m in \u001b[0;36m<module>\u001b[0;34m\u001b[0m\n\u001b[1;32m     16\u001b[0m \u001b[0;34m\u001b[0m\u001b[0m\n\u001b[1;32m     17\u001b[0m \u001b[0;31m# run\u001b[0m\u001b[0;34m\u001b[0m\u001b[0;34m\u001b[0m\u001b[0;34m\u001b[0m\u001b[0m\n\u001b[0;32m---> 18\u001b[0;31m \u001b[0mrn\u001b[0m \u001b[0;34m=\u001b[0m \u001b[0mparq2dask\u001b[0m\u001b[0;34m.\u001b[0m\u001b[0mrun\u001b[0m\u001b[0;34m(\u001b[0m\u001b[0mparq_to_dask_task\u001b[0m\u001b[0;34m)\u001b[0m\u001b[0;34m\u001b[0m\u001b[0;34m\u001b[0m\u001b[0m\n\u001b[0m",
      "\u001b[0;32m~/.pythonlibs/lib/python3.6/site-packages/mlrun/runtimes/base.py\u001b[0m in \u001b[0;36mrun\u001b[0;34m(self, runspec, handler, name, project, params, inputs, out_path, workdir, watch, schedule)\u001b[0m\n\u001b[1;32m    309\u001b[0m                 \u001b[0mresult\u001b[0m \u001b[0;34m=\u001b[0m \u001b[0mself\u001b[0m\u001b[0;34m.\u001b[0m\u001b[0m_post_run\u001b[0m\u001b[0;34m(\u001b[0m\u001b[0mtask\u001b[0m\u001b[0;34m=\u001b[0m\u001b[0mrunspec\u001b[0m\u001b[0;34m,\u001b[0m \u001b[0merr\u001b[0m\u001b[0;34m=\u001b[0m\u001b[0merr\u001b[0m\u001b[0;34m)\u001b[0m\u001b[0;34m\u001b[0m\u001b[0;34m\u001b[0m\u001b[0m\n\u001b[1;32m    310\u001b[0m \u001b[0;34m\u001b[0m\u001b[0m\n\u001b[0;32m--> 311\u001b[0;31m         \u001b[0;32mreturn\u001b[0m \u001b[0mself\u001b[0m\u001b[0;34m.\u001b[0m\u001b[0m_wrap_result\u001b[0m\u001b[0;34m(\u001b[0m\u001b[0mresult\u001b[0m\u001b[0;34m,\u001b[0m \u001b[0mrunspec\u001b[0m\u001b[0;34m,\u001b[0m \u001b[0merr\u001b[0m\u001b[0;34m=\u001b[0m\u001b[0mlast_err\u001b[0m\u001b[0;34m)\u001b[0m\u001b[0;34m\u001b[0m\u001b[0;34m\u001b[0m\u001b[0m\n\u001b[0m\u001b[1;32m    312\u001b[0m \u001b[0;34m\u001b[0m\u001b[0m\n\u001b[1;32m    313\u001b[0m     \u001b[0;32mdef\u001b[0m \u001b[0m_wrap_result\u001b[0m\u001b[0;34m(\u001b[0m\u001b[0mself\u001b[0m\u001b[0;34m,\u001b[0m \u001b[0mresult\u001b[0m\u001b[0;34m:\u001b[0m \u001b[0mdict\u001b[0m\u001b[0;34m,\u001b[0m \u001b[0mrunspec\u001b[0m\u001b[0;34m:\u001b[0m \u001b[0mRunObject\u001b[0m\u001b[0;34m,\u001b[0m \u001b[0merr\u001b[0m\u001b[0;34m=\u001b[0m\u001b[0;32mNone\u001b[0m\u001b[0;34m)\u001b[0m\u001b[0;34m:\u001b[0m\u001b[0;34m\u001b[0m\u001b[0;34m\u001b[0m\u001b[0m\n",
      "\u001b[0;32m~/.pythonlibs/lib/python3.6/site-packages/mlrun/runtimes/base.py\u001b[0m in \u001b[0;36m_wrap_result\u001b[0;34m(self, result, runspec, err)\u001b[0m\n\u001b[1;32m    341\u001b[0m                 \u001b[0;32mif\u001b[0m \u001b[0mself\u001b[0m\u001b[0;34m.\u001b[0m\u001b[0m_is_remote\u001b[0m \u001b[0;32mand\u001b[0m \u001b[0;32mnot\u001b[0m \u001b[0mself\u001b[0m\u001b[0;34m.\u001b[0m\u001b[0mis_child\u001b[0m\u001b[0;34m:\u001b[0m\u001b[0;34m\u001b[0m\u001b[0;34m\u001b[0m\u001b[0m\n\u001b[1;32m    342\u001b[0m                     \u001b[0mprint\u001b[0m\u001b[0;34m(\u001b[0m\u001b[0;34m'runtime error: {}'\u001b[0m\u001b[0;34m.\u001b[0m\u001b[0mformat\u001b[0m\u001b[0;34m(\u001b[0m\u001b[0mrun\u001b[0m\u001b[0;34m.\u001b[0m\u001b[0mstatus\u001b[0m\u001b[0;34m.\u001b[0m\u001b[0merror\u001b[0m\u001b[0;34m)\u001b[0m\u001b[0;34m)\u001b[0m\u001b[0;34m\u001b[0m\u001b[0;34m\u001b[0m\u001b[0m\n\u001b[0;32m--> 343\u001b[0;31m                 \u001b[0;32mraise\u001b[0m \u001b[0mRunError\u001b[0m\u001b[0;34m(\u001b[0m\u001b[0mrun\u001b[0m\u001b[0;34m.\u001b[0m\u001b[0mstatus\u001b[0m\u001b[0;34m.\u001b[0m\u001b[0merror\u001b[0m\u001b[0;34m)\u001b[0m\u001b[0;34m\u001b[0m\u001b[0;34m\u001b[0m\u001b[0m\n\u001b[0m\u001b[1;32m    344\u001b[0m             \u001b[0;32mreturn\u001b[0m \u001b[0mrun\u001b[0m\u001b[0;34m\u001b[0m\u001b[0;34m\u001b[0m\u001b[0m\n\u001b[1;32m    345\u001b[0m \u001b[0;34m\u001b[0m\u001b[0m\n",
      "\u001b[0;31mRunError\u001b[0m: tuple is not allowed for map key"
     ]
    }
   ],
   "source": [
    "parq2dask.apply(mlrun.mount_v3io())\n",
    "parq2dask.deploy()\n",
    "\n",
    "# create and run the task\n",
    "parq_to_dask_task = mlrun.NewTask(\n",
    "    TASK_NAME, \n",
    "    handler=HANDLER,  \n",
    "    params={\n",
    "        'parquet_url'      : DATA_PATH,\n",
    "        'sample'           : DOWNSAMPLE,\n",
    "        'shards'           : DASK_SHARDS,\n",
    "        'threads_per'      : DASK_THREADS_PER,\n",
    "        'memory_limit'     : MEMORY_LIMIT,\n",
    "        'dask_key'         : DASK_KEY,\n",
    "        'target_path'      : ARTIFACTS_PATH})\n",
    "\n",
    "# run\n",
    "rn = parq2dask.run(parq_to_dask_task)"
   ]
  },
  {
   "cell_type": "markdown",
   "metadata": {},
   "source": [
    "### the scheduler artifact can be shared"
   ]
  },
  {
   "cell_type": "code",
   "execution_count": null,
   "metadata": {},
   "outputs": [],
   "source": [
    "print(rn.metadata.to_yaml())"
   ]
  },
  {
   "cell_type": "code",
   "execution_count": null,
   "metadata": {},
   "outputs": [],
   "source": [
    "rn.metadata.uid"
   ]
  },
  {
   "cell_type": "code",
   "execution_count": null,
   "metadata": {},
   "outputs": [],
   "source": [
    "rn.outputs['scheduler']"
   ]
  },
  {
   "cell_type": "markdown",
   "metadata": {},
   "source": [
    "#### What's the scheduler address?"
   ]
  },
  {
   "cell_type": "code",
   "execution_count": null,
   "metadata": {},
   "outputs": [],
   "source": [
    "import json\n",
    "json.load(open(rn.outputs['scheduler']))"
   ]
  },
  {
   "cell_type": "markdown",
   "metadata": {},
   "source": [
    "### notebook cluster\n",
    "\n",
    "Let's load the scheduler file into a cluster in this notebook using our MLRun artifact:"
   ]
  },
  {
   "cell_type": "code",
   "execution_count": null,
   "metadata": {},
   "outputs": [],
   "source": [
    "# import dask\n",
    "# import dask.dataframe as dd\n",
    "# from dask.distributed import Client, LocalCluster\n",
    "\n",
    "#client = Client(scheduler_file=rn.outputs['scheduler'])\n",
    "\n",
    "#df = client.get_dataset(DASK_KEY)"
   ]
  },
  {
   "cell_type": "markdown",
   "metadata": {},
   "source": [
    "### create a component 'on the fly' to summarise the table\n",
    "\n",
    "The nice thing about having a dask cluster loaded with all your data is that you can write _quick and dirty_ jobs either in your notebook, a local file, or a github repo. Here we use a local file:"
   ]
  },
  {
   "cell_type": "code",
   "execution_count": null,
   "metadata": {},
   "outputs": [],
   "source": [
    "# write up function in local directory\n",
    "summ = mlrun.new_function(command='/User/repos/demos/dask/code/describe.py', \n",
    "                          image=IMAGE,\n",
    "                          kind='job')\n",
    "\n",
    "summ.spec.build.image = IMAGE\n",
    "\n",
    "summ.export('/User/repos/demos/dask/yaml/describe.yaml')\n",
    "\n",
    "summ.apply(mlrun.mount_v3io())\n",
    "\n",
    "summ.deploy(skip_deployed=True, with_mlrun=False)\n",
    "\n",
    "# create the task\n",
    "summ_task = mlrun.NewTask(\n",
    "    'user-task-my-sum', \n",
    "    handler='table_summary',  \n",
    "    params={\n",
    "        'dask_key'   :  DASK_KEY,\n",
    "        'dask_client': 'scheduler.json',\n",
    "        'target_path':  ARTIFACTS_PATH,\n",
    "        'name'       : 'table-summary.csv',\n",
    "        'key'        : 'table-summary'})\n",
    "\n",
    "# run\n",
    "rn2 = summ.run(summ_task)\n",
    "\n",
    "rn2.outputs"
   ]
  },
  {
   "cell_type": "markdown",
   "metadata": {},
   "source": [
    "### tests"
   ]
  },
  {
   "cell_type": "code",
   "execution_count": null,
   "metadata": {},
   "outputs": [],
   "source": [
    "import pandas as pd\n",
    "pd.read_csv(rn2.outputs['table-summary'])"
   ]
  },
  {
   "cell_type": "code",
   "execution_count": null,
   "metadata": {},
   "outputs": [],
   "source": []
  }
 ],
 "metadata": {
  "kernelspec": {
   "display_name": "Python 3",
   "language": "python",
   "name": "python3"
  },
  "language_info": {
   "codemirror_mode": {
    "name": "ipython",
    "version": 3
   },
   "file_extension": ".py",
   "mimetype": "text/x-python",
   "name": "python",
   "nbconvert_exporter": "python",
   "pygments_lexer": "ipython3",
   "version": "3.6.8"
  }
 },
 "nbformat": 4,
 "nbformat_minor": 4
}

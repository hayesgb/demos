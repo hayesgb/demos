{
 "cells": [
  {
   "cell_type": "markdown",
   "metadata": {},
   "source": [
    "# Parquet to Dask\n",
    "load a parquet dataset into as dask cluster"
   ]
  },
  {
   "cell_type": "markdown",
   "metadata": {},
   "source": [
    "Once the client connects to the dask cluster we can check for package consistency by calling `dask_client.get_versions(check=True)`.  Scheduler and worker\n",
    "nodes are guaranteed to have the same package versions in `mlrun` since mismatches would likely cause serialization failures.  The client (in this notebook or in some other process) may have different versions and this mismatch is **less likely** to cause issues.  The following installs can be performed to ensure this mismatch becomes **unlikely** (as of this writing). **This may need to be done periodically as the dockerfiles refresh, unless you specifiy an image tag.**"
   ]
  },
  {
   "cell_type": "markdown",
   "metadata": {},
   "source": [
    "    !python -m pip install --upgrade pip\n",
    "    !python -m pip uninstall -y cmake\n",
    "    !python -m pip install cmake\n",
    "    !python -m pip install scikit-build\n",
    "\n",
    "    !python -m pip install lz4\n",
    "    !python -m pip install git+https://github.com/Blosc/python-blosc.git@v1.8.3\n",
    "    !python -m pip install cloudpickle==1.2.2\n",
    "\n",
    "    !python -m pip install numpy==1.17.4"
   ]
  },
  {
   "cell_type": "markdown",
   "metadata": {},
   "source": [
    "## clean up\n",
    "delete stale pods"
   ]
  },
  {
   "cell_type": "code",
   "execution_count": 19,
   "metadata": {},
   "outputs": [],
   "source": [
    "# !mlrun clean -p -r"
   ]
  },
  {
   "cell_type": "code",
   "execution_count": 2,
   "metadata": {},
   "outputs": [],
   "source": [
    "import mlrun\n",
    "\n",
    "mlrun.mlconf.dbpath = 'http://mlrun-api:8080'"
   ]
  },
  {
   "cell_type": "code",
   "execution_count": 3,
   "metadata": {},
   "outputs": [],
   "source": [
    "# replace with your app node ip\n",
    "mlrun.mlconf.remote_host = '18.223.249.136' "
   ]
  },
  {
   "cell_type": "markdown",
   "metadata": {},
   "source": [
    "## parameters\n"
   ]
  },
  {
   "cell_type": "code",
   "execution_count": 4,
   "metadata": {},
   "outputs": [],
   "source": [
    "FUNCTION           = 'parquet_to_dask'                                # python function file name\n",
    "DESCRIPTION        = 'load parquet dataset into a dask cluster'       \n",
    "\n",
    "IMAGE              = 'yjbds/mlrun-dask:dev'                           # custom image\n",
    "JOB_KIND           = 'dask'                                           \n",
    "\n",
    "TASK_NAME          = 'user-task-parq-to-dask'                         # whatever\n",
    "\n",
    "ARTIFACTS_PATH     = '/User/repos/demos/dask/artifacts'\n",
    "YAML_PATH          = '/User/repos/demos/dask/yaml'\n",
    "\n",
    "DATA_PATH          = '/User/repos/demos/dask/dataset/partitions'\n",
    "DOWNSAMPLE         = 0.02\n",
    "PARTITION_COLS     = ['Year', 'Month']\n",
    "PARTITION_COLS     = None\n",
    "\n",
    "DASK_SHARDS        = 8\n",
    "DASK_THREADS_PER   = 8\n",
    "MEMORY_LIMIT       = '5GB'\n",
    "\n",
    "DASK_KEY           = 'airlines'"
   ]
  },
  {
   "cell_type": "markdown",
   "metadata": {},
   "source": [
    "## load and configure function"
   ]
  },
  {
   "cell_type": "code",
   "execution_count": 5,
   "metadata": {},
   "outputs": [],
   "source": [
    "FUNC_PY = '/User/repos/demos/dask/code/parquet-to-dask.py'\n",
    "FUNC_YAML = '/User/repos/demos/dask/yaml/parquet-to-dask.yaml'"
   ]
  },
  {
   "cell_type": "markdown",
   "metadata": {},
   "source": [
    "#### some of the following cells can be commented out if this notebook has already been run."
   ]
  },
  {
   "cell_type": "code",
   "execution_count": 6,
   "metadata": {},
   "outputs": [
    {
     "name": "stdout",
     "output_type": "stream",
     "text": [
      "[mlrun] 2020-02-11 19:51:42,154 function spec saved to path: /User/repos/demos/dask/yaml/parquet-to-dask.yaml\n"
     ]
    }
   ],
   "source": [
    "# load function from a local Python file\n",
    "parq2dask = mlrun.new_function(command=FUNC_PY, \n",
    "                               image=IMAGE,\n",
    "                               kind=JOB_KIND)\n",
    "\n",
    "parq2dask.spec.remote = True\n",
    "parq2dask.spec.replicas = DASK_SHARDS \n",
    "parq2dask.spec.max_replicas = DASK_SHARDS\n",
    "parq2dask.spec.service_type = 'NodePort'\n",
    "parq2dask.spec.image_pull_policy = 'Always'\n",
    "parq2dask.spec.build.image = IMAGE\n",
    "\n",
    "parq2dask.export(FUNC_YAML)\n",
    "# parq2dask = mlrun.import_function(FUNC_YAML)"
   ]
  },
  {
   "cell_type": "code",
   "execution_count": 12,
   "metadata": {},
   "outputs": [
    {
     "name": "stdout",
     "output_type": "stream",
     "text": [
      "[mlrun] 2020-02-11 17:56:06,165 function spec saved to path: /User/repos/demos/dask/yaml/parquet-to-dask-airlines.yaml\n",
      "[mlrun] 2020-02-11 17:56:06,236 starting remote build, image: yjbds/mlrun-dask:dev\n"
     ]
    }
   ],
   "source": [
    "parq2dask.apply(mlrun.mount_v3io())\n",
    "parq2dask.deploy()\n",
    "\n",
    "# create and run the task\n",
    "parq_to_dask_task = mlrun.NewTask(\n",
    "    TASK_NAME, \n",
    "    handler=FUNCTION,  \n",
    "    params={\n",
    "        'parquet_url'      : DATA_PATH,\n",
    "        'sample'           : DOWNSAMPLE,\n",
    "        'shards'           : DASK_SHARDS,\n",
    "        'threads_per'      : DASK_THREADS_PER,\n",
    "        'memory_limit'     : MEMORY_LIMIT,\n",
    "        'dask_key'         : DASK_KEY,\n",
    "        'target_path'      : ARTIFACTS_PATH})"
   ]
  },
  {
   "cell_type": "code",
   "execution_count": 13,
   "metadata": {},
   "outputs": [
    {
     "name": "stdout",
     "output_type": "stream",
     "text": [
      "[mlrun] 2020-02-11 17:56:06,299 starting run user-task-parq-to-dask uid=9c5406a73ab14061812d73b44693ed55  -> http://mlrun-api:8080\n",
      "[mlrun] 2020-02-11 17:56:06,365 saving function: parquet-to-dask-airlines, tag: latest\n",
      "[mlrun] 2020-02-11 17:56:14,313 using remote dask scheduler (mlrun-parquet-to-dask-airlines-2aa0e5bd-c) at: 18.223.249.136:31107\n",
      "[mlrun] 2020-02-11 17:56:14,314 remote dashboard (node) port: 18.223.249.136:32647\n",
      "[mlrun] 2020-02-11 17:56:14,315 found cluster...\n",
      "[mlrun] 2020-02-11 17:56:14,315 <Client: 'tcp://10.233.64.49:8786' processes=0 threads=0, memory=0 B>\n",
      "[mlrun] 2020-02-11 17:58:32,790 column header ['Year' 'Month' 'DayofMonth' 'DayOfWeek' 'CRSDepTime' 'UniqueCarrier'\n",
      " 'ArrDelay' 'Origin' 'Dest' 'Distance']\n",
      "[mlrun] 2020-02-11 17:58:33,286 log artifact scheduler at /User/repos/demos/dask/artifacts/scheduler.json, size: None, db: Y\n",
      "\n",
      "[mlrun] 2020-02-11 17:58:33,314 run ended with state \n"
     ]
    },
    {
     "data": {
      "text/html": [
       "<style> \n",
       ".dictlist {\n",
       "  background-color: #b3edff; \n",
       "  text-align: center; \n",
       "  margin: 4px; \n",
       "  border-radius: 3px; padding: 0px 3px 1px 3px; display: inline-block;}\n",
       ".artifact {\n",
       "  cursor: pointer; \n",
       "  background-color: #ffe6cc; \n",
       "  text-align: left; \n",
       "  margin: 4px; border-radius: 3px; padding: 0px 3px 1px 3px; display: inline-block;\n",
       "}\n",
       "div.block.hidden {\n",
       "  display: none;\n",
       "}\n",
       ".clickable {\n",
       "  cursor: pointer;\n",
       "}\n",
       ".ellipsis {\n",
       "  display: inline-block;\n",
       "  max-width: 60px;\n",
       "  white-space: nowrap;\n",
       "  overflow: hidden;\n",
       "  text-overflow: ellipsis;\n",
       "}\n",
       ".master-wrapper {\n",
       "  display: flex;\n",
       "  flex-flow: row nowrap;\n",
       "  justify-content: flex-start;\n",
       "  align-items: stretch;\n",
       "}\n",
       ".master-tbl {\n",
       "  flex: 3\n",
       "}\n",
       ".master-wrapper > div {\n",
       "  margin: 4px;\n",
       "  padding: 10px;\n",
       "}\n",
       "iframe.fileview {\n",
       "  border: 0 none;\n",
       "  height: 100%;\n",
       "  width: 100%;\n",
       "  white-space: pre-wrap;\n",
       "}\n",
       ".pane-header-title {\n",
       "  width: 80%;\n",
       "  font-weight: 500;\n",
       "}\n",
       ".pane-header {\n",
       "  line-height: 1;\n",
       "  background-color: #ffe6cc;\n",
       "  padding: 3px;\n",
       "}\n",
       ".pane-header .close {\n",
       "  font-size: 20px;\n",
       "  font-weight: 700;\n",
       "  float: right;\n",
       "  margin-top: -5px;\n",
       "}\n",
       ".master-wrapper .right-pane {\n",
       "  border: 1px inset silver;\n",
       "  width: 40%;\n",
       "  min-height: 300px;\n",
       "  flex: 3\n",
       "  min-width: 500px;\n",
       "}\n",
       ".master-wrapper * {\n",
       "  box-sizing: border-box;\n",
       "}\n",
       "</style><script>\n",
       "function copyToClipboard(fld) {\n",
       "    if (document.queryCommandSupported && document.queryCommandSupported('copy')) {\n",
       "        var textarea = document.createElement('textarea');\n",
       "        textarea.textContent = fld.innerHTML;\n",
       "        textarea.style.position = 'fixed';\n",
       "        document.body.appendChild(textarea);\n",
       "        textarea.select();\n",
       "\n",
       "        try {\n",
       "            return document.execCommand('copy'); // Security exception may be thrown by some browsers.\n",
       "        } catch (ex) {\n",
       "\n",
       "        } finally {\n",
       "            document.body.removeChild(textarea);\n",
       "        }\n",
       "    }\n",
       "}\n",
       "function expandPanel(el) {\n",
       "  const panelName = \"#\" + el.getAttribute('paneName');\n",
       "  console.log(el.title);\n",
       "\n",
       "  document.querySelector(panelName + \"-title\").innerHTML = el.title\n",
       "  iframe = document.querySelector(panelName + \"-body\");\n",
       "  \n",
       "  const tblcss = `<style> body { font-family: Arial, Helvetica, sans-serif;}\n",
       "    #csv { margin-bottom: 15px; }\n",
       "    #csv table { border-collapse: collapse;}\n",
       "    #csv table td { padding: 4px 8px; border: 1px solid silver;} </style>`;\n",
       "\n",
       "  function csvToHtmlTable(str) {\n",
       "    return '<div id=\"csv\"><table><tr><td>' +  str.replace(/[\\n\\r]+$/g, '').replace(/[\\n\\r]+/g, '</td></tr><tr><td>')\n",
       "      .replace(/,/g, '</td><td>') + '</td></tr></table></div>';\n",
       "  }\n",
       "  \n",
       "  function reqListener () {\n",
       "    if (el.title.endsWith(\".csv\")) {\n",
       "      iframe.setAttribute(\"srcdoc\", tblcss + csvToHtmlTable(this.responseText));\n",
       "    } else {\n",
       "      iframe.setAttribute(\"srcdoc\", this.responseText);\n",
       "    }  \n",
       "    console.log(this.responseText);\n",
       "  }\n",
       "\n",
       "  const oReq = new XMLHttpRequest();\n",
       "  oReq.addEventListener(\"load\", reqListener);\n",
       "  oReq.open(\"GET\", el.title);\n",
       "  oReq.send();\n",
       "  \n",
       "  \n",
       "  //iframe.src = el.title;\n",
       "  const resultPane = document.querySelector(panelName + \"-pane\");\n",
       "  if (resultPane.classList.contains(\"hidden\")) {\n",
       "    resultPane.classList.remove(\"hidden\");\n",
       "  }\n",
       "}\n",
       "function closePanel(el) {\n",
       "  const panelName = \"#\" + el.getAttribute('paneName')\n",
       "  const resultPane = document.querySelector(panelName + \"-pane\");\n",
       "  if (!resultPane.classList.contains(\"hidden\")) {\n",
       "    resultPane.classList.add(\"hidden\");\n",
       "  }\n",
       "}\n",
       "\n",
       "</script>\n",
       "<div class=\"master-wrapper\">\n",
       "  <div class=\"block master-tbl\"><div>\n",
       "<style scoped>\n",
       "    .dataframe tbody tr th:only-of-type {\n",
       "        vertical-align: middle;\n",
       "    }\n",
       "\n",
       "    .dataframe tbody tr th {\n",
       "        vertical-align: top;\n",
       "    }\n",
       "\n",
       "    .dataframe thead th {\n",
       "        text-align: right;\n",
       "    }\n",
       "</style>\n",
       "<table border=\"1\" class=\"dataframe\">\n",
       "  <thead>\n",
       "    <tr style=\"text-align: right;\">\n",
       "      <th>uid</th>\n",
       "      <th>iter</th>\n",
       "      <th>start</th>\n",
       "      <th>state</th>\n",
       "      <th>name</th>\n",
       "      <th>labels</th>\n",
       "      <th>inputs</th>\n",
       "      <th>parameters</th>\n",
       "      <th>results</th>\n",
       "      <th>artifacts</th>\n",
       "    </tr>\n",
       "  </thead>\n",
       "  <tbody>\n",
       "    <tr>\n",
       "      <td><div title=\"9c5406a73ab14061812d73b44693ed55\">...93ed55</div></td>\n",
       "      <td>0</td>\n",
       "      <td>Feb 11 17:56:06</td>\n",
       "      <td>completed</td>\n",
       "      <td>user-task-parq-to-dask</td>\n",
       "      <td><div class=\"dictlist\">kind=dask</div><div class=\"dictlist\">owner=admin</div><div class=\"dictlist\">host=jupyter-1-56795c755c-bss6b</div></td>\n",
       "      <td></td>\n",
       "      <td><div class=\"dictlist\">parquet_url=/User/repos/demos/dask/dataset/partitions</div><div class=\"dictlist\">sample=None</div><div class=\"dictlist\">shards=8</div><div class=\"dictlist\">threads_per=8</div><div class=\"dictlist\">memory_limit=5GB</div><div class=\"dictlist\">dask_key=airlines</div><div class=\"dictlist\">target_path=/User/repos/demos/dask/artifacts</div></td>\n",
       "      <td></td>\n",
       "      <td><div class=\"artifact\" onclick=\"expandPanel(this)\" paneName=\"result0b3638cf\" title=\"/files/repos/demos/dask/artifacts/scheduler.json\">scheduler</div></td>\n",
       "    </tr>\n",
       "  </tbody>\n",
       "</table>\n",
       "</div></div>\n",
       "  <div id=\"result0b3638cf-pane\" class=\"right-pane block hidden\">\n",
       "    <div class=\"pane-header\">\n",
       "      <span id=\"result0b3638cf-title\" class=\"pane-header-title\">Title</span>\n",
       "      <span onclick=\"closePanel(this)\" paneName=\"result0b3638cf\" class=\"close clickable\">&times;</span>\n",
       "    </div>\n",
       "    <iframe class=\"fileview\" id=\"result0b3638cf-body\"></iframe>\n",
       "  </div>\n",
       "</div>\n"
      ],
      "text/plain": [
       "<IPython.core.display.HTML object>"
      ]
     },
     "metadata": {},
     "output_type": "display_data"
    },
    {
     "name": "stdout",
     "output_type": "stream",
     "text": [
      "to track results use .show() or .logs() or in CLI: \n",
      "!mlrun get run 9c5406a73ab14061812d73b44693ed55  , !mlrun logs 9c5406a73ab14061812d73b44693ed55 \n",
      "[mlrun] 2020-02-11 17:58:33,330 run executed, status=completed\n"
     ]
    }
   ],
   "source": [
    "# run\n",
    "rn = parq2dask.run(parq_to_dask_task)"
   ]
  },
  {
   "cell_type": "markdown",
   "metadata": {},
   "source": [
    "### the scheduler artifact can be shared"
   ]
  },
  {
   "cell_type": "code",
   "execution_count": 14,
   "metadata": {},
   "outputs": [
    {
     "name": "stdout",
     "output_type": "stream",
     "text": [
      "uid: 9c5406a73ab14061812d73b44693ed55\n",
      "name: user-task-parq-to-dask\n",
      "project: ''\n",
      "labels:\n",
      "  kind: dask\n",
      "  owner: admin\n",
      "  host: jupyter-1-56795c755c-bss6b\n",
      "iteration: 0\n",
      "\n"
     ]
    }
   ],
   "source": [
    "print(rn.metadata.to_yaml())"
   ]
  },
  {
   "cell_type": "code",
   "execution_count": 15,
   "metadata": {},
   "outputs": [
    {
     "data": {
      "text/plain": [
       "'9c5406a73ab14061812d73b44693ed55'"
      ]
     },
     "execution_count": 15,
     "metadata": {},
     "output_type": "execute_result"
    }
   ],
   "source": [
    "rn.metadata.uid"
   ]
  },
  {
   "cell_type": "code",
   "execution_count": 16,
   "metadata": {},
   "outputs": [
    {
     "data": {
      "text/plain": [
       "'/User/repos/demos/dask/artifacts/scheduler.json'"
      ]
     },
     "execution_count": 16,
     "metadata": {},
     "output_type": "execute_result"
    }
   ],
   "source": [
    "rn.outputs['scheduler']"
   ]
  },
  {
   "cell_type": "markdown",
   "metadata": {},
   "source": [
    "#### What's the scheduler address?"
   ]
  },
  {
   "cell_type": "code",
   "execution_count": 17,
   "metadata": {},
   "outputs": [
    {
     "data": {
      "text/plain": [
       "{'type': 'Scheduler',\n",
       " 'id': 'Scheduler-a85b9e97-f28c-44eb-9e2e-0609085861fa',\n",
       " 'address': 'tcp://10.233.64.49:8786',\n",
       " 'services': {},\n",
       " 'workers': {'tcp://10.233.64.52:45323': {'type': 'Worker',\n",
       "   'id': 'tcp://10.233.64.52:45323',\n",
       "   'host': '10.233.64.52',\n",
       "   'resources': {},\n",
       "   'local_directory': '/worker-0af1wkcr',\n",
       "   'name': 'tcp://10.233.64.52:45323',\n",
       "   'nthreads': 1,\n",
       "   'memory_limit': 4109136640,\n",
       "   'last_seen': 1581443913.026928,\n",
       "   'services': {},\n",
       "   'metrics': {'cpu': 2.0,\n",
       "    'memory': 90624000,\n",
       "    'time': 1581443912.5271463,\n",
       "    'read_bytes': 286.22055264142443,\n",
       "    'write_bytes': 812.6261844225057,\n",
       "    'num_fds': 22,\n",
       "    'executing': 0,\n",
       "    'in_memory': 0,\n",
       "    'ready': 0,\n",
       "    'in_flight': 0,\n",
       "    'bandwidth': {'total': 100000000, 'workers': {}, 'types': {}}},\n",
       "   'nanny': 'tcp://10.233.64.52:42492'},\n",
       "  'tcp://10.233.64.53:41797': {'type': 'Worker',\n",
       "   'id': 'tcp://10.233.64.53:41797',\n",
       "   'host': '10.233.64.53',\n",
       "   'resources': {},\n",
       "   'local_directory': '/worker-87rp3t3h',\n",
       "   'name': 'tcp://10.233.64.53:41797',\n",
       "   'nthreads': 1,\n",
       "   'memory_limit': 4109136640,\n",
       "   'last_seen': 1581443913.2620986,\n",
       "   'services': {},\n",
       "   'metrics': {'cpu': 2.0,\n",
       "    'memory': 90337280,\n",
       "    'time': 1581443913.2613332,\n",
       "    'read_bytes': 549.5555657198615,\n",
       "    'write_bytes': 395.68000731830034,\n",
       "    'num_fds': 22,\n",
       "    'executing': 0,\n",
       "    'in_memory': 0,\n",
       "    'ready': 0,\n",
       "    'in_flight': 0,\n",
       "    'bandwidth': {'total': 100000000, 'workers': {}, 'types': {}}},\n",
       "   'nanny': 'tcp://10.233.64.53:45638'},\n",
       "  'tcp://10.233.64.54:38263': {'type': 'Worker',\n",
       "   'id': 'tcp://10.233.64.54:38263',\n",
       "   'host': '10.233.64.54',\n",
       "   'resources': {},\n",
       "   'local_directory': '/worker-5g8eqw2g',\n",
       "   'name': 'tcp://10.233.64.54:38263',\n",
       "   'nthreads': 1,\n",
       "   'memory_limit': 4109136640,\n",
       "   'last_seen': 1581443913.2429235,\n",
       "   'services': {},\n",
       "   'metrics': {'cpu': 0.0,\n",
       "    'memory': 90427392,\n",
       "    'time': 1581443913.2417815,\n",
       "    'read_bytes': 0.0,\n",
       "    'write_bytes': 0.0,\n",
       "    'num_fds': 22,\n",
       "    'executing': 0,\n",
       "    'in_memory': 0,\n",
       "    'ready': 0,\n",
       "    'in_flight': 0,\n",
       "    'bandwidth': {'total': 100000000, 'workers': {}, 'types': {}}},\n",
       "   'nanny': 'tcp://10.233.64.54:43191'},\n",
       "  'tcp://10.233.64.55:44076': {'type': 'Worker',\n",
       "   'id': 'tcp://10.233.64.55:44076',\n",
       "   'host': '10.233.64.55',\n",
       "   'resources': {},\n",
       "   'local_directory': '/worker-j0fs3yb9',\n",
       "   'name': 'tcp://10.233.64.55:44076',\n",
       "   'nthreads': 1,\n",
       "   'memory_limit': 4109136640,\n",
       "   'last_seen': 1581443913.0247886,\n",
       "   'services': {},\n",
       "   'metrics': {'cpu': 2.0,\n",
       "    'memory': 90443776,\n",
       "    'time': 1581443912.5255644,\n",
       "    'read_bytes': 572.0545553737043,\n",
       "    'write_bytes': 944.0900354419176,\n",
       "    'num_fds': 22,\n",
       "    'executing': 0,\n",
       "    'in_memory': 0,\n",
       "    'ready': 0,\n",
       "    'in_flight': 0,\n",
       "    'bandwidth': {'total': 100000000, 'workers': {}, 'types': {}}},\n",
       "   'nanny': 'tcp://10.233.64.55:36798'},\n",
       "  'tcp://10.233.64.56:38404': {'type': 'Worker',\n",
       "   'id': 'tcp://10.233.64.56:38404',\n",
       "   'host': '10.233.64.56',\n",
       "   'resources': {},\n",
       "   'local_directory': '/worker-w3t3m_6r',\n",
       "   'name': 'tcp://10.233.64.56:38404',\n",
       "   'nthreads': 1,\n",
       "   'memory_limit': 4109136640,\n",
       "   'last_seen': 1581443913.161995,\n",
       "   'services': {},\n",
       "   'metrics': {'cpu': 2.0,\n",
       "    'memory': 90009600,\n",
       "    'time': 1581443912.6638699,\n",
       "    'read_bytes': 286.15282209431916,\n",
       "    'write_bytes': 812.4338865055495,\n",
       "    'num_fds': 22,\n",
       "    'executing': 0,\n",
       "    'in_memory': 0,\n",
       "    'ready': 0,\n",
       "    'in_flight': 0,\n",
       "    'bandwidth': {'total': 100000000, 'workers': {}, 'types': {}}},\n",
       "   'nanny': 'tcp://10.233.64.56:44272'},\n",
       "  'tcp://10.233.64.57:45158': {'type': 'Worker',\n",
       "   'id': 'tcp://10.233.64.57:45158',\n",
       "   'host': '10.233.64.57',\n",
       "   'resources': {},\n",
       "   'local_directory': '/worker-2cp9jqrk',\n",
       "   'name': 'tcp://10.233.64.57:45158',\n",
       "   'nthreads': 1,\n",
       "   'memory_limit': 4109136640,\n",
       "   'last_seen': 1581443913.2608037,\n",
       "   'services': {},\n",
       "   'metrics': {'cpu': 2.0,\n",
       "    'memory': 90271744,\n",
       "    'time': 1581443912.7622242,\n",
       "    'read_bytes': 285.7498337293972,\n",
       "    'write_bytes': 811.2897377212256,\n",
       "    'num_fds': 22,\n",
       "    'executing': 0,\n",
       "    'in_memory': 0,\n",
       "    'ready': 0,\n",
       "    'in_flight': 0,\n",
       "    'bandwidth': {'total': 100000000, 'workers': {}, 'types': {}}},\n",
       "   'nanny': 'tcp://10.233.64.57:36345'},\n",
       "  'tcp://10.233.64.58:43741': {'type': 'Worker',\n",
       "   'id': 'tcp://10.233.64.58:43741',\n",
       "   'host': '10.233.64.58',\n",
       "   'resources': {},\n",
       "   'local_directory': '/worker-0ebyozjl',\n",
       "   'name': 'tcp://10.233.64.58:43741',\n",
       "   'nthreads': 1,\n",
       "   'memory_limit': 4109136640,\n",
       "   'last_seen': 1581443913.1538136,\n",
       "   'services': {},\n",
       "   'metrics': {'cpu': 0.0,\n",
       "    'memory': 90693632,\n",
       "    'time': 1581443913.1529324,\n",
       "    'read_bytes': 0.0,\n",
       "    'write_bytes': 0.0,\n",
       "    'num_fds': 22,\n",
       "    'executing': 0,\n",
       "    'in_memory': 0,\n",
       "    'ready': 0,\n",
       "    'in_flight': 0,\n",
       "    'bandwidth': {'total': 100000000, 'workers': {}, 'types': {}}},\n",
       "   'nanny': 'tcp://10.233.64.58:41039'},\n",
       "  'tcp://10.233.64.59:39526': {'type': 'Worker',\n",
       "   'id': 'tcp://10.233.64.59:39526',\n",
       "   'host': '10.233.64.59',\n",
       "   'resources': {},\n",
       "   'local_directory': '/worker-g6cgszxr',\n",
       "   'name': 'tcp://10.233.64.59:39526',\n",
       "   'nthreads': 1,\n",
       "   'memory_limit': 4109136640,\n",
       "   'last_seen': 1581443912.9297972,\n",
       "   'services': {},\n",
       "   'metrics': {'cpu': 0.0,\n",
       "    'memory': 90640384,\n",
       "    'time': 1581443912.4301062,\n",
       "    'read_bytes': 285.96331971502144,\n",
       "    'write_bytes': 811.8958587713196,\n",
       "    'num_fds': 22,\n",
       "    'executing': 0,\n",
       "    'in_memory': 0,\n",
       "    'ready': 0,\n",
       "    'in_flight': 0,\n",
       "    'bandwidth': {'total': 100000000, 'workers': {}, 'types': {}}},\n",
       "   'nanny': 'tcp://10.233.64.59:43773'}}}"
      ]
     },
     "execution_count": 17,
     "metadata": {},
     "output_type": "execute_result"
    }
   ],
   "source": [
    "import json\n",
    "json.load(open(rn.outputs['scheduler']))"
   ]
  },
  {
   "cell_type": "markdown",
   "metadata": {},
   "source": [
    "### notebook cluster\n",
    "\n",
    "Let's load the scheduler file into a cluster in this notebook using our MLRun artifact:"
   ]
  },
  {
   "cell_type": "code",
   "execution_count": 18,
   "metadata": {},
   "outputs": [],
   "source": [
    "# import dask\n",
    "# import dask.dataframe as dd\n",
    "# from dask.distributed import Client, LocalCluster\n",
    "\n",
    "#client = Client(scheduler_file=rn.outputs['scheduler'])\n",
    "\n",
    "#df = client.get_dataset(DASK_KEY)"
   ]
  },
  {
   "cell_type": "markdown",
   "metadata": {},
   "source": [
    "### create a component 'on the fly' to summarise the table\n",
    "\n",
    "The nice thing about having a dask cluster loaded with all your data is that you can write _quick and dirty_ jobs either in your notebook, a local file, or a github repo. Here we use a local file:"
   ]
  },
  {
   "cell_type": "code",
   "execution_count": 7,
   "metadata": {},
   "outputs": [
    {
     "name": "stdout",
     "output_type": "stream",
     "text": [
      "[mlrun] 2020-02-11 19:51:47,946 function spec saved to path: /User/repos/demos/dask/yaml/describe.yaml\n"
     ]
    }
   ],
   "source": [
    "# write up function in local directory\n",
    "summ = mlrun.new_function(command='/User/repos/demos/dask/code/describe.py', \n",
    "                          image=IMAGE,\n",
    "                          kind='job')\n",
    "\n",
    "summ.spec.build.image = IMAGE\n",
    "\n",
    "summ.export('/User/repos/demos/dask/yaml/describe.yaml')"
   ]
  },
  {
   "cell_type": "code",
   "execution_count": null,
   "metadata": {},
   "outputs": [],
   "source": [
    "summ.apply(mlrun.mount_v3io())\n",
    "\n",
    "summ.deploy(skip_deployed=True, with_mlrun=False)\n",
    "\n",
    "# create the task\n",
    "summ_task = mlrun.NewTask(\n",
    "    'user-task-my-sum', \n",
    "    handler='table_summary',  \n",
    "    params={\n",
    "        'dask_key'   :  DASK_KEY,\n",
    "        'dask_client': 'scheduler.json',\n",
    "        'target_path':  ARTIFACTS_PATH,\n",
    "        'name'       : 'table-summary.csv',\n",
    "        'key'        : 'table-summary'})\n",
    "\n",
    "# run\n",
    "rn2 = summ.run(summ_task)\n",
    "\n",
    "rn2.outputs"
   ]
  },
  {
   "cell_type": "markdown",
   "metadata": {},
   "source": [
    "### tests"
   ]
  },
  {
   "cell_type": "code",
   "execution_count": null,
   "metadata": {},
   "outputs": [],
   "source": [
    "import pandas as pd\n",
    "pd.read_csv(rn2.outputs['table-summary'])"
   ]
  }
 ],
 "metadata": {
  "kernelspec": {
   "display_name": "Python 3",
   "language": "python",
   "name": "python3"
  },
  "language_info": {
   "codemirror_mode": {
    "name": "ipython",
    "version": 3
   },
   "file_extension": ".py",
   "mimetype": "text/x-python",
   "name": "python",
   "nbconvert_exporter": "python",
   "pygments_lexer": "ipython3",
   "version": "3.6.8"
  }
 },
 "nbformat": 4,
 "nbformat_minor": 4
}

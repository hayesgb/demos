{
 "cells": [
  {
   "cell_type": "markdown",
   "metadata": {},
   "source": [
    "# Parquet to Dask\n",
    "load a parquet dataset into as dask cluster"
   ]
  },
  {
   "cell_type": "markdown",
   "metadata": {},
   "source": [
    "Once the client connects to the dask cluster we can check for package consistency by calling `dask_client.get_versions(check=True)`.  Scheduler and worker\n",
    "nodes are guaranteed to have the same package versions in `mlrun` since mismatches would likely cause serialization failures.  The client (in this notebook or in some other process) may have different versions and this mismatch is **less likely** to cause issues.  The following installs can be performed to ensure this mismatch becomes **unlikely** (as of this writing). **This may need to be done periodically as the dockerfiles refresh, unless you specifiy an image tag.**"
   ]
  },
  {
   "cell_type": "markdown",
   "metadata": {},
   "source": [
    "    !python -m pip install --upgrade pip\n",
    "    !python -m pip uninstall -y cmake\n",
    "    !python -m pip install cmake\n",
    "    !python -m pip install scikit-build\n",
    "\n",
    "    !python -m pip install lz4\n",
    "    !python -m pip install git+https://github.com/Blosc/python-blosc.git@v1.8.3\n",
    "    !python -m pip install cloudpickle==1.2.2\n",
    "\n",
    "    !python -m pip install numpy==1.17.4"
   ]
  },
  {
   "cell_type": "markdown",
   "metadata": {},
   "source": [
    "## clean up\n",
    "delete stale pods"
   ]
  },
  {
   "cell_type": "code",
   "execution_count": 14,
   "metadata": {},
   "outputs": [],
   "source": [
    "# !mlrun clean -p -r"
   ]
  },
  {
   "cell_type": "code",
   "execution_count": 15,
   "metadata": {},
   "outputs": [],
   "source": [
    "import mlrun\n",
    "\n",
    "mlrun.mlconf.dbpath = 'http://mlrun-api:8080'"
   ]
  },
  {
   "cell_type": "code",
   "execution_count": 16,
   "metadata": {},
   "outputs": [],
   "source": [
    "# replace with your app node ip\n",
    "mlrun.mlconf.remote_host = '18.223.249.136' "
   ]
  },
  {
   "cell_type": "markdown",
   "metadata": {},
   "source": [
    "## parameters\n"
   ]
  },
  {
   "cell_type": "code",
   "execution_count": 17,
   "metadata": {},
   "outputs": [],
   "source": [
    "FUNCTION           = 'parquet_to_dask'                                # python function file name\n",
    "DESCRIPTION        = 'load parquet dataset into a dask cluster'       \n",
    "\n",
    "IMAGE              = 'yjbds/mlrun-dask:dev'                           # custom image\n",
    "JOB_KIND           = 'dask'                                           \n",
    "\n",
    "TASK_NAME          = 'user-task-parq-to-dask'                         # whatever\n",
    "\n",
    "ARTIFACTS_PATH     = '/User/repos/demos/dask/artifacts'\n",
    "YAML_PATH          = '/User/repos/demos/dask/yaml'\n",
    "\n",
    "DATA_PATH          = '/User/repos/demos/dask/dataset-test/partitions'\n",
    "DOWNSAMPLE         = 0.15\n",
    "PARTITION_COLS     = ['Year', 'Month']\n",
    "PARTITION_COLS     = None\n",
    "\n",
    "DASK_SHARDS        = 8\n",
    "DASK_THREADS_PER   = 8\n",
    "MEMORY_LIMIT       = '5GB'\n",
    "\n",
    "DASK_KEY           = 'airlines'"
   ]
  },
  {
   "cell_type": "markdown",
   "metadata": {},
   "source": [
    "## load and configure function"
   ]
  },
  {
   "cell_type": "code",
   "execution_count": 18,
   "metadata": {},
   "outputs": [],
   "source": [
    "FUNC_PY = '/User/repos/demos/dask/parquet-to-dask-airlines.py'\n",
    "FUNC_YAML = '/User/repos/demos/dask/yaml/parquet-to-dask-airlines.yaml'"
   ]
  },
  {
   "cell_type": "markdown",
   "metadata": {},
   "source": [
    "#### some of the following cells can be commented out if this notebook has already been run."
   ]
  },
  {
   "cell_type": "code",
   "execution_count": 19,
   "metadata": {},
   "outputs": [
    {
     "name": "stdout",
     "output_type": "stream",
     "text": [
      "[mlrun] 2020-02-11 09:30:53,127 function spec saved to path: /User/repos/demos/dask/yaml/parquet-to-dask-airlines.yaml\n",
      "[mlrun] 2020-02-11 09:30:53,329 starting remote build, image: yjbds/mlrun-dask:dev\n",
      "[mlrun] 2020-02-11 09:30:53,400 starting run user-task-parq-to-dask uid=d4a2565ca2ec4645b97fa372867707fb  -> http://mlrun-api:8080\n",
      "[mlrun] 2020-02-11 09:30:53,471 saving function: parquet-to-dask-airlines, tag: latest\n",
      "[mlrun] 2020-02-11 09:31:01,638 using remote dask scheduler (mlrun-parquet-to-dask-airlines-ab79c6fc-8) at: 18.223.249.136:31723\n",
      "[mlrun] 2020-02-11 09:31:01,639 remote dashboard (node) port: 18.223.249.136:30032\n",
      "[mlrun] 2020-02-11 09:31:01,640 found cluster...\n",
      "[mlrun] 2020-02-11 09:31:01,640 <Client: 'tcp://10.233.64.49:8786' processes=0 threads=0, memory=0 B>\n",
      "[mlrun] 2020-02-11 09:33:17,222 column header ['Year' 'Month' 'DayofMonth' 'DayOfWeek' 'CRSDepTime' 'UniqueCarrier'\n",
      " 'ArrDelay' 'Origin' 'Dest' 'Distance']\n",
      "[mlrun] 2020-02-11 09:33:18,331 log artifact scheduler at /User/repos/demos/dask/artifacts/scheduler.json, size: None, db: Y\n",
      "\n",
      "[mlrun] 2020-02-11 09:33:18,379 run ended with state \n"
     ]
    },
    {
     "data": {
      "text/html": [
       "<style> \n",
       ".dictlist {\n",
       "  background-color: #b3edff; \n",
       "  text-align: center; \n",
       "  margin: 4px; \n",
       "  border-radius: 3px; padding: 0px 3px 1px 3px; display: inline-block;}\n",
       ".artifact {\n",
       "  cursor: pointer; \n",
       "  background-color: #ffe6cc; \n",
       "  text-align: left; \n",
       "  margin: 4px; border-radius: 3px; padding: 0px 3px 1px 3px; display: inline-block;\n",
       "}\n",
       "div.block.hidden {\n",
       "  display: none;\n",
       "}\n",
       ".clickable {\n",
       "  cursor: pointer;\n",
       "}\n",
       ".ellipsis {\n",
       "  display: inline-block;\n",
       "  max-width: 60px;\n",
       "  white-space: nowrap;\n",
       "  overflow: hidden;\n",
       "  text-overflow: ellipsis;\n",
       "}\n",
       ".master-wrapper {\n",
       "  display: flex;\n",
       "  flex-flow: row nowrap;\n",
       "  justify-content: flex-start;\n",
       "  align-items: stretch;\n",
       "}\n",
       ".master-tbl {\n",
       "  flex: 3\n",
       "}\n",
       ".master-wrapper > div {\n",
       "  margin: 4px;\n",
       "  padding: 10px;\n",
       "}\n",
       "iframe.fileview {\n",
       "  border: 0 none;\n",
       "  height: 100%;\n",
       "  width: 100%;\n",
       "  white-space: pre-wrap;\n",
       "}\n",
       ".pane-header-title {\n",
       "  width: 80%;\n",
       "  font-weight: 500;\n",
       "}\n",
       ".pane-header {\n",
       "  line-height: 1;\n",
       "  background-color: #ffe6cc;\n",
       "  padding: 3px;\n",
       "}\n",
       ".pane-header .close {\n",
       "  font-size: 20px;\n",
       "  font-weight: 700;\n",
       "  float: right;\n",
       "  margin-top: -5px;\n",
       "}\n",
       ".master-wrapper .right-pane {\n",
       "  border: 1px inset silver;\n",
       "  width: 40%;\n",
       "  min-height: 300px;\n",
       "  flex: 3\n",
       "  min-width: 500px;\n",
       "}\n",
       ".master-wrapper * {\n",
       "  box-sizing: border-box;\n",
       "}\n",
       "</style><script>\n",
       "function copyToClipboard(fld) {\n",
       "    if (document.queryCommandSupported && document.queryCommandSupported('copy')) {\n",
       "        var textarea = document.createElement('textarea');\n",
       "        textarea.textContent = fld.innerHTML;\n",
       "        textarea.style.position = 'fixed';\n",
       "        document.body.appendChild(textarea);\n",
       "        textarea.select();\n",
       "\n",
       "        try {\n",
       "            return document.execCommand('copy'); // Security exception may be thrown by some browsers.\n",
       "        } catch (ex) {\n",
       "\n",
       "        } finally {\n",
       "            document.body.removeChild(textarea);\n",
       "        }\n",
       "    }\n",
       "}\n",
       "function expandPanel(el) {\n",
       "  const panelName = \"#\" + el.getAttribute('paneName');\n",
       "  console.log(el.title);\n",
       "\n",
       "  document.querySelector(panelName + \"-title\").innerHTML = el.title\n",
       "  iframe = document.querySelector(panelName + \"-body\");\n",
       "  \n",
       "  const tblcss = `<style> body { font-family: Arial, Helvetica, sans-serif;}\n",
       "    #csv { margin-bottom: 15px; }\n",
       "    #csv table { border-collapse: collapse;}\n",
       "    #csv table td { padding: 4px 8px; border: 1px solid silver;} </style>`;\n",
       "\n",
       "  function csvToHtmlTable(str) {\n",
       "    return '<div id=\"csv\"><table><tr><td>' +  str.replace(/[\\n\\r]+$/g, '').replace(/[\\n\\r]+/g, '</td></tr><tr><td>')\n",
       "      .replace(/,/g, '</td><td>') + '</td></tr></table></div>';\n",
       "  }\n",
       "  \n",
       "  function reqListener () {\n",
       "    if (el.title.endsWith(\".csv\")) {\n",
       "      iframe.setAttribute(\"srcdoc\", tblcss + csvToHtmlTable(this.responseText));\n",
       "    } else {\n",
       "      iframe.setAttribute(\"srcdoc\", this.responseText);\n",
       "    }  \n",
       "    console.log(this.responseText);\n",
       "  }\n",
       "\n",
       "  const oReq = new XMLHttpRequest();\n",
       "  oReq.addEventListener(\"load\", reqListener);\n",
       "  oReq.open(\"GET\", el.title);\n",
       "  oReq.send();\n",
       "  \n",
       "  \n",
       "  //iframe.src = el.title;\n",
       "  const resultPane = document.querySelector(panelName + \"-pane\");\n",
       "  if (resultPane.classList.contains(\"hidden\")) {\n",
       "    resultPane.classList.remove(\"hidden\");\n",
       "  }\n",
       "}\n",
       "function closePanel(el) {\n",
       "  const panelName = \"#\" + el.getAttribute('paneName')\n",
       "  const resultPane = document.querySelector(panelName + \"-pane\");\n",
       "  if (!resultPane.classList.contains(\"hidden\")) {\n",
       "    resultPane.classList.add(\"hidden\");\n",
       "  }\n",
       "}\n",
       "\n",
       "</script>\n",
       "<div class=\"master-wrapper\">\n",
       "  <div class=\"block master-tbl\"><div>\n",
       "<style scoped>\n",
       "    .dataframe tbody tr th:only-of-type {\n",
       "        vertical-align: middle;\n",
       "    }\n",
       "\n",
       "    .dataframe tbody tr th {\n",
       "        vertical-align: top;\n",
       "    }\n",
       "\n",
       "    .dataframe thead th {\n",
       "        text-align: right;\n",
       "    }\n",
       "</style>\n",
       "<table border=\"1\" class=\"dataframe\">\n",
       "  <thead>\n",
       "    <tr style=\"text-align: right;\">\n",
       "      <th>uid</th>\n",
       "      <th>iter</th>\n",
       "      <th>start</th>\n",
       "      <th>state</th>\n",
       "      <th>name</th>\n",
       "      <th>labels</th>\n",
       "      <th>inputs</th>\n",
       "      <th>parameters</th>\n",
       "      <th>results</th>\n",
       "      <th>artifacts</th>\n",
       "    </tr>\n",
       "  </thead>\n",
       "  <tbody>\n",
       "    <tr>\n",
       "      <td><div title=\"d4a2565ca2ec4645b97fa372867707fb\">...7707fb</div></td>\n",
       "      <td>0</td>\n",
       "      <td>Feb 11 09:30:53</td>\n",
       "      <td>completed</td>\n",
       "      <td>user-task-parq-to-dask</td>\n",
       "      <td><div class=\"dictlist\">kind=dask</div><div class=\"dictlist\">owner=admin</div><div class=\"dictlist\">host=jupyter-1-56795c755c-bss6b</div></td>\n",
       "      <td></td>\n",
       "      <td><div class=\"dictlist\">parquet_url=/User/repos/demos/dask/dataset-test/partitions</div><div class=\"dictlist\">sample=0.15</div><div class=\"dictlist\">shards=8</div><div class=\"dictlist\">threads_per=8</div><div class=\"dictlist\">memory_limit=5GB</div><div class=\"dictlist\">dask_key=airlines</div><div class=\"dictlist\">target_path=/User/repos/demos/dask/artifacts</div></td>\n",
       "      <td></td>\n",
       "      <td><div class=\"artifact\" onclick=\"expandPanel(this)\" paneName=\"result46a73cec\" title=\"/files/repos/demos/dask/artifacts/scheduler.json\">scheduler</div></td>\n",
       "    </tr>\n",
       "  </tbody>\n",
       "</table>\n",
       "</div></div>\n",
       "  <div id=\"result46a73cec-pane\" class=\"right-pane block hidden\">\n",
       "    <div class=\"pane-header\">\n",
       "      <span id=\"result46a73cec-title\" class=\"pane-header-title\">Title</span>\n",
       "      <span onclick=\"closePanel(this)\" paneName=\"result46a73cec\" class=\"close clickable\">&times;</span>\n",
       "    </div>\n",
       "    <iframe class=\"fileview\" id=\"result46a73cec-body\"></iframe>\n",
       "  </div>\n",
       "</div>\n"
      ],
      "text/plain": [
       "<IPython.core.display.HTML object>"
      ]
     },
     "metadata": {},
     "output_type": "display_data"
    },
    {
     "name": "stdout",
     "output_type": "stream",
     "text": [
      "to track results use .show() or .logs() or in CLI: \n",
      "!mlrun get run d4a2565ca2ec4645b97fa372867707fb  , !mlrun logs d4a2565ca2ec4645b97fa372867707fb \n",
      "[mlrun] 2020-02-11 09:33:18,395 run executed, status=completed\n"
     ]
    }
   ],
   "source": [
    "# load function from a local Python file\n",
    "parq2dask = mlrun.new_function(command=FUNC_PY, \n",
    "                               image=IMAGE,\n",
    "                               kind=JOB_KIND)\n",
    "\n",
    "parq2dask.spec.remote = True\n",
    "parq2dask.spec.replicas = DASK_SHARDS \n",
    "parq2dask.spec.max_replicas = DASK_SHARDS\n",
    "parq2dask.spec.service_type = 'NodePort'\n",
    "parq2dask.spec.image_pull_policy = 'Always'\n",
    "parq2dask.spec.build.image = IMAGE\n",
    "\n",
    "parq2dask.export(FUNC_YAML)\n",
    "# parq2dask = mlrun.import_function(FUNC_YAML)\n",
    "\n",
    "parq2dask.apply(mlrun.mount_v3io())\n",
    "parq2dask.deploy()\n",
    "\n",
    "# create and run the task\n",
    "parq_to_dask_task = mlrun.NewTask(\n",
    "    TASK_NAME, \n",
    "    handler=FUNCTION,  \n",
    "    params={\n",
    "        'parquet_url'      : DATA_PATH,\n",
    "        'sample'           : DOWNSAMPLE,\n",
    "        'shards'           : DASK_SHARDS,\n",
    "        'threads_per'      : DASK_THREADS_PER,\n",
    "        'memory_limit'     : MEMORY_LIMIT,\n",
    "        'dask_key'         : DASK_KEY,\n",
    "        'target_path'      : ARTIFACTS_PATH})\n",
    "\n",
    "# run\n",
    "rn = parq2dask.run(parq_to_dask_task)"
   ]
  },
  {
   "cell_type": "markdown",
   "metadata": {},
   "source": [
    "### the scheduler artifact can be shared"
   ]
  },
  {
   "cell_type": "code",
   "execution_count": 20,
   "metadata": {},
   "outputs": [
    {
     "name": "stdout",
     "output_type": "stream",
     "text": [
      "uid: d4a2565ca2ec4645b97fa372867707fb\n",
      "name: user-task-parq-to-dask\n",
      "project: ''\n",
      "labels:\n",
      "  kind: dask\n",
      "  owner: admin\n",
      "  host: jupyter-1-56795c755c-bss6b\n",
      "iteration: 0\n",
      "\n"
     ]
    }
   ],
   "source": [
    "print(rn.metadata.to_yaml())"
   ]
  },
  {
   "cell_type": "code",
   "execution_count": 21,
   "metadata": {},
   "outputs": [
    {
     "data": {
      "text/plain": [
       "'d4a2565ca2ec4645b97fa372867707fb'"
      ]
     },
     "execution_count": 21,
     "metadata": {},
     "output_type": "execute_result"
    }
   ],
   "source": [
    "rn.metadata.uid"
   ]
  },
  {
   "cell_type": "code",
   "execution_count": 22,
   "metadata": {},
   "outputs": [
    {
     "data": {
      "text/plain": [
       "'/User/repos/demos/dask/artifacts/scheduler.json'"
      ]
     },
     "execution_count": 22,
     "metadata": {},
     "output_type": "execute_result"
    }
   ],
   "source": [
    "rn.outputs['scheduler']"
   ]
  },
  {
   "cell_type": "markdown",
   "metadata": {},
   "source": [
    "#### What's the scheduler address?"
   ]
  },
  {
   "cell_type": "code",
   "execution_count": 23,
   "metadata": {},
   "outputs": [
    {
     "data": {
      "text/plain": [
       "{'type': 'Scheduler',\n",
       " 'id': 'Scheduler-5ffffd9b-882a-4faf-a92d-0cb4f394ada7',\n",
       " 'address': 'tcp://10.233.64.49:8786',\n",
       " 'services': {},\n",
       " 'workers': {'tcp://10.233.64.52:46173': {'type': 'Worker',\n",
       "   'id': 'tcp://10.233.64.52:46173',\n",
       "   'host': '10.233.64.52',\n",
       "   'resources': {},\n",
       "   'local_directory': '/worker-paypenkt',\n",
       "   'name': 'tcp://10.233.64.52:46173',\n",
       "   'nthreads': 1,\n",
       "   'memory_limit': 4109136640,\n",
       "   'last_seen': 1581413598.2863495,\n",
       "   'services': {},\n",
       "   'metrics': {'cpu': 0.0,\n",
       "    'memory': 90509312,\n",
       "    'time': 1581413598.285361,\n",
       "    'read_bytes': 285.9777725329767,\n",
       "    'write_bytes': 811.9368926460737,\n",
       "    'num_fds': 22,\n",
       "    'executing': 0,\n",
       "    'in_memory': 0,\n",
       "    'ready': 0,\n",
       "    'in_flight': 0,\n",
       "    'bandwidth': {'total': 100000000, 'workers': {}, 'types': {}}},\n",
       "   'nanny': 'tcp://10.233.64.52:34369'},\n",
       "  'tcp://10.233.64.53:42318': {'type': 'Worker',\n",
       "   'id': 'tcp://10.233.64.53:42318',\n",
       "   'host': '10.233.64.53',\n",
       "   'resources': {},\n",
       "   'local_directory': '/worker-y201jmhj',\n",
       "   'name': 'tcp://10.233.64.53:42318',\n",
       "   'nthreads': 1,\n",
       "   'memory_limit': 4109136640,\n",
       "   'last_seen': 1581413598.0485435,\n",
       "   'services': {},\n",
       "   'metrics': {'cpu': 2.0,\n",
       "    'memory': 90877952,\n",
       "    'time': 1581413597.5496428,\n",
       "    'read_bytes': 285.7905444780051,\n",
       "    'write_bytes': 131.90332822061774,\n",
       "    'num_fds': 22,\n",
       "    'executing': 0,\n",
       "    'in_memory': 0,\n",
       "    'ready': 0,\n",
       "    'in_flight': 0,\n",
       "    'bandwidth': {'total': 100000000, 'workers': {}, 'types': {}}},\n",
       "   'nanny': 'tcp://10.233.64.53:35388'},\n",
       "  'tcp://10.233.64.54:42585': {'type': 'Worker',\n",
       "   'id': 'tcp://10.233.64.54:42585',\n",
       "   'host': '10.233.64.54',\n",
       "   'resources': {},\n",
       "   'local_directory': '/worker-aexlxbfq',\n",
       "   'name': 'tcp://10.233.64.54:42585',\n",
       "   'nthreads': 1,\n",
       "   'memory_limit': 4109136640,\n",
       "   'last_seen': 1581413597.9704258,\n",
       "   'services': {},\n",
       "   'metrics': {'cpu': 2.0,\n",
       "    'memory': 90755072,\n",
       "    'time': 1581413597.470947,\n",
       "    'read_bytes': 286.29651452519835,\n",
       "    'write_bytes': 1493.546851998587,\n",
       "    'num_fds': 22,\n",
       "    'executing': 0,\n",
       "    'in_memory': 0,\n",
       "    'ready': 0,\n",
       "    'in_flight': 0,\n",
       "    'bandwidth': {'total': 100000000, 'workers': {}, 'types': {}}},\n",
       "   'nanny': 'tcp://10.233.64.54:43505'},\n",
       "  'tcp://10.233.64.55:37239': {'type': 'Worker',\n",
       "   'id': 'tcp://10.233.64.55:37239',\n",
       "   'host': '10.233.64.55',\n",
       "   'resources': {},\n",
       "   'local_directory': '/worker-rc4axx7b',\n",
       "   'name': 'tcp://10.233.64.55:37239',\n",
       "   'nthreads': 1,\n",
       "   'memory_limit': 4109136640,\n",
       "   'last_seen': 1581413598.2232006,\n",
       "   'services': {},\n",
       "   'metrics': {'cpu': 2.0,\n",
       "    'memory': 90431488,\n",
       "    'time': 1581413597.7241776,\n",
       "    'read_bytes': 572.5195162961538,\n",
       "    'write_bytes': 1625.4749903233458,\n",
       "    'num_fds': 22,\n",
       "    'executing': 0,\n",
       "    'in_memory': 0,\n",
       "    'ready': 0,\n",
       "    'in_flight': 0,\n",
       "    'bandwidth': {'total': 100000000, 'workers': {}, 'types': {}}},\n",
       "   'nanny': 'tcp://10.233.64.55:36598'},\n",
       "  'tcp://10.233.64.56:39509': {'type': 'Worker',\n",
       "   'id': 'tcp://10.233.64.56:39509',\n",
       "   'host': '10.233.64.56',\n",
       "   'resources': {},\n",
       "   'local_directory': '/worker-fjvzv__a',\n",
       "   'name': 'tcp://10.233.64.56:39509',\n",
       "   'nthreads': 1,\n",
       "   'memory_limit': 4109136640,\n",
       "   'last_seen': 1581413597.8961625,\n",
       "   'services': {},\n",
       "   'metrics': {'cpu': 2.0,\n",
       "    'memory': 90599424,\n",
       "    'time': 1581413597.396696,\n",
       "    'read_bytes': 286.19187248836454,\n",
       "    'write_bytes': 944.6333133881682,\n",
       "    'num_fds': 22,\n",
       "    'executing': 0,\n",
       "    'in_memory': 0,\n",
       "    'ready': 0,\n",
       "    'in_flight': 0,\n",
       "    'bandwidth': {'total': 100000000, 'workers': {}, 'types': {}}},\n",
       "   'nanny': 'tcp://10.233.64.56:46165'},\n",
       "  'tcp://10.233.64.57:41783': {'type': 'Worker',\n",
       "   'id': 'tcp://10.233.64.57:41783',\n",
       "   'host': '10.233.64.57',\n",
       "   'resources': {},\n",
       "   'local_directory': '/worker-x_ydu8tv',\n",
       "   'name': 'tcp://10.233.64.57:41783',\n",
       "   'nthreads': 1,\n",
       "   'memory_limit': 4109136640,\n",
       "   'last_seen': 1581413598.199318,\n",
       "   'services': {},\n",
       "   'metrics': {'cpu': 2.0,\n",
       "    'memory': 90017792,\n",
       "    'time': 1581413597.7004585,\n",
       "    'read_bytes': 285.9049779083242,\n",
       "    'write_bytes': 811.7302169984589,\n",
       "    'num_fds': 22,\n",
       "    'executing': 0,\n",
       "    'in_memory': 0,\n",
       "    'ready': 0,\n",
       "    'in_flight': 0,\n",
       "    'bandwidth': {'total': 100000000, 'workers': {}, 'types': {}}},\n",
       "   'nanny': 'tcp://10.233.64.57:45250'},\n",
       "  'tcp://10.233.64.58:41013': {'type': 'Worker',\n",
       "   'id': 'tcp://10.233.64.58:41013',\n",
       "   'host': '10.233.64.58',\n",
       "   'resources': {},\n",
       "   'local_directory': '/worker-qzsba2ps',\n",
       "   'name': 'tcp://10.233.64.58:41013',\n",
       "   'nthreads': 1,\n",
       "   'memory_limit': 4109136640,\n",
       "   'last_seen': 1581413598.0119343,\n",
       "   'services': {},\n",
       "   'metrics': {'cpu': 2.0,\n",
       "    'memory': 90337280,\n",
       "    'time': 1581413597.512752,\n",
       "    'read_bytes': 286.3490009529284,\n",
       "    'write_bytes': 812.9908698383841,\n",
       "    'num_fds': 22,\n",
       "    'executing': 0,\n",
       "    'in_memory': 0,\n",
       "    'ready': 0,\n",
       "    'in_flight': 0,\n",
       "    'bandwidth': {'total': 100000000, 'workers': {}, 'types': {}}},\n",
       "   'nanny': 'tcp://10.233.64.58:42485'},\n",
       "  'tcp://10.233.64.59:46766': {'type': 'Worker',\n",
       "   'id': 'tcp://10.233.64.59:46766',\n",
       "   'host': '10.233.64.59',\n",
       "   'resources': {},\n",
       "   'local_directory': '/worker-nfvd6dcl',\n",
       "   'name': 'tcp://10.233.64.59:46766',\n",
       "   'nthreads': 1,\n",
       "   'memory_limit': 4109136640,\n",
       "   'last_seen': 1581413597.8465505,\n",
       "   'services': {},\n",
       "   'metrics': {'cpu': 2.0,\n",
       "    'memory': 90537984,\n",
       "    'time': 1581413597.3470452,\n",
       "    'read_bytes': 572.006546095422,\n",
       "    'write_bytes': 944.0108033462907,\n",
       "    'num_fds': 22,\n",
       "    'executing': 0,\n",
       "    'in_memory': 0,\n",
       "    'ready': 0,\n",
       "    'in_flight': 0,\n",
       "    'bandwidth': {'total': 100000000, 'workers': {}, 'types': {}}},\n",
       "   'nanny': 'tcp://10.233.64.59:42107'}}}"
      ]
     },
     "execution_count": 23,
     "metadata": {},
     "output_type": "execute_result"
    }
   ],
   "source": [
    "import json\n",
    "json.load(open(rn.outputs['scheduler']))"
   ]
  },
  {
   "cell_type": "markdown",
   "metadata": {},
   "source": [
    "### notebook cluster\n",
    "\n",
    "Let's load the scheduler file into a cluster in this notebook using our MLRun artifact:"
   ]
  },
  {
   "cell_type": "code",
   "execution_count": 24,
   "metadata": {},
   "outputs": [],
   "source": [
    "# import dask\n",
    "# import dask.dataframe as dd\n",
    "# from dask.distributed import Client, LocalCluster\n",
    "\n",
    "#client = Client(scheduler_file=rn.outputs['scheduler'])\n",
    "\n",
    "#df = client.get_dataset(DASK_KEY)"
   ]
  },
  {
   "cell_type": "markdown",
   "metadata": {},
   "source": [
    "### create a component 'on the fly' to summarise the table\n",
    "\n",
    "The nice thing about having a dask cluster loaded with all your data is that you can write _quick and dirty_ jobs either in your notebook, a local file, or a github repo. Here we use a local file:"
   ]
  },
  {
   "cell_type": "code",
   "execution_count": null,
   "metadata": {},
   "outputs": [
    {
     "name": "stdout",
     "output_type": "stream",
     "text": [
      "[mlrun] 2020-02-11 09:33:18,469 function spec saved to path: /User/repos/demos/dask/yaml/describe.yaml\n",
      "[mlrun] 2020-02-11 09:33:18,477 starting run user-task-my-sum uid=c7886a86a9634a85b99d3e927ac8c0b4  -> http://mlrun-api:8080\n",
      "[mlrun] 2020-02-11 09:33:18,544 Job is running in the background, pod: user-task-my-sum-9zr99\n"
     ]
    }
   ],
   "source": [
    "# write up function in local directory\n",
    "summ = mlrun.new_function(command='/User/repos/demos/dask/describe.py', \n",
    "                          image=IMAGE,\n",
    "                          kind='job')\n",
    "\n",
    "summ.spec.build.image = IMAGE\n",
    "\n",
    "summ.export('/User/repos/demos/dask/yaml/describe.yaml')\n",
    "\n",
    "summ.apply(mlrun.mount_v3io())\n",
    "\n",
    "summ.deploy(skip_deployed=True, with_mlrun=False)\n",
    "\n",
    "# create the task\n",
    "summ_task = mlrun.NewTask(\n",
    "    'user-task-my-sum', \n",
    "    handler='table_summary',  \n",
    "    params={\n",
    "        'dask_key'   :  DASK_KEY,\n",
    "        'dask_client': 'scheduler.json',\n",
    "        'target_path':  ARTIFACTS_PATH,\n",
    "        'name'       : 'table-summary.csv',\n",
    "        'key'        : 'table-summary'})\n",
    "\n",
    "# run\n",
    "rn2 = summ.run(summ_task)\n",
    "\n",
    "rn2.outputs"
   ]
  },
  {
   "cell_type": "markdown",
   "metadata": {},
   "source": [
    "### tests"
   ]
  },
  {
   "cell_type": "code",
   "execution_count": null,
   "metadata": {},
   "outputs": [],
   "source": [
    "import pandas as pd\n",
    "pd.read_csv(rn2.outputs['table-summary'])"
   ]
  }
 ],
 "metadata": {
  "kernelspec": {
   "display_name": "Python 3",
   "language": "python",
   "name": "python3"
  },
  "language_info": {
   "codemirror_mode": {
    "name": "ipython",
    "version": 3
   },
   "file_extension": ".py",
   "mimetype": "text/x-python",
   "name": "python",
   "nbconvert_exporter": "python",
   "pygments_lexer": "ipython3",
   "version": "3.6.8"
  }
 },
 "nbformat": 4,
 "nbformat_minor": 4
}

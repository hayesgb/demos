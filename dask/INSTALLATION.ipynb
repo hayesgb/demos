{
 "cells": [
  {
   "cell_type": "markdown",
   "metadata": {},
   "source": [
    "# INSTALLATION\n",
    "\n",
    "This demo requires \n",
    "### requirements\n",
    "Pre-built images are available on docker hub:\n",
    "* **[yjb-mlrun-base](https://hub.docker.com/repository/docker/yjbds/mlrun-base)**<br>\n",
    "includes core python functionality for retrieving, copying, serializing files and python objects\n",
    "* **[yjb-mlrun-ml](https://hub.docker.com/repository/docker/yjbds/mlrun-ml)**<br>\n",
    "includes an entire python datascience stack\n",
    "* **[yjb-mlrun-dask](https://hub.docker.com/repository/docker/yjbds/mlrun-dask)**<br>\n",
    "all that is need to add complete **[Dask](https://dask.org/)** functionality to an MLRun function\n",
    "\n",
    "All of the images contain **[MLRun](https://github.com/mlrun/mlrun)**,  **[KubeFlow](https://www.kubeflow.org/)** and other appropriate Kubernetes extension packages.\n",
    "\n",
    "### build your own dockerfiles\n",
    "If for security reasons you cannot access public docker hub images, you can build your own by cloning **[yjb-ds/mlrun dockerfile repo](https://github.com/yjb-ds/dockerfiles.git)**, or building the following files:\n",
    "* **[yjbds/mlrun-base:dev](https://github.com/yjb-ds/dockerfiles/blob/master/Dockerfile)**<br>\n",
    "* **[yjbds/mlrun-ml:dev](https://github.com/yjb-ds/dockerfiles/blob/master/ml/Dockerfile)**<br>\n",
    "* **[yjbds/mlrun-dask:dev](https://github.com/yjb-ds/dockerfiles/blob/master/dask/Dockerfile)**<br>\n",
    "\n",
    "**Be sure to push the images and change the `IMAGE` parameter in each notebook to match your image and tag**\n",
    "\n",
    "### python packages (WIP)\n",
    "The following packages and versions must be available on your system in order for this demo to run:"
   ]
  },
  {
   "cell_type": "markdown",
   "metadata": {},
   "source": [
    "    !python -m pip install --upgrade pip\n",
    "    !python -m pip uninstall -y cmake\n",
    "    !python -m pip install cmake\n",
    "    !python -m pip install scikit-build\n",
    "\n",
    "    !python -m pip install lz4\n",
    "    !python -m pip install git+https://github.com/Blosc/python-blosc.git@v1.8.3\n",
    "    !python -m pip install cloudpickle==1.2.2\n",
    "\n",
    "    !python -m pip install numpy==1.17.4\n",
    "    \n",
    "    "
   ]
  },
  {
   "cell_type": "code",
   "execution_count": null,
   "metadata": {},
   "outputs": [],
   "source": []
  }
 ],
 "metadata": {
  "kernelspec": {
   "display_name": "Python 3",
   "language": "python",
   "name": "python3"
  },
  "language_info": {
   "codemirror_mode": {
    "name": "ipython",
    "version": 3
   },
   "file_extension": ".py",
   "mimetype": "text/x-python",
   "name": "python",
   "nbconvert_exporter": "python",
   "pygments_lexer": "ipython3",
   "version": "3.6.8"
  }
 },
 "nbformat": 4,
 "nbformat_minor": 4
}

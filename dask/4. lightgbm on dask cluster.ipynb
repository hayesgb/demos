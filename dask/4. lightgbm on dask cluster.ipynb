{
 "cells": [
  {
   "cell_type": "markdown",
   "metadata": {},
   "source": [
    "# LightGBM\n",
    "training a classifier using Microsoft's LightGBM on Dask"
   ]
  },
  {
   "cell_type": "code",
   "execution_count": 1,
   "metadata": {},
   "outputs": [],
   "source": [
    "import mlrun\n",
    "\n",
    "mlrun.mlconf.dbpath = 'http://mlrun-api:8080'"
   ]
  },
  {
   "cell_type": "markdown",
   "metadata": {},
   "source": [
    "## parameters\n"
   ]
  },
  {
   "cell_type": "code",
   "execution_count": 2,
   "metadata": {},
   "outputs": [],
   "source": [
    "DESCRIPTION        = 'train a LightGBM classifier on a Dask cluster'       \n",
    "\n",
    "IMAGE              = 'yjbds/mlrun-dask:dev'                      # custom image\n",
    "JOB_KIND           = 'job'                                           \n",
    "\n",
    "TASK_NAME          = 'user-task-train-lgbm-dask'                         # whatever\n",
    "\n",
    "ARTIFACTS_PATH     = '/User/repos/demos/dask/artifacts'\n",
    "\n",
    "DASK_CLIENT        = 'scheduler.json'\n",
    "TRAIN_SET          = ('xtrain', 'ytrain') # published names in the cluster \n",
    "VALID_SET          = ('xvalid', 'yvalid')"
   ]
  },
  {
   "cell_type": "markdown",
   "metadata": {},
   "source": [
    "## load and configure function"
   ]
  },
  {
   "cell_type": "code",
   "execution_count": 3,
   "metadata": {},
   "outputs": [],
   "source": [
    "FUNC_PY   = '/User/repos/demos/dask/code/clf_lgbm_dask.py'\n",
    "FUNC_YAML = '/User/repos/demos/dask/yaml/clf_lgbm_dask.yaml'\n",
    "\n",
    "HANDLER   = 'clf_lgbm_dask'"
   ]
  },
  {
   "cell_type": "markdown",
   "metadata": {},
   "source": [
    "**If run the first time, create the function and export it as yaml, otherwise import it:**"
   ]
  },
  {
   "cell_type": "code",
   "execution_count": 4,
   "metadata": {},
   "outputs": [
    {
     "name": "stdout",
     "output_type": "stream",
     "text": [
      "[mlrun] 2020-02-18 09:42:41,279 function spec saved to path: /User/repos/demos/dask/yaml/clf_lgbm_dask.yaml\n"
     ]
    }
   ],
   "source": [
    "# load function from a local Python file\n",
    "clf_lgbm = mlrun.new_function(command=FUNC_PY, \n",
    "                               image=IMAGE,\n",
    "                               kind=JOB_KIND)\n",
    "clf_lgbm.spec.build.image = IMAGE\n",
    "\n",
    "clf_lgbm.export(FUNC_YAML)\n",
    "# clf_lgbm = mlrun.import_function(FUNC_YAML)"
   ]
  },
  {
   "cell_type": "code",
   "execution_count": null,
   "metadata": {},
   "outputs": [],
   "source": [
    "clf_lgbm.apply(mlrun.mount_v3io())\n",
    "\n",
    "clf_lgbm.deploy(skip_deployed=True, with_mlrun=False)\n",
    "\n",
    "# create and run the task\n",
    "train_clf_lgbm_task = mlrun.NewTask(\n",
    "    TASK_NAME, \n",
    "    handler=HANDLER,  \n",
    "    params={\n",
    "        'dask_client': DASK_CLIENT,\n",
    "        'train_set'  : TRAIN_SET,\n",
    "        'valid_set'  : VALID_SET,\n",
    "        'target_path': ARTIFACTS_PATH,\n",
    "        'name'       : 'lgbm-model.pkl',\n",
    "        'key'        : 'lgbm-model',\n",
    "        'params'     : {\n",
    "            'max_depth'          : 3,\n",
    "            'learning_rate'      : 0.1,\n",
    "            'n_estimators'       : 3,\n",
    "            'reg_alpha'          : 0.,\n",
    "            'reg_lambda'         : 0.,\n",
    "            'random_state'       : 1,\n",
    "            'tree_learner'       : 'data',\n",
    "            'silent'             : False\n",
    "        #    'categorical_feature': ['UniqueCarrier','Origin','Dest'],\n",
    "        #    'is_pre_partition'   : True\n",
    "        }})\n",
    "\n",
    "# run\n",
    "rn = clf_lgbm.run(train_clf_lgbm_task)"
   ]
  },
  {
   "cell_type": "markdown",
   "metadata": {},
   "source": [
    "## tests\n",
    "\n",
    "* artifact exists\n",
    "* ...\n",
    "* model can be loaded\n",
    "* model has correct properties\n",
    "* model can predict"
   ]
  },
  {
   "cell_type": "code",
   "execution_count": null,
   "metadata": {},
   "outputs": [],
   "source": []
  }
 ],
 "metadata": {
  "kernelspec": {
   "display_name": "Python 3",
   "language": "python",
   "name": "python3"
  },
  "language_info": {
   "codemirror_mode": {
    "name": "ipython",
    "version": 3
   },
   "file_extension": ".py",
   "mimetype": "text/x-python",
   "name": "python",
   "nbconvert_exporter": "python",
   "pygments_lexer": "ipython3",
   "version": "3.6.8"
  }
 },
 "nbformat": 4,
 "nbformat_minor": 4
}

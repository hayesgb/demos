{
 "cells": [
  {
   "cell_type": "markdown",
   "metadata": {},
   "source": [
    "# XGBoost\n",
    "train a classifier using XGBoost on Dask"
   ]
  },
  {
   "cell_type": "code",
   "execution_count": 1,
   "metadata": {},
   "outputs": [],
   "source": [
    "import mlrun\n",
    "\n",
    "mlrun.mlconf.dbpath = 'http://mlrun-api:8080'"
   ]
  },
  {
   "cell_type": "markdown",
   "metadata": {},
   "source": [
    "## parameters\n"
   ]
  },
  {
   "cell_type": "code",
   "execution_count": 2,
   "metadata": {},
   "outputs": [],
   "source": [
    "DESCRIPTION        = 'train a XGBoost classifier on a Dask cluster'       \n",
    "\n",
    "IMAGE              = 'yjbds/mlrun-dask:dev'                      # custom image\n",
    "JOB_KIND           = 'job'                                           \n",
    "\n",
    "TASK_NAME          = 'user-task-train-xgboost-dask'                         # whatever\n",
    "\n",
    "ARTIFACTS_PATH     = '/User/repos/demos/dask/artifacts'\n",
    "\n",
    "DASK_CLIENT        = 'scheduler.json'\n",
    "TRAIN_SET          = ('xtrain', 'ytrain') # published names in the cluster \n",
    "VALID_SET          = ('xvalid', 'yvalid')"
   ]
  },
  {
   "cell_type": "markdown",
   "metadata": {},
   "source": [
    "## load and configure function"
   ]
  },
  {
   "cell_type": "code",
   "execution_count": 3,
   "metadata": {},
   "outputs": [],
   "source": [
    "FUNC_PY   = '/User/repos/demos/dask/code/clf_xgboost_dask.py'\n",
    "FUNC_YAML = '/User/repos/demos/dask/yaml/clf_xgboost_dask.yaml'\n",
    "\n",
    "HANDLER   = 'clf_xgboost_dask'"
   ]
  },
  {
   "cell_type": "code",
   "execution_count": null,
   "metadata": {},
   "outputs": [],
   "source": [
    "clf_xgb = mlrun.new_function(command=FUNC_PY, \n",
    "                               image=IMAGE,\n",
    "                               kind=JOB_KIND)\n",
    "clf_xgb.spec.build.image = IMAGE\n",
    "\n",
    "clf_xgb.export(FUNC_YAML)\n",
    "# clf_lgbm = mlrun.import_function(FUNC_YAML)"
   ]
  },
  {
   "cell_type": "code",
   "execution_count": null,
   "metadata": {},
   "outputs": [
    {
     "name": "stdout",
     "output_type": "stream",
     "text": [
      "[mlrun] 2020-02-17 12:10:58,507 function spec saved to path: /User/repos/demos/dask/yaml/clf_xgboost_dask.yaml\n",
      "[mlrun] 2020-02-17 12:10:58,518 starting run user-task-train-xgboost-dask uid=f03662a35af74ba4abaf0b9e9e161c5f  -> http://mlrun-api:8080\n",
      "[mlrun] 2020-02-17 12:10:58,595 Job is running in the background, pod: user-task-train-xgboost-dask-lrtdv\n"
     ]
    }
   ],
   "source": [
    "clf_xgb.apply(mlrun.mount_v3io())\n",
    "\n",
    "clf_xgb.deploy(skip_deployed=True, with_mlrun=False)\n",
    "\n",
    "# create and run the task\n",
    "train_clf_xgb_task = mlrun.NewTask(\n",
    "    TASK_NAME, \n",
    "    handler=HANDLER,  \n",
    "    params={\n",
    "        'dask_client': DASK_CLIENT,\n",
    "        'train_set'  : TRAIN_SET,\n",
    "        'valid_set'  : VALID_SET,\n",
    "        'target_path': ARTIFACTS_PATH,\n",
    "        'name'       : 'xgb-model.pkl',\n",
    "        'key'        : 'xgb-model',\n",
    "        'params'     : {\n",
    "            'max_depth'          : 3, \n",
    "            'num_boost_round'    : 3,\n",
    "            'eta'                : 1,\n",
    "            'objective'          : 'binary:logistic',\n",
    "            'eval_metric'        : ['auc', 'ams@0'],\n",
    "            'evals'              : [VALID_SET],\n",
    "            'silent'             : False,\n",
    "            'verbose_eval'       : True,\n",
    "        #    'categorical_feature': ['UniqueCarrier','Origin','Dest'],\n",
    "        #    'is_pre_partition'   : True\n",
    "        }})\n",
    "\n",
    "# run\n",
    "rn = clf_xgb.run(train_clf_xgb_task)"
   ]
  },
  {
   "cell_type": "markdown",
   "metadata": {},
   "source": [
    "## tests\n",
    "\n",
    "* artifact exists\n",
    "* ...\n",
    "* model can be loaded\n",
    "* model has correct properties\n",
    "* model can predict"
   ]
  },
  {
   "cell_type": "code",
   "execution_count": null,
   "metadata": {},
   "outputs": [],
   "source": []
  }
 ],
 "metadata": {
  "kernelspec": {
   "display_name": "Python 3",
   "language": "python",
   "name": "python3"
  },
  "language_info": {
   "codemirror_mode": {
    "name": "ipython",
    "version": 3
   },
   "file_extension": ".py",
   "mimetype": "text/x-python",
   "name": "python",
   "nbconvert_exporter": "python",
   "pygments_lexer": "ipython3",
   "version": "3.6.8"
  }
 },
 "nbformat": 4,
 "nbformat_minor": 4
}

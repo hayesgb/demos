{
 "cells": [
  {
   "cell_type": "markdown",
   "metadata": {},
   "source": [
    "# **Model Server**"
   ]
  },
  {
   "cell_type": "markdown",
   "metadata": {},
   "source": [
    "_______________________________________________________________________________"
   ]
  },
  {
   "cell_type": "markdown",
   "metadata": {},
   "source": [
    "<a id=\"top\"></a>\n",
    "## **steps**\n",
    "**[notebook installs](#installs)**<br>\n",
    "**[nuclio code section](#nuclio)**<br>\n",
    "    - [inference server](#server)<br>\n",
    "**[deploy](#deploy)**<br>\n",
    "**[test deployment](#test)**<br>\n",
    "**[test saved model object](#infderence)**\n"
   ]
  },
  {
   "cell_type": "markdown",
   "metadata": {},
   "source": [
    "<a id=\"installs\"></a>\n",
    "_______________________________________________________________________________"
   ]
  },
  {
   "cell_type": "markdown",
   "metadata": {},
   "source": [
    "## **notebook installs**"
   ]
  },
  {
   "cell_type": "markdown",
   "metadata": {},
   "source": [
    "These are the packages we'll need to run this notebook, please install them once:"
   ]
  },
  {
   "cell_type": "markdown",
   "metadata": {
    "jupyter": {
     "outputs_hidden": true
    }
   },
   "source": [
    "    !pip install -U kfserving==0.2.0 tensorflow==2.0.0b1 keras pandas \n",
    "    !pip install -U kubernetes==9.0.0\n",
    "    !pip install -U azure"
   ]
  },
  {
   "cell_type": "markdown",
   "metadata": {
    "jupyter": {
     "outputs_hidden": true
    }
   },
   "source": [
    "    !pip install -U git+https://github.com/yjb-ds/functions-demo.git\n",
    "    !pip install -U git+https://github.com/mlrun/mlrun.git@development"
   ]
  },
  {
   "cell_type": "markdown",
   "metadata": {},
   "source": [
    "<a id=\"nuclio\"></a>\n",
    "_______________________________________________________________________________"
   ]
  },
  {
   "cell_type": "markdown",
   "metadata": {},
   "source": [
    "## **nuclio code section**"
   ]
  },
  {
   "cell_type": "markdown",
   "metadata": {},
   "source": [
    "If you have never run nuclio functions in your notebooks, please uncomment and run the following:"
   ]
  },
  {
   "cell_type": "markdown",
   "metadata": {
    "jupyter": {
     "outputs_hidden": true
    }
   },
   "source": [
    "    !pip install nuclio-jupyter"
   ]
  },
  {
   "cell_type": "code",
   "execution_count": 1,
   "metadata": {},
   "outputs": [],
   "source": [
    "# nuclio: ignore\n",
    "import nuclio"
   ]
  },
  {
   "cell_type": "markdown",
   "metadata": {},
   "source": [
    "Install the following packages so they are available to the function:"
   ]
  },
  {
   "cell_type": "code",
   "execution_count": 2,
   "metadata": {},
   "outputs": [],
   "source": [
    "%%nuclio cmd -c\n",
    "pip install kfserving==0.2.0\n",
    "pip install  numpy==1.16.4 tensorflow==2.0.0b1\n",
    "pip install -U azure joblib\n",
    "pip install -U git+https://github.com/mlrun/mlrun.git@development"
   ]
  },
  {
   "cell_type": "code",
   "execution_count": 3,
   "metadata": {},
   "outputs": [
    {
     "name": "stdout",
     "output_type": "stream",
     "text": [
      "Uninstalling functions-0.1.0:\n",
      "  Successfully uninstalled functions-0.1.0\n",
      "Collecting git+https://github.com/yjb-ds/functions-demo.git\n",
      "  Cloning https://github.com/yjb-ds/functions-demo.git to /tmp/pip-req-build-2t1_xkyu\n",
      "Requirement already satisfied, skipping upgrade: aiohttp>=3.6.2 in /User/.pythonlibs/jupyter/lib/python3.6/site-packages (from functions==0.1.0) (3.6.2)\n",
      "Requirement already satisfied, skipping upgrade: azure>=4.0.0 in /User/.pythonlibs/jupyter/lib/python3.6/site-packages (from functions==0.1.0) (4.0.0)\n",
      "Requirement already satisfied, skipping upgrade: bokeh>=1.0.3 in /conda/lib/python3.6/site-packages (from functions==0.1.0) (1.0.3)\n",
      "Requirement already satisfied, skipping upgrade: boto3>=1.10.0 in /conda/lib/python3.6/site-packages (from functions==0.1.0) (1.10.45)\n",
      "Requirement already satisfied, skipping upgrade: botocore>=1.13.0 in /conda/lib/python3.6/site-packages (from functions==0.1.0) (1.13.45)\n",
      "Requirement already satisfied, skipping upgrade: dask>=2.9.0 in /User/.pythonlibs/jupyter/lib/python3.6/site-packages (from functions==0.1.0) (2.9.1)\n",
      "Requirement already satisfied, skipping upgrade: distributed>=2.9.0 in /conda/lib/python3.6/site-packages (from functions==0.1.0) (2.9.0)\n",
      "Requirement already satisfied, skipping upgrade: h5py>=2.10.0 in /User/.pythonlibs/jupyter/lib/python3.6/site-packages (from functions==0.1.0) (2.10.0)\n",
      "Requirement already satisfied, skipping upgrade: joblib>=0.14.1 in /User/.pythonlibs/jupyter/lib/python3.6/site-packages (from functions==0.1.0) (0.14.1)\n",
      "Requirement already satisfied, skipping upgrade: Keras>=2.3.1 in /User/.pythonlibs/jupyter/lib/python3.6/site-packages (from functions==0.1.0) (2.3.1)\n",
      "Requirement already satisfied, skipping upgrade: Keras-Applications>=1.0.8 in /User/.pythonlibs/jupyter/lib/python3.6/site-packages (from functions==0.1.0) (1.0.8)\n",
      "Requirement already satisfied, skipping upgrade: Keras-Preprocessing>=1.1.0 in /User/.pythonlibs/jupyter/lib/python3.6/site-packages (from functions==0.1.0) (1.1.0)\n",
      "Requirement already satisfied, skipping upgrade: kfp>=0.1.38 in /User/.pythonlibs/jupyter/lib/python3.6/site-packages (from functions==0.1.0) (0.1.38)\n",
      "Requirement already satisfied, skipping upgrade: kfp-server-api>=0.1.37 in /User/.pythonlibs/jupyter/lib/python3.6/site-packages (from functions==0.1.0) (0.1.37)\n",
      "Requirement already satisfied, skipping upgrade: kfserving==0.2.0 in /User/.pythonlibs/jupyter/lib/python3.6/site-packages (from functions==0.1.0) (0.2.0)\n",
      "Requirement already satisfied, skipping upgrade: kubernetes>=9.0.0 in /User/.pythonlibs/jupyter/lib/python3.6/site-packages (from functions==0.1.0) (9.0.0)\n",
      "Requirement already satisfied, skipping upgrade: lightgbm>=2.3.1 in /User/.pythonlibs/jupyter/lib/python3.6/site-packages (from functions==0.1.0) (2.3.1)\n",
      "Requirement already satisfied, skipping upgrade: matplotlib>=3.1.2 in /User/.pythonlibs/jupyter/lib/python3.6/site-packages (from functions==0.1.0) (3.1.2)\n",
      "Requirement already satisfied, skipping upgrade: nuclio-jupyter>=0.7.6 in /User/.pythonlibs/jupyter/lib/python3.6/site-packages (from functions==0.1.0) (0.8.0)\n",
      "Requirement already satisfied, skipping upgrade: nuclio-sdk>=0.0.3 in /conda/lib/python3.6/site-packages (from functions==0.1.0) (0.0.5)\n",
      "Requirement already satisfied, skipping upgrade: numpy==1.16.4 in /User/.pythonlibs/jupyter/lib/python3.6/site-packages (from functions==0.1.0) (1.16.4)\n",
      "Requirement already satisfied, skipping upgrade: pandas>=0.23.0 in /User/.pythonlibs/jupyter/lib/python3.6/site-packages (from functions==0.1.0) (0.25.3)\n",
      "Requirement already satisfied, skipping upgrade: Pillow>=6.2.0 in /conda/lib/python3.6/site-packages (from functions==0.1.0) (6.2.1)\n",
      "Requirement already satisfied, skipping upgrade: prometheus-client>=0.7.1 in /conda/lib/python3.6/site-packages (from functions==0.1.0) (0.7.1)\n",
      "Requirement already satisfied, skipping upgrade: protobuf>=3.11.1 in /conda/lib/python3.6/site-packages (from functions==0.1.0) (3.11.2)\n",
      "Requirement already satisfied, skipping upgrade: pyarrow>=0.15.1 in /User/.pythonlibs/jupyter/lib/python3.6/site-packages (from functions==0.1.0) (0.15.1)\n",
      "Requirement already satisfied, skipping upgrade: pyspark>=2.3.2 in /spark/python (from functions==0.1.0) (2.4.4)\n",
      "Requirement already satisfied, skipping upgrade: PyYAML>=5.1.2 in /conda/lib/python3.6/site-packages (from functions==0.1.0) (5.2)\n",
      "Requirement already satisfied, skipping upgrade: pyzmq>=18.1.0 in /conda/lib/python3.6/site-packages (from functions==0.1.0) (18.1.0)\n",
      "Requirement already satisfied, skipping upgrade: requests>=2.22.0 in /conda/lib/python3.6/site-packages (from functions==0.1.0) (2.22.0)\n",
      "Requirement already satisfied, skipping upgrade: requests-oauthlib>=1.3.0 in /User/.pythonlibs/jupyter/lib/python3.6/site-packages (from functions==0.1.0) (1.3.0)\n",
      "Requirement already satisfied, skipping upgrade: requests-toolbelt>=0.9.1 in /User/.pythonlibs/jupyter/lib/python3.6/site-packages (from functions==0.1.0) (0.9.1)\n",
      "Requirement already satisfied, skipping upgrade: scikit-image>=0.14.1 in /conda/lib/python3.6/site-packages (from functions==0.1.0) (0.14.1)\n",
      "Requirement already satisfied, skipping upgrade: scikit-learn>=0.22 in /User/.pythonlibs/jupyter/lib/python3.6/site-packages (from functions==0.1.0) (0.22)\n",
      "Requirement already satisfied, skipping upgrade: scipy>=1.3.1 in /conda/lib/python3.6/site-packages (from functions==0.1.0) (1.3.2)\n",
      "Requirement already satisfied, skipping upgrade: seaborn>=0.9.0 in /User/.pythonlibs/jupyter/lib/python3.6/site-packages (from functions==0.1.0) (0.9.0)\n",
      "Requirement already satisfied, skipping upgrade: statsmodels>=0.10.1 in /User/.pythonlibs/jupyter/lib/python3.6/site-packages (from functions==0.1.0) (0.10.2)\n",
      "Requirement already satisfied, skipping upgrade: tensorboard>=1.14.0 in /User/.pythonlibs/jupyter/lib/python3.6/site-packages (from functions==0.1.0) (2.1.0)\n",
      "Requirement already satisfied, skipping upgrade: tensorflow>=2.0.0b1 in /User/.pythonlibs/jupyter/lib/python3.6/site-packages (from functions==0.1.0) (2.0.0b1)\n",
      "Requirement already satisfied, skipping upgrade: v3io-frames>=0.6.5 in /User/.pythonlibs/jupyter/lib/python3.6/site-packages (from functions==0.1.0) (0.6.7)\n",
      "Requirement already satisfied, skipping upgrade: click>=7.0 in /conda/lib/python3.6/site-packages (from functions==0.1.0) (7.0)\n",
      "Requirement already satisfied, skipping upgrade: gunicorn>=19.9.0 in /User/.pythonlibs/jupyter/lib/python3.6/site-packages (from functions==0.1.0) (19.9.0)\n",
      "Requirement already satisfied, skipping upgrade: nest-asyncio>=1.0.0 in /User/.pythonlibs/jupyter/lib/python3.6/site-packages (from functions==0.1.0) (1.2.1)\n",
      "Requirement already satisfied, skipping upgrade: tabulate>=0.8.0 in /User/.pythonlibs/jupyter/lib/python3.6/site-packages (from functions==0.1.0) (0.8.3)\n",
      "Requirement already satisfied, skipping upgrade: yarl<2.0,>=1.0 in /User/.pythonlibs/jupyter/lib/python3.6/site-packages (from aiohttp>=3.6.2->functions==0.1.0) (1.4.2)\n",
      "Requirement already satisfied, skipping upgrade: async-timeout<4.0,>=3.0 in /User/.pythonlibs/jupyter/lib/python3.6/site-packages (from aiohttp>=3.6.2->functions==0.1.0) (3.0.1)\n",
      "Requirement already satisfied, skipping upgrade: idna-ssl>=1.0; python_version < \"3.7\" in /User/.pythonlibs/jupyter/lib/python3.6/site-packages (from aiohttp>=3.6.2->functions==0.1.0) (1.1.0)\n",
      "Requirement already satisfied, skipping upgrade: chardet<4.0,>=2.0 in /conda/lib/python3.6/site-packages (from aiohttp>=3.6.2->functions==0.1.0) (3.0.4)\n",
      "Requirement already satisfied, skipping upgrade: multidict<5.0,>=4.5 in /User/.pythonlibs/jupyter/lib/python3.6/site-packages (from aiohttp>=3.6.2->functions==0.1.0) (4.7.2)\n",
      "Requirement already satisfied, skipping upgrade: attrs>=17.3.0 in /conda/lib/python3.6/site-packages (from aiohttp>=3.6.2->functions==0.1.0) (19.3.0)\n",
      "Requirement already satisfied, skipping upgrade: typing-extensions>=3.6.5; python_version < \"3.7\" in /User/.pythonlibs/jupyter/lib/python3.6/site-packages (from aiohttp>=3.6.2->functions==0.1.0) (3.7.4.1)\n",
      "Requirement already satisfied, skipping upgrade: azure-storage-queue~=1.3 in /User/.pythonlibs/jupyter/lib/python3.6/site-packages (from azure>=4.0.0->functions==0.1.0) (1.4.0)\n",
      "Requirement already satisfied, skipping upgrade: azure-applicationinsights~=0.1.0 in /User/.pythonlibs/jupyter/lib/python3.6/site-packages (from azure>=4.0.0->functions==0.1.0) (0.1.0)\n",
      "Requirement already satisfied, skipping upgrade: azure-storage-file~=1.3 in /User/.pythonlibs/jupyter/lib/python3.6/site-packages (from azure>=4.0.0->functions==0.1.0) (1.4.0)\n",
      "Requirement already satisfied, skipping upgrade: azure-storage-blob~=1.3 in /User/.pythonlibs/jupyter/lib/python3.6/site-packages (from azure>=4.0.0->functions==0.1.0) (1.5.0)\n",
      "Requirement already satisfied, skipping upgrade: azure-eventgrid~=1.1 in /User/.pythonlibs/jupyter/lib/python3.6/site-packages (from azure>=4.0.0->functions==0.1.0) (1.3.0)\n",
      "Requirement already satisfied, skipping upgrade: azure-cosmosdb-table~=1.0 in /User/.pythonlibs/jupyter/lib/python3.6/site-packages (from azure>=4.0.0->functions==0.1.0) (1.0.6)\n",
      "Requirement already satisfied, skipping upgrade: azure-batch~=4.1 in /User/.pythonlibs/jupyter/lib/python3.6/site-packages (from azure>=4.0.0->functions==0.1.0) (4.1.3)\n",
      "Requirement already satisfied, skipping upgrade: azure-servicebus~=0.21.1 in /User/.pythonlibs/jupyter/lib/python3.6/site-packages (from azure>=4.0.0->functions==0.1.0) (0.21.1)\n",
      "Requirement already satisfied, skipping upgrade: azure-servicemanagement-legacy~=0.20.6 in /User/.pythonlibs/jupyter/lib/python3.6/site-packages (from azure>=4.0.0->functions==0.1.0) (0.20.6)\n",
      "Requirement already satisfied, skipping upgrade: azure-mgmt~=4.0 in /User/.pythonlibs/jupyter/lib/python3.6/site-packages (from azure>=4.0.0->functions==0.1.0) (4.0.0)\n",
      "Requirement already satisfied, skipping upgrade: azure-servicefabric~=6.3.0.0 in /User/.pythonlibs/jupyter/lib/python3.6/site-packages (from azure>=4.0.0->functions==0.1.0) (6.3.0.0)\n",
      "Requirement already satisfied, skipping upgrade: azure-datalake-store~=0.0.18 in /User/.pythonlibs/jupyter/lib/python3.6/site-packages (from azure>=4.0.0->functions==0.1.0) (0.0.48)\n",
      "Requirement already satisfied, skipping upgrade: azure-graphrbac~=0.40.0 in /User/.pythonlibs/jupyter/lib/python3.6/site-packages (from azure>=4.0.0->functions==0.1.0) (0.40.0)\n",
      "Requirement already satisfied, skipping upgrade: azure-keyvault~=1.0 in /User/.pythonlibs/jupyter/lib/python3.6/site-packages (from azure>=4.0.0->functions==0.1.0) (1.1.0)\n",
      "Requirement already satisfied, skipping upgrade: azure-loganalytics~=0.1.0 in /User/.pythonlibs/jupyter/lib/python3.6/site-packages (from azure>=4.0.0->functions==0.1.0) (0.1.0)\n",
      "Requirement already satisfied, skipping upgrade: Jinja2>=2.7 in /conda/lib/python3.6/site-packages (from bokeh>=1.0.3->functions==0.1.0) (2.10.3)\n",
      "Requirement already satisfied, skipping upgrade: tornado>=4.3 in /User/.pythonlibs/jupyter/lib/python3.6/site-packages (from bokeh>=1.0.3->functions==0.1.0) (5.1.1)\n",
      "Requirement already satisfied, skipping upgrade: python-dateutil>=2.1 in /conda/lib/python3.6/site-packages (from bokeh>=1.0.3->functions==0.1.0) (2.8.1)\n",
      "Requirement already satisfied, skipping upgrade: six>=1.5.2 in /conda/lib/python3.6/site-packages (from bokeh>=1.0.3->functions==0.1.0) (1.13.0)\n",
      "Requirement already satisfied, skipping upgrade: packaging>=16.8 in /conda/lib/python3.6/site-packages (from bokeh>=1.0.3->functions==0.1.0) (19.2)\n",
      "Requirement already satisfied, skipping upgrade: s3transfer<0.3.0,>=0.2.0 in /conda/lib/python3.6/site-packages (from boto3>=1.10.0->functions==0.1.0) (0.2.1)\n",
      "Requirement already satisfied, skipping upgrade: jmespath<1.0.0,>=0.7.1 in /conda/lib/python3.6/site-packages (from boto3>=1.10.0->functions==0.1.0) (0.9.4)\n",
      "Requirement already satisfied, skipping upgrade: docutils<0.16,>=0.10 in /conda/lib/python3.6/site-packages (from botocore>=1.13.0->functions==0.1.0) (0.15.2)\n",
      "Requirement already satisfied, skipping upgrade: urllib3<1.26,>=1.20; python_version >= \"3.4\" in /User/.pythonlibs/jupyter/lib/python3.6/site-packages (from botocore>=1.13.0->functions==0.1.0) (1.24.3)\n",
      "Requirement already satisfied, skipping upgrade: tblib in /conda/lib/python3.6/site-packages (from distributed>=2.9.0->functions==0.1.0) (1.6.0)\n",
      "Requirement already satisfied, skipping upgrade: zict>=0.1.3 in /conda/lib/python3.6/site-packages (from distributed>=2.9.0->functions==0.1.0) (1.0.0)\n",
      "Requirement already satisfied, skipping upgrade: toolz>=0.7.4 in /conda/lib/python3.6/site-packages (from distributed>=2.9.0->functions==0.1.0) (0.10.0)\n",
      "Requirement already satisfied, skipping upgrade: psutil>=5.0 in /conda/lib/python3.6/site-packages (from distributed>=2.9.0->functions==0.1.0) (5.6.7)\n",
      "Requirement already satisfied, skipping upgrade: cloudpickle>=0.2.2 in /User/.pythonlibs/jupyter/lib/python3.6/site-packages (from distributed>=2.9.0->functions==0.1.0) (1.1.1)\n",
      "Requirement already satisfied, skipping upgrade: sortedcontainers!=2.0.0,!=2.0.1 in /conda/lib/python3.6/site-packages (from distributed>=2.9.0->functions==0.1.0) (2.1.0)\n",
      "Requirement already satisfied, skipping upgrade: msgpack in /conda/lib/python3.6/site-packages (from distributed>=2.9.0->functions==0.1.0) (0.6.2)\n",
      "Requirement already satisfied, skipping upgrade: cryptography>=2.4.2 in /conda/lib/python3.6/site-packages (from kfp>=0.1.38->functions==0.1.0) (2.8)\n",
      "Requirement already satisfied, skipping upgrade: google-auth>=1.6.1 in /User/.pythonlibs/jupyter/lib/python3.6/site-packages (from kfp>=0.1.38->functions==0.1.0) (1.10.0)\n",
      "Requirement already satisfied, skipping upgrade: argo-models==2.2.1a in /User/.pythonlibs/jupyter/lib/python3.6/site-packages (from kfp>=0.1.38->functions==0.1.0) (2.2.1a0)\n",
      "Requirement already satisfied, skipping upgrade: PyJWT>=1.6.4 in /User/.pythonlibs/jupyter/lib/python3.6/site-packages (from kfp>=0.1.38->functions==0.1.0) (1.7.1)\n",
      "Requirement already satisfied, skipping upgrade: Deprecated in /User/.pythonlibs/jupyter/lib/python3.6/site-packages (from kfp>=0.1.38->functions==0.1.0) (1.2.7)\n",
      "Requirement already satisfied, skipping upgrade: certifi in /conda/lib/python3.6/site-packages (from kfp>=0.1.38->functions==0.1.0) (2019.11.28)\n",
      "Requirement already satisfied, skipping upgrade: jsonschema>=3.0.1 in /conda/lib/python3.6/site-packages (from kfp>=0.1.38->functions==0.1.0) (3.2.0)\n",
      "Requirement already satisfied, skipping upgrade: google-cloud-storage>=1.13.0 in /User/.pythonlibs/jupyter/lib/python3.6/site-packages (from kfp>=0.1.38->functions==0.1.0) (1.23.0)\n",
      "Requirement already satisfied, skipping upgrade: minio>=4.0.9 in /User/.pythonlibs/jupyter/lib/python3.6/site-packages (from kfserving==0.2.0->functions==0.1.0) (5.0.5)\n",
      "Requirement already satisfied, skipping upgrade: table-logger>=0.3.5 in /User/.pythonlibs/jupyter/lib/python3.6/site-packages (from kfserving==0.2.0->functions==0.1.0) (0.3.6)\n",
      "Requirement already satisfied, skipping upgrade: argparse>=1.4.0 in /User/.pythonlibs/jupyter/lib/python3.6/site-packages (from kfserving==0.2.0->functions==0.1.0) (1.4.0)\n",
      "Requirement already satisfied, skipping upgrade: adal>=1.2.2 in /User/.pythonlibs/jupyter/lib/python3.6/site-packages (from kfserving==0.2.0->functions==0.1.0) (1.2.2)\n",
      "Requirement already satisfied, skipping upgrade: setuptools>=21.0.0 in /conda/lib/python3.6/site-packages (from kfserving==0.2.0->functions==0.1.0) (42.0.2.post20191203)\n",
      "Requirement already satisfied, skipping upgrade: websocket-client!=0.40.0,!=0.41.*,!=0.42.*,>=0.32.0 in /User/.pythonlibs/jupyter/lib/python3.6/site-packages (from kubernetes>=9.0.0->functions==0.1.0) (0.57.0)\n",
      "Requirement already satisfied, skipping upgrade: pyparsing!=2.0.4,!=2.1.2,!=2.1.6,>=2.0.1 in /conda/lib/python3.6/site-packages (from matplotlib>=3.1.2->functions==0.1.0) (2.4.5)\n",
      "Requirement already satisfied, skipping upgrade: cycler>=0.10 in /conda/lib/python3.6/site-packages (from matplotlib>=3.1.2->functions==0.1.0) (0.10.0)\n",
      "Requirement already satisfied, skipping upgrade: kiwisolver>=1.0.1 in /conda/lib/python3.6/site-packages (from matplotlib>=3.1.2->functions==0.1.0) (1.1.0)\n",
      "Requirement already satisfied, skipping upgrade: jupyterlab>=0.35.4 in /conda/lib/python3.6/site-packages (from nuclio-jupyter>=0.7.6->functions==0.1.0) (1.0.10)\n",
      "Requirement already satisfied, skipping upgrade: nbconvert>=5.4 in /conda/lib/python3.6/site-packages (from nuclio-jupyter>=0.7.6->functions==0.1.0) (5.6.1)\n",
      "Requirement already satisfied, skipping upgrade: notebook>=5.7.2 in /conda/lib/python3.6/site-packages (from nuclio-jupyter>=0.7.6->functions==0.1.0) (6.0.2)\n",
      "Requirement already satisfied, skipping upgrade: ipython>=7.2 in /conda/lib/python3.6/site-packages (from nuclio-jupyter>=0.7.6->functions==0.1.0) (7.10.2)\n",
      "Requirement already satisfied, skipping upgrade: pytz>=2017.2 in /conda/lib/python3.6/site-packages (from pandas>=0.23.0->functions==0.1.0) (2019.3)\n",
      "Requirement already satisfied, skipping upgrade: py4j==0.10.7 in /User/.pythonlibs/jupyter/lib/python3.6/site-packages (from pyspark>=2.3.2->functions==0.1.0) (0.10.7)\n",
      "Requirement already satisfied, skipping upgrade: idna<2.9,>=2.5 in /conda/lib/python3.6/site-packages (from requests>=2.22.0->functions==0.1.0) (2.8)\n",
      "Requirement already satisfied, skipping upgrade: oauthlib>=3.0.0 in /User/.pythonlibs/jupyter/lib/python3.6/site-packages (from requests-oauthlib>=1.3.0->functions==0.1.0) (3.1.0)\n",
      "Requirement already satisfied, skipping upgrade: networkx>=1.8 in /conda/lib/python3.6/site-packages (from scikit-image>=0.14.1->functions==0.1.0) (2.4)\n",
      "Requirement already satisfied, skipping upgrade: PyWavelets>=0.4.0 in /conda/lib/python3.6/site-packages (from scikit-image>=0.14.1->functions==0.1.0) (1.1.1)\n",
      "Requirement already satisfied, skipping upgrade: patsy>=0.4.0 in /conda/lib/python3.6/site-packages (from statsmodels>=0.10.1->functions==0.1.0) (0.5.1)\n",
      "Requirement already satisfied, skipping upgrade: grpcio>=1.24.3 in /conda/lib/python3.6/site-packages (from tensorboard>=1.14.0->functions==0.1.0) (1.26.0)\n",
      "Requirement already satisfied, skipping upgrade: google-auth-oauthlib<0.5,>=0.4.1 in /User/.pythonlibs/jupyter/lib/python3.6/site-packages (from tensorboard>=1.14.0->functions==0.1.0) (0.4.1)\n",
      "Requirement already satisfied, skipping upgrade: absl-py>=0.4 in /User/.pythonlibs/jupyter/lib/python3.6/site-packages (from tensorboard>=1.14.0->functions==0.1.0) (0.9.0)\n",
      "Requirement already satisfied, skipping upgrade: wheel>=0.26; python_version >= \"3\" in /conda/lib/python3.6/site-packages (from tensorboard>=1.14.0->functions==0.1.0) (0.33.6)\n",
      "Requirement already satisfied, skipping upgrade: werkzeug>=0.11.15 in /User/.pythonlibs/jupyter/lib/python3.6/site-packages (from tensorboard>=1.14.0->functions==0.1.0) (0.16.0)\n",
      "Requirement already satisfied, skipping upgrade: markdown>=2.6.8 in /User/.pythonlibs/jupyter/lib/python3.6/site-packages (from tensorboard>=1.14.0->functions==0.1.0) (3.1.1)\n",
      "Requirement already satisfied, skipping upgrade: astor>=0.6.0 in /User/.pythonlibs/jupyter/lib/python3.6/site-packages (from tensorflow>=2.0.0b1->functions==0.1.0) (0.8.1)\n",
      "Requirement already satisfied, skipping upgrade: tf-estimator-nightly<1.14.0.dev2019060502,>=1.14.0.dev2019060501 in /User/.pythonlibs/jupyter/lib/python3.6/site-packages (from tensorflow>=2.0.0b1->functions==0.1.0) (1.14.0.dev2019060501)\n",
      "Requirement already satisfied, skipping upgrade: google-pasta>=0.1.6 in /User/.pythonlibs/jupyter/lib/python3.6/site-packages (from tensorflow>=2.0.0b1->functions==0.1.0) (0.1.8)\n",
      "Requirement already satisfied, skipping upgrade: tb-nightly<1.14.0a20190604,>=1.14.0a20190603 in /User/.pythonlibs/jupyter/lib/python3.6/site-packages (from tensorflow>=2.0.0b1->functions==0.1.0) (1.14.0a20190603)\n",
      "Requirement already satisfied, skipping upgrade: termcolor>=1.1.0 in /User/.pythonlibs/jupyter/lib/python3.6/site-packages (from tensorflow>=2.0.0b1->functions==0.1.0) (1.1.0)\n",
      "Requirement already satisfied, skipping upgrade: gast>=0.2.0 in /User/.pythonlibs/jupyter/lib/python3.6/site-packages (from tensorflow>=2.0.0b1->functions==0.1.0) (0.3.2)\n",
      "Requirement already satisfied, skipping upgrade: wrapt>=1.11.1 in /User/.pythonlibs/jupyter/lib/python3.6/site-packages (from tensorflow>=2.0.0b1->functions==0.1.0) (1.11.2)\n",
      "Requirement already satisfied, skipping upgrade: googleapis-common-protos>=1.5.3 in /conda/lib/python3.6/site-packages (from v3io-frames>=0.6.5->functions==0.1.0) (1.6.0)\n",
      "Requirement already satisfied, skipping upgrade: grpcio-tools>=1.16.0 in /conda/lib/python3.6/site-packages (from v3io-frames>=0.6.5->functions==0.1.0) (1.26.0)\n",
      "Requirement already satisfied, skipping upgrade: azure-storage-common~=1.4 in /User/.pythonlibs/jupyter/lib/python3.6/site-packages (from azure-storage-queue~=1.3->azure>=4.0.0->functions==0.1.0) (1.4.2)\n",
      "Requirement already satisfied, skipping upgrade: azure-common>=1.1.5 in /User/.pythonlibs/jupyter/lib/python3.6/site-packages (from azure-storage-queue~=1.3->azure>=4.0.0->functions==0.1.0) (1.1.24)\n",
      "Requirement already satisfied, skipping upgrade: azure-nspkg>=2.0.0 in /User/.pythonlibs/jupyter/lib/python3.6/site-packages (from azure-applicationinsights~=0.1.0->azure>=4.0.0->functions==0.1.0) (3.0.2)\n",
      "Requirement already satisfied, skipping upgrade: msrest<2.0.0,>=0.5.4 in /User/.pythonlibs/jupyter/lib/python3.6/site-packages (from azure-applicationinsights~=0.1.0->azure>=4.0.0->functions==0.1.0) (0.6.10)\n",
      "Requirement already satisfied, skipping upgrade: msrestazure<2.0.0,>=0.4.32 in /User/.pythonlibs/jupyter/lib/python3.6/site-packages (from azure-eventgrid~=1.1->azure>=4.0.0->functions==0.1.0) (0.6.2)\n",
      "Requirement already satisfied, skipping upgrade: azure-cosmosdb-nspkg>=2.0.0 in /User/.pythonlibs/jupyter/lib/python3.6/site-packages (from azure-cosmosdb-table~=1.0->azure>=4.0.0->functions==0.1.0) (2.0.2)\n",
      "Requirement already satisfied, skipping upgrade: azure-mgmt-eventgrid~=1.0 in /User/.pythonlibs/jupyter/lib/python3.6/site-packages (from azure-mgmt~=4.0->azure>=4.0.0->functions==0.1.0) (1.0.0)\n",
      "Requirement already satisfied, skipping upgrade: azure-mgmt-managementpartner~=0.1.0 in /User/.pythonlibs/jupyter/lib/python3.6/site-packages (from azure-mgmt~=4.0->azure>=4.0.0->functions==0.1.0) (0.1.1)\n",
      "Requirement already satisfied, skipping upgrade: azure-mgmt-batch~=5.0 in /User/.pythonlibs/jupyter/lib/python3.6/site-packages (from azure-mgmt~=4.0->azure>=4.0.0->functions==0.1.0) (5.0.1)\n",
      "Requirement already satisfied, skipping upgrade: azure-mgmt-search~=2.0 in /User/.pythonlibs/jupyter/lib/python3.6/site-packages (from azure-mgmt~=4.0->azure>=4.0.0->functions==0.1.0) (2.1.0)\n",
      "Requirement already satisfied, skipping upgrade: azure-mgmt-maps~=0.1.0 in /User/.pythonlibs/jupyter/lib/python3.6/site-packages (from azure-mgmt~=4.0->azure>=4.0.0->functions==0.1.0) (0.1.0)\n",
      "Requirement already satisfied, skipping upgrade: azure-mgmt-redis~=5.0 in /User/.pythonlibs/jupyter/lib/python3.6/site-packages (from azure-mgmt~=4.0->azure>=4.0.0->functions==0.1.0) (5.0.0)\n",
      "Requirement already satisfied, skipping upgrade: azure-mgmt-dns~=2.0 in /User/.pythonlibs/jupyter/lib/python3.6/site-packages (from azure-mgmt~=4.0->azure>=4.0.0->functions==0.1.0) (2.1.0)\n",
      "Requirement already satisfied, skipping upgrade: azure-mgmt-subscription~=0.2.0 in /User/.pythonlibs/jupyter/lib/python3.6/site-packages (from azure-mgmt~=4.0->azure>=4.0.0->functions==0.1.0) (0.2.0)\n",
      "Requirement already satisfied, skipping upgrade: azure-mgmt-servicebus~=0.5.1 in /User/.pythonlibs/jupyter/lib/python3.6/site-packages (from azure-mgmt~=4.0->azure>=4.0.0->functions==0.1.0) (0.5.3)\n",
      "Requirement already satisfied, skipping upgrade: azure-mgmt-eventhub~=2.1 in /User/.pythonlibs/jupyter/lib/python3.6/site-packages (from azure-mgmt~=4.0->azure>=4.0.0->functions==0.1.0) (2.6.0)\n",
      "Requirement already satisfied, skipping upgrade: azure-mgmt-cosmosdb~=0.4.1 in /User/.pythonlibs/jupyter/lib/python3.6/site-packages (from azure-mgmt~=4.0->azure>=4.0.0->functions==0.1.0) (0.4.1)\n",
      "Requirement already satisfied, skipping upgrade: azure-mgmt-loganalytics~=0.2.0 in /User/.pythonlibs/jupyter/lib/python3.6/site-packages (from azure-mgmt~=4.0->azure>=4.0.0->functions==0.1.0) (0.2.0)\n",
      "Requirement already satisfied, skipping upgrade: azure-mgmt-signalr~=0.1.0 in /User/.pythonlibs/jupyter/lib/python3.6/site-packages (from azure-mgmt~=4.0->azure>=4.0.0->functions==0.1.0) (0.1.1)\n",
      "Requirement already satisfied, skipping upgrade: azure-mgmt-cognitiveservices~=3.0 in /User/.pythonlibs/jupyter/lib/python3.6/site-packages (from azure-mgmt~=4.0->azure>=4.0.0->functions==0.1.0) (3.0.0)\n",
      "Requirement already satisfied, skipping upgrade: azure-mgmt-recoveryservicesbackup~=0.3.0 in /User/.pythonlibs/jupyter/lib/python3.6/site-packages (from azure-mgmt~=4.0->azure>=4.0.0->functions==0.1.0) (0.3.0)\n",
      "Requirement already satisfied, skipping upgrade: azure-mgmt-devtestlabs~=2.2 in /User/.pythonlibs/jupyter/lib/python3.6/site-packages (from azure-mgmt~=4.0->azure>=4.0.0->functions==0.1.0) (2.2.0)\n",
      "Requirement already satisfied, skipping upgrade: azure-mgmt-machinelearningcompute~=0.4.1 in /User/.pythonlibs/jupyter/lib/python3.6/site-packages (from azure-mgmt~=4.0->azure>=4.0.0->functions==0.1.0) (0.4.1)\n",
      "Requirement already satisfied, skipping upgrade: azure-mgmt-powerbiembedded~=2.0 in /User/.pythonlibs/jupyter/lib/python3.6/site-packages (from azure-mgmt~=4.0->azure>=4.0.0->functions==0.1.0) (2.0.0)\n",
      "Requirement already satisfied, skipping upgrade: azure-mgmt-datalake-analytics~=0.6.0 in /User/.pythonlibs/jupyter/lib/python3.6/site-packages (from azure-mgmt~=4.0->azure>=4.0.0->functions==0.1.0) (0.6.0)\n",
      "Requirement already satisfied, skipping upgrade: azure-mgmt-devspaces~=0.1.0 in /User/.pythonlibs/jupyter/lib/python3.6/site-packages (from azure-mgmt~=4.0->azure>=4.0.0->functions==0.1.0) (0.1.0)\n",
      "Requirement already satisfied, skipping upgrade: azure-mgmt-iothubprovisioningservices~=0.2.0 in /User/.pythonlibs/jupyter/lib/python3.6/site-packages (from azure-mgmt~=4.0->azure>=4.0.0->functions==0.1.0) (0.2.0)\n",
      "Requirement already satisfied, skipping upgrade: azure-mgmt-managementgroups~=0.1.0 in /User/.pythonlibs/jupyter/lib/python3.6/site-packages (from azure-mgmt~=4.0->azure>=4.0.0->functions==0.1.0) (0.1.0)\n",
      "Requirement already satisfied, skipping upgrade: azure-mgmt-reservations~=0.2.1 in /User/.pythonlibs/jupyter/lib/python3.6/site-packages (from azure-mgmt~=4.0->azure>=4.0.0->functions==0.1.0) (0.2.1)\n",
      "Requirement already satisfied, skipping upgrade: azure-mgmt-notificationhubs~=2.0 in /User/.pythonlibs/jupyter/lib/python3.6/site-packages (from azure-mgmt~=4.0->azure>=4.0.0->functions==0.1.0) (2.1.0)\n",
      "Requirement already satisfied, skipping upgrade: azure-mgmt-cdn~=3.0 in /User/.pythonlibs/jupyter/lib/python3.6/site-packages (from azure-mgmt~=4.0->azure>=4.0.0->functions==0.1.0) (3.1.0)\n",
      "Requirement already satisfied, skipping upgrade: azure-mgmt-containerinstance~=1.0 in /User/.pythonlibs/jupyter/lib/python3.6/site-packages (from azure-mgmt~=4.0->azure>=4.0.0->functions==0.1.0) (1.5.0)\n",
      "Requirement already satisfied, skipping upgrade: azure-mgmt-datalake-store~=0.5.0 in /User/.pythonlibs/jupyter/lib/python3.6/site-packages (from azure-mgmt~=4.0->azure>=4.0.0->functions==0.1.0) (0.5.0)\n",
      "Requirement already satisfied, skipping upgrade: azure-mgmt-containerregistry~=2.1 in /User/.pythonlibs/jupyter/lib/python3.6/site-packages (from azure-mgmt~=4.0->azure>=4.0.0->functions==0.1.0) (2.8.0)\n",
      "Requirement already satisfied, skipping upgrade: azure-mgmt-policyinsights~=0.1.0 in /User/.pythonlibs/jupyter/lib/python3.6/site-packages (from azure-mgmt~=4.0->azure>=4.0.0->functions==0.1.0) (0.1.0)\n",
      "Requirement already satisfied, skipping upgrade: azure-mgmt-billing~=0.2.0 in /User/.pythonlibs/jupyter/lib/python3.6/site-packages (from azure-mgmt~=4.0->azure>=4.0.0->functions==0.1.0) (0.2.0)\n",
      "Requirement already satisfied, skipping upgrade: azure-mgmt-authorization~=0.50.0 in /User/.pythonlibs/jupyter/lib/python3.6/site-packages (from azure-mgmt~=4.0->azure>=4.0.0->functions==0.1.0) (0.50.0)\n",
      "Requirement already satisfied, skipping upgrade: azure-mgmt-advisor~=1.0 in /User/.pythonlibs/jupyter/lib/python3.6/site-packages (from azure-mgmt~=4.0->azure>=4.0.0->functions==0.1.0) (1.0.1)\n",
      "Requirement already satisfied, skipping upgrade: azure-mgmt-applicationinsights~=0.1.1 in /User/.pythonlibs/jupyter/lib/python3.6/site-packages (from azure-mgmt~=4.0->azure>=4.0.0->functions==0.1.0) (0.1.1)\n",
      "Requirement already satisfied, skipping upgrade: azure-mgmt-commerce~=1.0 in /User/.pythonlibs/jupyter/lib/python3.6/site-packages (from azure-mgmt~=4.0->azure>=4.0.0->functions==0.1.0) (1.0.1)\n",
      "Requirement already satisfied, skipping upgrade: azure-mgmt-compute~=4.0 in /User/.pythonlibs/jupyter/lib/python3.6/site-packages (from azure-mgmt~=4.0->azure>=4.0.0->functions==0.1.0) (4.6.2)\n",
      "Requirement already satisfied, skipping upgrade: azure-mgmt-msi~=0.2.0 in /User/.pythonlibs/jupyter/lib/python3.6/site-packages (from azure-mgmt~=4.0->azure>=4.0.0->functions==0.1.0) (0.2.0)\n",
      "Requirement already satisfied, skipping upgrade: azure-mgmt-marketplaceordering~=0.1.0 in /User/.pythonlibs/jupyter/lib/python3.6/site-packages (from azure-mgmt~=4.0->azure>=4.0.0->functions==0.1.0) (0.1.0)\n",
      "Requirement already satisfied, skipping upgrade: azure-mgmt-consumption~=2.0 in /User/.pythonlibs/jupyter/lib/python3.6/site-packages (from azure-mgmt~=4.0->azure>=4.0.0->functions==0.1.0) (2.0.0)\n",
      "Requirement already satisfied, skipping upgrade: azure-mgmt-datafactory~=0.6.0 in /User/.pythonlibs/jupyter/lib/python3.6/site-packages (from azure-mgmt~=4.0->azure>=4.0.0->functions==0.1.0) (0.6.0)\n",
      "Requirement already satisfied, skipping upgrade: azure-mgmt-storage~=2.0 in /User/.pythonlibs/jupyter/lib/python3.6/site-packages (from azure-mgmt~=4.0->azure>=4.0.0->functions==0.1.0) (2.0.0)\n",
      "Requirement already satisfied, skipping upgrade: azure-mgmt-web~=0.35.0 in /User/.pythonlibs/jupyter/lib/python3.6/site-packages (from azure-mgmt~=4.0->azure>=4.0.0->functions==0.1.0) (0.35.0)\n",
      "Requirement already satisfied, skipping upgrade: azure-mgmt-iothub~=0.5.0 in /User/.pythonlibs/jupyter/lib/python3.6/site-packages (from azure-mgmt~=4.0->azure>=4.0.0->functions==0.1.0) (0.5.0)\n",
      "Requirement already satisfied, skipping upgrade: azure-mgmt-monitor~=0.5.2 in /User/.pythonlibs/jupyter/lib/python3.6/site-packages (from azure-mgmt~=4.0->azure>=4.0.0->functions==0.1.0) (0.5.2)\n",
      "Requirement already satisfied, skipping upgrade: azure-mgmt-network~=2.0 in /User/.pythonlibs/jupyter/lib/python3.6/site-packages (from azure-mgmt~=4.0->azure>=4.0.0->functions==0.1.0) (2.7.0)\n",
      "Requirement already satisfied, skipping upgrade: azure-mgmt-recoveryservices~=0.3.0 in /User/.pythonlibs/jupyter/lib/python3.6/site-packages (from azure-mgmt~=4.0->azure>=4.0.0->functions==0.1.0) (0.3.0)\n",
      "Requirement already satisfied, skipping upgrade: azure-mgmt-media~=1.0.0rc2 in /User/.pythonlibs/jupyter/lib/python3.6/site-packages (from azure-mgmt~=4.0->azure>=4.0.0->functions==0.1.0) (1.0.0)\n",
      "Requirement already satisfied, skipping upgrade: azure-mgmt-iotcentral~=0.1.0 in /User/.pythonlibs/jupyter/lib/python3.6/site-packages (from azure-mgmt~=4.0->azure>=4.0.0->functions==0.1.0) (0.1.0)\n",
      "Requirement already satisfied, skipping upgrade: azure-mgmt-resource~=2.0 in /User/.pythonlibs/jupyter/lib/python3.6/site-packages (from azure-mgmt~=4.0->azure>=4.0.0->functions==0.1.0) (2.2.0)\n",
      "Requirement already satisfied, skipping upgrade: azure-mgmt-servicefabric~=0.2.0 in /User/.pythonlibs/jupyter/lib/python3.6/site-packages (from azure-mgmt~=4.0->azure>=4.0.0->functions==0.1.0) (0.2.0)\n",
      "Requirement already satisfied, skipping upgrade: azure-mgmt-relay~=0.1.0 in /User/.pythonlibs/jupyter/lib/python3.6/site-packages (from azure-mgmt~=4.0->azure>=4.0.0->functions==0.1.0) (0.1.0)\n",
      "Requirement already satisfied, skipping upgrade: azure-mgmt-scheduler~=2.0 in /User/.pythonlibs/jupyter/lib/python3.6/site-packages (from azure-mgmt~=4.0->azure>=4.0.0->functions==0.1.0) (2.0.0)\n",
      "Requirement already satisfied, skipping upgrade: azure-mgmt-sql~=0.9.1 in /User/.pythonlibs/jupyter/lib/python3.6/site-packages (from azure-mgmt~=4.0->azure>=4.0.0->functions==0.1.0) (0.9.1)\n",
      "Requirement already satisfied, skipping upgrade: azure-mgmt-containerservice~=4.2 in /User/.pythonlibs/jupyter/lib/python3.6/site-packages (from azure-mgmt~=4.0->azure>=4.0.0->functions==0.1.0) (4.4.0)\n",
      "Requirement already satisfied, skipping upgrade: azure-mgmt-trafficmanager~=0.50.0 in /User/.pythonlibs/jupyter/lib/python3.6/site-packages (from azure-mgmt~=4.0->azure>=4.0.0->functions==0.1.0) (0.50.0)\n",
      "Requirement already satisfied, skipping upgrade: azure-mgmt-rdbms~=1.2 in /User/.pythonlibs/jupyter/lib/python3.6/site-packages (from azure-mgmt~=4.0->azure>=4.0.0->functions==0.1.0) (1.9.0)\n",
      "Requirement already satisfied, skipping upgrade: azure-mgmt-hanaonazure~=0.1.1 in /User/.pythonlibs/jupyter/lib/python3.6/site-packages (from azure-mgmt~=4.0->azure>=4.0.0->functions==0.1.0) (0.1.1)\n",
      "Requirement already satisfied, skipping upgrade: azure-mgmt-batchai~=2.0 in /User/.pythonlibs/jupyter/lib/python3.6/site-packages (from azure-mgmt~=4.0->azure>=4.0.0->functions==0.1.0) (2.0.0)\n",
      "Requirement already satisfied, skipping upgrade: azure-mgmt-keyvault~=1.0 in /User/.pythonlibs/jupyter/lib/python3.6/site-packages (from azure-mgmt~=4.0->azure>=4.0.0->functions==0.1.0) (1.1.0)\n",
      "Requirement already satisfied, skipping upgrade: azure-mgmt-datamigration~=1.0 in /User/.pythonlibs/jupyter/lib/python3.6/site-packages (from azure-mgmt~=4.0->azure>=4.0.0->functions==0.1.0) (1.0.0)\n",
      "Requirement already satisfied, skipping upgrade: azure-mgmt-logic~=3.0 in /User/.pythonlibs/jupyter/lib/python3.6/site-packages (from azure-mgmt~=4.0->azure>=4.0.0->functions==0.1.0) (3.0.0)\n",
      "Requirement already satisfied, skipping upgrade: cffi in /conda/lib/python3.6/site-packages (from azure-datalake-store~=0.0.18->azure>=4.0.0->functions==0.1.0) (1.13.2)\n",
      "Requirement already satisfied, skipping upgrade: MarkupSafe>=0.23 in /conda/lib/python3.6/site-packages (from Jinja2>=2.7->bokeh>=1.0.3->functions==0.1.0) (1.1.1)\n",
      "Requirement already satisfied, skipping upgrade: heapdict in /conda/lib/python3.6/site-packages (from zict>=0.1.3->distributed>=2.9.0->functions==0.1.0) (1.0.1)\n",
      "Requirement already satisfied, skipping upgrade: cachetools<5.0,>=2.0.0 in /User/.pythonlibs/jupyter/lib/python3.6/site-packages (from google-auth>=1.6.1->kfp>=0.1.38->functions==0.1.0) (4.0.0)\n",
      "Requirement already satisfied, skipping upgrade: pyasn1-modules>=0.2.1 in /User/.pythonlibs/jupyter/lib/python3.6/site-packages (from google-auth>=1.6.1->kfp>=0.1.38->functions==0.1.0) (0.2.7)\n",
      "Requirement already satisfied, skipping upgrade: rsa<4.1,>=3.1.4 in /User/.pythonlibs/jupyter/lib/python3.6/site-packages (from google-auth>=1.6.1->kfp>=0.1.38->functions==0.1.0) (4.0)\n",
      "Requirement already satisfied, skipping upgrade: pyrsistent>=0.14.0 in /conda/lib/python3.6/site-packages (from jsonschema>=3.0.1->kfp>=0.1.38->functions==0.1.0) (0.15.6)\n",
      "Requirement already satisfied, skipping upgrade: importlib-metadata; python_version < \"3.8\" in /conda/lib/python3.6/site-packages (from jsonschema>=3.0.1->kfp>=0.1.38->functions==0.1.0) (1.3.0)\n",
      "Requirement already satisfied, skipping upgrade: google-resumable-media<0.6dev,>=0.5.0 in /User/.pythonlibs/jupyter/lib/python3.6/site-packages (from google-cloud-storage>=1.13.0->kfp>=0.1.38->functions==0.1.0) (0.5.0)\n",
      "Requirement already satisfied, skipping upgrade: google-cloud-core<2.0dev,>=1.0.3 in /User/.pythonlibs/jupyter/lib/python3.6/site-packages (from google-cloud-storage>=1.13.0->kfp>=0.1.38->functions==0.1.0) (1.1.0)\n",
      "Requirement already satisfied, skipping upgrade: jupyterlab_server~=1.0.0 in /conda/lib/python3.6/site-packages (from jupyterlab>=0.35.4->nuclio-jupyter>=0.7.6->functions==0.1.0) (1.0.6)\n",
      "Requirement already satisfied, skipping upgrade: pandocfilters>=1.4.1 in /conda/lib/python3.6/site-packages (from nbconvert>=5.4->nuclio-jupyter>=0.7.6->functions==0.1.0) (1.4.2)\n",
      "Requirement already satisfied, skipping upgrade: mistune<2,>=0.8.1 in /conda/lib/python3.6/site-packages (from nbconvert>=5.4->nuclio-jupyter>=0.7.6->functions==0.1.0) (0.8.4)\n",
      "Requirement already satisfied, skipping upgrade: entrypoints>=0.2.2 in /conda/lib/python3.6/site-packages (from nbconvert>=5.4->nuclio-jupyter>=0.7.6->functions==0.1.0) (0.3)\n",
      "Requirement already satisfied, skipping upgrade: nbformat>=4.4 in /conda/lib/python3.6/site-packages (from nbconvert>=5.4->nuclio-jupyter>=0.7.6->functions==0.1.0) (4.4.0)\n",
      "Requirement already satisfied, skipping upgrade: testpath in /conda/lib/python3.6/site-packages (from nbconvert>=5.4->nuclio-jupyter>=0.7.6->functions==0.1.0) (0.4.4)\n",
      "Requirement already satisfied, skipping upgrade: jupyter-core in /conda/lib/python3.6/site-packages (from nbconvert>=5.4->nuclio-jupyter>=0.7.6->functions==0.1.0) (4.6.1)\n",
      "Requirement already satisfied, skipping upgrade: defusedxml in /conda/lib/python3.6/site-packages (from nbconvert>=5.4->nuclio-jupyter>=0.7.6->functions==0.1.0) (0.6.0)\n",
      "Requirement already satisfied, skipping upgrade: bleach in /conda/lib/python3.6/site-packages (from nbconvert>=5.4->nuclio-jupyter>=0.7.6->functions==0.1.0) (3.1.0)\n",
      "Requirement already satisfied, skipping upgrade: traitlets>=4.2 in /conda/lib/python3.6/site-packages (from nbconvert>=5.4->nuclio-jupyter>=0.7.6->functions==0.1.0) (4.3.3)\n",
      "Requirement already satisfied, skipping upgrade: pygments in /conda/lib/python3.6/site-packages (from nbconvert>=5.4->nuclio-jupyter>=0.7.6->functions==0.1.0) (2.5.2)\n",
      "Requirement already satisfied, skipping upgrade: jupyter-client>=5.3.4 in /conda/lib/python3.6/site-packages (from notebook>=5.7.2->nuclio-jupyter>=0.7.6->functions==0.1.0) (5.3.4)\n",
      "Requirement already satisfied, skipping upgrade: Send2Trash in /conda/lib/python3.6/site-packages (from notebook>=5.7.2->nuclio-jupyter>=0.7.6->functions==0.1.0) (1.5.0)\n",
      "Requirement already satisfied, skipping upgrade: ipython-genutils in /conda/lib/python3.6/site-packages (from notebook>=5.7.2->nuclio-jupyter>=0.7.6->functions==0.1.0) (0.2.0)\n",
      "Requirement already satisfied, skipping upgrade: ipykernel in /conda/lib/python3.6/site-packages (from notebook>=5.7.2->nuclio-jupyter>=0.7.6->functions==0.1.0) (5.1.3)\n",
      "Requirement already satisfied, skipping upgrade: terminado>=0.8.1 in /conda/lib/python3.6/site-packages (from notebook>=5.7.2->nuclio-jupyter>=0.7.6->functions==0.1.0) (0.8.3)\n",
      "Requirement already satisfied, skipping upgrade: prompt-toolkit!=3.0.0,!=3.0.1,<3.1.0,>=2.0.0 in /conda/lib/python3.6/site-packages (from ipython>=7.2->nuclio-jupyter>=0.7.6->functions==0.1.0) (3.0.2)\n",
      "Requirement already satisfied, skipping upgrade: backcall in /conda/lib/python3.6/site-packages (from ipython>=7.2->nuclio-jupyter>=0.7.6->functions==0.1.0) (0.1.0)\n",
      "Requirement already satisfied, skipping upgrade: decorator in /conda/lib/python3.6/site-packages (from ipython>=7.2->nuclio-jupyter>=0.7.6->functions==0.1.0) (4.4.1)\n",
      "Requirement already satisfied, skipping upgrade: pickleshare in /conda/lib/python3.6/site-packages (from ipython>=7.2->nuclio-jupyter>=0.7.6->functions==0.1.0) (0.7.5)\n",
      "Requirement already satisfied, skipping upgrade: pexpect; sys_platform != \"win32\" in /conda/lib/python3.6/site-packages (from ipython>=7.2->nuclio-jupyter>=0.7.6->functions==0.1.0) (4.7.0)\n",
      "Requirement already satisfied, skipping upgrade: jedi>=0.10 in /conda/lib/python3.6/site-packages (from ipython>=7.2->nuclio-jupyter>=0.7.6->functions==0.1.0) (0.15.1)\n",
      "Requirement already satisfied, skipping upgrade: isodate>=0.6.0 in /User/.pythonlibs/jupyter/lib/python3.6/site-packages (from msrest<2.0.0,>=0.5.4->azure-applicationinsights~=0.1.0->azure>=4.0.0->functions==0.1.0) (0.6.0)\n",
      "Requirement already satisfied, skipping upgrade: azure-mgmt-nspkg>=2.0.0 in /User/.pythonlibs/jupyter/lib/python3.6/site-packages (from azure-mgmt-eventgrid~=1.0->azure-mgmt~=4.0->azure>=4.0.0->functions==0.1.0) (3.0.2)\n",
      "Requirement already satisfied, skipping upgrade: azure-mgmt-datalake-nspkg>=2.0.0 in /User/.pythonlibs/jupyter/lib/python3.6/site-packages (from azure-mgmt-datalake-analytics~=0.6.0->azure-mgmt~=4.0->azure>=4.0.0->functions==0.1.0) (3.0.1)\n",
      "Requirement already satisfied, skipping upgrade: pycparser in /conda/lib/python3.6/site-packages (from cffi->azure-datalake-store~=0.0.18->azure>=4.0.0->functions==0.1.0) (2.19)\n",
      "Requirement already satisfied, skipping upgrade: pyasn1<0.5.0,>=0.4.6 in /User/.pythonlibs/jupyter/lib/python3.6/site-packages (from pyasn1-modules>=0.2.1->google-auth>=1.6.1->kfp>=0.1.38->functions==0.1.0) (0.4.8)\n",
      "Requirement already satisfied, skipping upgrade: zipp>=0.5 in /conda/lib/python3.6/site-packages (from importlib-metadata; python_version < \"3.8\"->jsonschema>=3.0.1->kfp>=0.1.38->functions==0.1.0) (0.6.0)\n",
      "Requirement already satisfied, skipping upgrade: google-api-core<2.0.0dev,>=1.14.0 in /User/.pythonlibs/jupyter/lib/python3.6/site-packages (from google-cloud-core<2.0dev,>=1.0.3->google-cloud-storage>=1.13.0->kfp>=0.1.38->functions==0.1.0) (1.15.0)\n",
      "Requirement already satisfied, skipping upgrade: json5 in /conda/lib/python3.6/site-packages (from jupyterlab_server~=1.0.0->jupyterlab>=0.35.4->nuclio-jupyter>=0.7.6->functions==0.1.0) (0.8.5)\n",
      "Requirement already satisfied, skipping upgrade: webencodings in /conda/lib/python3.6/site-packages (from bleach->nbconvert>=5.4->nuclio-jupyter>=0.7.6->functions==0.1.0) (0.5.1)\n",
      "Requirement already satisfied, skipping upgrade: wcwidth in /conda/lib/python3.6/site-packages (from prompt-toolkit!=3.0.0,!=3.0.1,<3.1.0,>=2.0.0->ipython>=7.2->nuclio-jupyter>=0.7.6->functions==0.1.0) (0.1.7)\n",
      "Requirement already satisfied, skipping upgrade: ptyprocess>=0.5 in /conda/lib/python3.6/site-packages (from pexpect; sys_platform != \"win32\"->ipython>=7.2->nuclio-jupyter>=0.7.6->functions==0.1.0) (0.6.0)\n",
      "Requirement already satisfied, skipping upgrade: parso>=0.5.0 in /conda/lib/python3.6/site-packages (from jedi>=0.10->ipython>=7.2->nuclio-jupyter>=0.7.6->functions==0.1.0) (0.5.2)\n",
      "Requirement already satisfied, skipping upgrade: more-itertools in /conda/lib/python3.6/site-packages (from zipp>=0.5->importlib-metadata; python_version < \"3.8\"->jsonschema>=3.0.1->kfp>=0.1.38->functions==0.1.0) (8.0.2)\n",
      "Building wheels for collected packages: functions\n",
      "  Running setup.py bdist_wheel for functions ... \u001b[?25ldone\n",
      "\u001b[?25h  Stored in directory: /tmp/pip-ephem-wheel-cache-r3q7303o/wheels/2b/c7/ec/2c6ddbe3a11b59aa979259c6f2a12f1c7b8203c9e4c844ebe5\n",
      "Successfully built functions\n",
      "Installing collected packages: functions\n",
      "  Found existing installation: functions 0.1.0\n",
      "    Can't uninstall 'functions'. No files were found to uninstall.\n",
      "Successfully installed functions-0.1.0\n"
     ]
    }
   ],
   "source": [
    "%nuclio cmd pip uninstall -y functions\n",
    "%nuclio cmd pip install -U git+https://github.com/yjb-ds/functions-demo.git"
   ]
  },
  {
   "cell_type": "code",
   "execution_count": 4,
   "metadata": {},
   "outputs": [],
   "source": [
    "import warnings\n",
    "warnings.simplefilter(action=\"ignore\", category=FutureWarning)\n",
    "\n",
    "import kfserving\n",
    "import os\n",
    "import numpy as np\n",
    "import joblib\n",
    "from typing import List\n",
    "from tensorflow.keras.models import Sequential\n",
    "\n",
    "from functions.models import FeaturesEngineer, classifier_gen\n",
    "from sklearn.preprocessing import StandardScaler\n",
    "from sklearn.pipeline import make_pipeline, Pipeline\n",
    "\n",
    "class MyKerasClassifier(kfserving.KFModel):\n",
    "    def __init__(self,\n",
    "                 name: str,\n",
    "                 model_dir: str,\n",
    "                 classifier: Sequential = None):\n",
    "        \"\"\"TFKerasClassifier\n",
    "        \n",
    "        KubeFlow serving model wrapper.\n",
    "        \n",
    "        :param name:            model name\n",
    "        :param model_dir: path of stored model\n",
    "        :param classifier:      class type of classifier model\n",
    "        \n",
    "        \"\"\"\n",
    "        super().__init__(name)\n",
    "        self.name = name\n",
    "        self.model_dir = model_dir\n",
    "        if classifier:\n",
    "            self.ready = True\n",
    "\n",
    "    def load(self):\n",
    "        \"\"\"Load model from KubeFlow storage.\n",
    "        \"\"\"\n",
    "        ffg = FeaturesEngineer()\n",
    "\n",
    "        # scaler\n",
    "        ss = StandardScaler()\n",
    "        ss.__dict__ = joblib.load(f\"{self.model_dir}/scaler.pickle\")\n",
    "\n",
    "        # keras model\n",
    "        ksm = classifier_gen()\n",
    "        ksm.load_weights(f\"{self.model_dir}/weights.h5\")\n",
    "\n",
    "        pipe = make_pipeline(ffg, ss, ksm)\n",
    "\n",
    "        self.classifier = pipe\n",
    "\n",
    "    def predict(self, body: List) -> List:\n",
    "        \"\"\"Generate model predictions from sample.\n",
    "        \n",
    "        :param body: A list of observations, each of which is an 1-dimensional feature vector.\n",
    "            \n",
    "        Returns model predictions as a `List`, one for each row in the `body` input `List`.\n",
    "        \"\"\"\n",
    "        try:\n",
    "            feats = np.asarray(body)\n",
    "            result: np.ndarray = self.classifier.predict(feats)\n",
    "            return result.tolist()\n",
    "        except Exception as e:\n",
    "            raise Exception(f\"Failed to predict {e}\")"
   ]
  },
  {
   "cell_type": "code",
   "execution_count": 5,
   "metadata": {},
   "outputs": [],
   "source": [
    "# nuclio: end-code"
   ]
  },
  {
   "cell_type": "markdown",
   "metadata": {},
   "source": [
    "<a id=\"deploy\"></a>\n",
    "_______________________________________________________________________________"
   ]
  },
  {
   "cell_type": "markdown",
   "metadata": {},
   "source": [
    "## **deploy**"
   ]
  },
  {
   "cell_type": "code",
   "execution_count": 6,
   "metadata": {},
   "outputs": [],
   "source": [
    "from mlrun import new_model_server, mount_v3io"
   ]
  },
  {
   "cell_type": "code",
   "execution_count": 7,
   "metadata": {},
   "outputs": [],
   "source": [
    "TARGET_PATH = \"/User/mlrun/simdata\"\n",
    "MODEL_NAME = \"tfkeras_serving_v2\""
   ]
  },
  {
   "cell_type": "code",
   "execution_count": 8,
   "metadata": {},
   "outputs": [],
   "source": [
    "fn = new_model_server(MODEL_NAME, \n",
    "                      models={\"tfkeras_joblib_v2\": TARGET_PATH}, \n",
    "                      model_class=\"MyKerasClassifier\").apply(mount_v3io())"
   ]
  },
  {
   "cell_type": "code",
   "execution_count": 9,
   "metadata": {},
   "outputs": [
    {
     "data": {
      "text/plain": [
       "{'kind': 'remote',\n",
       " 'metadata': {'name': 'tfkeras-serving-v2', 'project': 'default'},\n",
       " 'spec': {'command': '',\n",
       "  'args': [],\n",
       "  'image': '',\n",
       "  'description': '',\n",
       "  'volumes': [{'flexVolume': {'driver': 'v3io/fuse',\n",
       "     'options': {'accessKey': '8d4c7612-c49a-471b-9e3c-9c02dbad7e76',\n",
       "      'container': 'users',\n",
       "      'subPath': '/admin'}},\n",
       "    'name': 'v3io'}],\n",
       "  'volume_mounts': [{'mountPath': '/User', 'name': 'v3io'}],\n",
       "  'env': [{'name': 'SERVING_MODEL_tfkeras_joblib_v2',\n",
       "    'value': '/User/mlrun/simdata'},\n",
       "   {'name': 'TRANSPORT_PROTOCOL', 'value': 'seldon'},\n",
       "   {'name': 'ENABLE_EXPLAINER', 'value': 'False'},\n",
       "   {'name': 'MODEL_CLASS', 'value': 'MyKerasClassifier'},\n",
       "   {'name': 'V3IO_API', 'value': 'v3io-webapi.default-tenant.svc:8081'},\n",
       "   {'name': 'V3IO_USERNAME', 'value': 'admin'},\n",
       "   {'name': 'V3IO_ACCESS_KEY',\n",
       "    'value': '8d4c7612-c49a-471b-9e3c-9c02dbad7e76'}],\n",
       "  'config': {'spec.triggers.http': {'kind': 'http',\n",
       "    'maxWorkers': 8,\n",
       "    'attributes': {'ingresses': {}},\n",
       "    'annotations': {}}},\n",
       "  'base_spec': {'apiVersion': 'nuclio.io/v1',\n",
       "   'kind': 'Function',\n",
       "   'metadata': {'annotations': {'nuclio.io/generated_by': 'function generated at 31-12-2019 by admin from /User/repos/demos/tf-keras/model_server.ipynb'},\n",
       "    'labels': {},\n",
       "    'name': 'tfkeras-serving-v2'},\n",
       "   'spec': {'build': {'commands': ['pip install kfserving==0.2.0',\n",
       "      'pip install  numpy==1.16.4 tensorflow==2.0.0b1',\n",
       "      'pip install -U azure joblib',\n",
       "      'pip install -U git+https://github.com/mlrun/mlrun.git@development',\n",
       "      'pip uninstall -y functions',\n",
       "      'pip install -U git+https://github.com/yjb-ds/functions-demo.git'],\n",
       "     'functionSourceCode': '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',\n",
       "     'noBaseImagesPull': True},\n",
       "    'env': [],\n",
       "    'handler': 'model_server:handler',\n",
       "    'runtime': 'python:3.6',\n",
       "    'volumes': []}},\n",
       "  'source': '',\n",
       "  'function_kind': 'serving'}}"
      ]
     },
     "execution_count": 9,
     "metadata": {},
     "output_type": "execute_result"
    }
   ],
   "source": [
    "fn.to_dict()"
   ]
  },
  {
   "cell_type": "code",
   "execution_count": 10,
   "metadata": {},
   "outputs": [
    {
     "name": "stdout",
     "output_type": "stream",
     "text": [
      "[mlrun] 2019-12-31 21:50:47,473 deploy started\n",
      "[nuclio] 2019-12-31 21:53:19,842 (info) Build complete\n",
      "[nuclio] 2019-12-31 21:53:26,926 done updating tfkeras-serving-v2, function address: 3.137.70.243:31757\n"
     ]
    }
   ],
   "source": [
    "#fn.verbose=True\n",
    "addr = fn.deploy(project=\"refactoring-demos\")"
   ]
  },
  {
   "cell_type": "markdown",
   "metadata": {},
   "source": [
    "## **test**"
   ]
  },
  {
   "cell_type": "code",
   "execution_count": 11,
   "metadata": {},
   "outputs": [],
   "source": [
    "import pyarrow.parquet as pq\n",
    "import pyarrow as pa\n",
    "import pandas as pd\n",
    "\n",
    "import requests"
   ]
  },
  {
   "cell_type": "code",
   "execution_count": 12,
   "metadata": {},
   "outputs": [],
   "source": [
    "# Grab some data - balanced dataset\n",
    "features = pd.read_csv(\"x_test_50.csv\")\n",
    "labels = pd.read_csv(\"y_test_50.csv\")"
   ]
  },
  {
   "cell_type": "code",
   "execution_count": 13,
   "metadata": {},
   "outputs": [],
   "source": [
    "# Seldon protocol event\n",
    "event_seldon = {\n",
    "    \"data\" : {\n",
    "        \"ndarray\": features.values\n",
    "    }\n",
    "}\n",
    "csel = str(event_seldon).replace(\"\\\"\", \"\\\"\").replace(\"\\n\", \"\").replace(\" \", \"\")"
   ]
  },
  {
   "cell_type": "code",
   "execution_count": 14,
   "metadata": {},
   "outputs": [],
   "source": [
    "# resp = requests.put(addr + \"/predict/tfkeras_joblib_v2\", data=csel)\n",
    "# print(resp.content)"
   ]
  },
  {
   "cell_type": "code",
   "execution_count": 15,
   "metadata": {},
   "outputs": [],
   "source": [
    "# ?????????"
   ]
  },
  {
   "cell_type": "code",
   "execution_count": 16,
   "metadata": {},
   "outputs": [
    {
     "name": "stdout",
     "output_type": "stream",
     "text": [
      "b'Exception caught in handler \"Unrecognized request format: Expecting property name enclosed in double quotes: line 1 column 2 (char 1)\": Traceback (most recent call last):\\n  File \"/usr/local/lib/python3.6/site-packages/mlrun/runtimes/serving.py\", line 96, in parse_event\\n    body = json.loads(event.body)\\n  File \"/usr/local/lib/python3.6/json/__init__.py\", line 354, in loads\\n    return _default_decoder.decode(s)\\n  File \"/usr/local/lib/python3.6/json/decoder.py\", line 339, in decode\\n    obj, end = self.raw_decode(s, idx=_w(s, 0).end())\\n  File \"/usr/local/lib/python3.6/json/decoder.py\", line 355, in raw_decode\\n    obj, end = self.scan_once(s, idx)\\njson.decoder.JSONDecodeError: Expecting property name enclosed in double quotes: line 1 column 2 (char 1)\\n\\nDuring handling of the above exception, another exception occurred:\\n\\nTraceback (most recent call last):\\n  File \"/opt/nuclio/_nuclio_wrapper.py\", line 176, in serve_requests\\n    entrypoint_output = self._entrypoint(self._context, event)\\n  File \"/opt/nuclio/model_server.py\", line 72, in handler\\n    return context.mlrun_handler(context, event)\\n  File \"/usr/local/lib/python3.6/site-packages/mlrun/runtimes/serving.py\", line 67, in nuclio_serving_handler\\n    return route(context, model_name, event)\\n  File \"/usr/local/lib/python3.6/site-packages/mlrun/runtimes/serving.py\", line 132, in post\\n    body = self.parse_event(event)\\n  File \"/usr/local/lib/python3.6/site-packages/mlrun/runtimes/serving.py\", line 114, in parse_event\\n    raise Exception(\"Unrecognized request format: %s\" % e)\\nException: Unrecognized request format: Expecting property name enclosed in double quotes: line 1 column 2 (char 1)\\n'\n"
     ]
    }
   ],
   "source": [
    "resp = requests.put(addr + \"/tfkeras_joblib_v2/predict\", data=csel)\n",
    "print(resp.content)"
   ]
  },
  {
   "cell_type": "code",
   "execution_count": null,
   "metadata": {},
   "outputs": [],
   "source": []
  },
  {
   "cell_type": "code",
   "execution_count": null,
   "metadata": {},
   "outputs": [],
   "source": []
  }
 ],
 "metadata": {
  "kernelspec": {
   "display_name": "Python 3",
   "language": "python",
   "name": "python3"
  },
  "language_info": {
   "codemirror_mode": {
    "name": "ipython",
    "version": 3
   },
   "file_extension": ".py",
   "mimetype": "text/x-python",
   "name": "python",
   "nbconvert_exporter": "python",
   "pygments_lexer": "ipython3",
   "version": "3.6.8"
  }
 },
 "nbformat": 4,
 "nbformat_minor": 4
}
